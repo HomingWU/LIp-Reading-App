{
 "cells": [
  {
   "metadata": {},
   "cell_type": "markdown",
   "source": "Install Required Libraries",
   "id": "aeed6c8935f418d2"
  },
  {
   "cell_type": "code",
   "id": "initial_id",
   "metadata": {
    "collapsed": true,
    "ExecuteTime": {
     "end_time": "2024-05-23T02:38:51.775797Z",
     "start_time": "2024-05-23T02:38:50.873127Z"
    }
   },
   "source": "!pip list",
   "outputs": [
    {
     "name": "stdout",
     "output_type": "stream",
     "text": [
      "Package                      Version\r\n",
      "---------------------------- --------------\r\n",
      "absl-py                      2.1.0\r\n",
      "anyio                        4.3.0\r\n",
      "appnope                      0.1.4\r\n",
      "argon2-cffi                  23.1.0\r\n",
      "argon2-cffi-bindings         21.2.0\r\n",
      "arrow                        1.3.0\r\n",
      "asttokens                    2.4.1\r\n",
      "astunparse                   1.6.3\r\n",
      "async-lru                    2.0.4\r\n",
      "attrs                        23.2.0\r\n",
      "Babel                        2.15.0\r\n",
      "beautifulsoup4               4.12.3\r\n",
      "bleach                       6.1.0\r\n",
      "certifi                      2023.5.7\r\n",
      "cffi                         1.16.0\r\n",
      "charset-normalizer           3.1.0\r\n",
      "click                        8.1.3\r\n",
      "comm                         0.2.2\r\n",
      "contourpy                    1.0.7\r\n",
      "curve                        0.0.7\r\n",
      "cycler                       0.11.0\r\n",
      "debugpy                      1.8.1\r\n",
      "decorator                    5.1.1\r\n",
      "defusedxml                   0.7.1\r\n",
      "exceptiongroup               1.2.1\r\n",
      "executing                    2.0.1\r\n",
      "fastjsonschema               2.19.1\r\n",
      "filelock                     3.14.0\r\n",
      "flatbuffers                  24.3.25\r\n",
      "fonttools                    4.38.0\r\n",
      "fqdn                         1.5.1\r\n",
      "gast                         0.5.4\r\n",
      "gdown                        5.2.0\r\n",
      "google-pasta                 0.2.0\r\n",
      "grpcio                       1.63.0\r\n",
      "h11                          0.14.0\r\n",
      "h5py                         3.11.0\r\n",
      "httpcore                     1.0.5\r\n",
      "httpx                        0.27.0\r\n",
      "idna                         3.4\r\n",
      "imageio                      2.34.1\r\n",
      "importlib_metadata           7.1.0\r\n",
      "importlib-resources          5.12.0\r\n",
      "ipykernel                    6.29.4\r\n",
      "ipython                      8.18.1\r\n",
      "ipywidgets                   8.1.2\r\n",
      "isoduration                  20.11.0\r\n",
      "jedi                         0.19.1\r\n",
      "Jinja2                       3.1.4\r\n",
      "joblib                       1.2.0\r\n",
      "json5                        0.9.25\r\n",
      "jsonpointer                  2.4\r\n",
      "jsonschema                   4.22.0\r\n",
      "jsonschema-specifications    2023.12.1\r\n",
      "jupyter                      1.0.0\r\n",
      "jupyter_client               8.6.1\r\n",
      "jupyter-console              6.6.3\r\n",
      "jupyter_core                 5.7.2\r\n",
      "jupyter-events               0.10.0\r\n",
      "jupyter-lsp                  2.2.5\r\n",
      "jupyter_server               2.14.0\r\n",
      "jupyter_server_terminals     0.5.3\r\n",
      "jupyterlab                   4.2.0\r\n",
      "jupyterlab_pygments          0.3.0\r\n",
      "jupyterlab_server            2.27.1\r\n",
      "jupyterlab_widgets           3.0.10\r\n",
      "keras                        3.3.3\r\n",
      "kiwisolver                   1.4.4\r\n",
      "libclang                     18.1.1\r\n",
      "line                         0.8.2\r\n",
      "line-profiler                4.0.4\r\n",
      "Markdown                     3.6\r\n",
      "markdown-it-py               3.0.0\r\n",
      "MarkupSafe                   2.1.5\r\n",
      "matplotlib                   3.7.0\r\n",
      "matplotlib-inline            0.1.7\r\n",
      "mdurl                        0.1.2\r\n",
      "mistune                      3.0.2\r\n",
      "ml-dtypes                    0.3.2\r\n",
      "namex                        0.0.8\r\n",
      "nbclient                     0.10.0\r\n",
      "nbconvert                    7.16.4\r\n",
      "nbformat                     5.10.4\r\n",
      "nest-asyncio                 1.6.0\r\n",
      "nltk                         3.8.1\r\n",
      "notebook                     7.2.0\r\n",
      "notebook_shim                0.2.4\r\n",
      "numpy                        1.24.2\r\n",
      "opencv-python                4.9.0.80\r\n",
      "opt-einsum                   3.3.0\r\n",
      "optree                       0.11.0\r\n",
      "overrides                    7.7.0\r\n",
      "packaging                    23.0\r\n",
      "pandocfilters                1.5.1\r\n",
      "parso                        0.8.4\r\n",
      "pexpect                      4.9.0\r\n",
      "Pillow                       9.4.0\r\n",
      "pip                          24.0\r\n",
      "platformdirs                 4.2.2\r\n",
      "prometheus_client            0.20.0\r\n",
      "prompt-toolkit               3.0.43\r\n",
      "protobuf                     4.25.3\r\n",
      "psutil                       5.9.8\r\n",
      "ptyprocess                   0.7.0\r\n",
      "pure-eval                    0.2.2\r\n",
      "pyasn1                       0.5.0\r\n",
      "pycparser                    2.22\r\n",
      "Pygments                     2.18.0\r\n",
      "pyparsing                    3.0.9\r\n",
      "PySocks                      1.7.1\r\n",
      "python-dateutil              2.8.2\r\n",
      "python-json-logger           2.0.7\r\n",
      "PyYAML                       6.0.1\r\n",
      "pyzmq                        26.0.3\r\n",
      "qtconsole                    5.5.2\r\n",
      "QtPy                         2.4.1\r\n",
      "referencing                  0.35.1\r\n",
      "regex                        2023.5.5\r\n",
      "requests                     2.31.0\r\n",
      "rfc3339-validator            0.1.4\r\n",
      "rfc3986-validator            0.1.1\r\n",
      "rich                         13.7.1\r\n",
      "rpds-py                      0.18.1\r\n",
      "rsa                          4.9\r\n",
      "scipy                        1.10.1\r\n",
      "Send2Trash                   1.8.3\r\n",
      "sequential                   1.0.0\r\n",
      "setuptools                   69.2.0\r\n",
      "six                          1.16.0\r\n",
      "sniffio                      1.3.1\r\n",
      "soupsieve                    2.5\r\n",
      "stack-data                   0.6.3\r\n",
      "tensorboard                  2.16.2\r\n",
      "tensorboard-data-server      0.7.2\r\n",
      "tensorflow                   2.16.1\r\n",
      "tensorflow-io-gcs-filesystem 0.37.0\r\n",
      "termcolor                    2.4.0\r\n",
      "terminado                    0.18.1\r\n",
      "tinycss2                     1.3.0\r\n",
      "tk                           0.1.0\r\n",
      "tomli                        2.0.1\r\n",
      "tornado                      6.4\r\n",
      "tqdm                         4.65.0\r\n",
      "traitlets                    5.14.3\r\n",
      "types-python-dateutil        2.9.0.20240316\r\n",
      "typing_extensions            4.11.0\r\n",
      "uri-template                 1.3.0\r\n",
      "urllib3                      2.0.2\r\n",
      "wcwidth                      0.2.13\r\n",
      "webcolors                    1.13\r\n",
      "webencodings                 0.5.1\r\n",
      "websocket-client             1.8.0\r\n",
      "Werkzeug                     3.0.3\r\n",
      "wheel                        0.43.0\r\n",
      "widgetsnbextension           4.0.10\r\n",
      "wrapt                        1.16.0\r\n",
      "zipp                         3.15.0\r\n"
     ]
    }
   ],
   "execution_count": 1
  },
  {
   "metadata": {
    "ExecuteTime": {
     "end_time": "2024-05-23T02:38:54.791473Z",
     "start_time": "2024-05-23T02:38:51.956796Z"
    }
   },
   "cell_type": "code",
   "source": "!pip install opencv-python matplotlib imageio gdown tensorflow",
   "id": "2dc35e3c3bee7556",
   "outputs": [
    {
     "name": "stdout",
     "output_type": "stream",
     "text": [
      "\u001B[33mDEPRECATION: Configuring installation scheme with distutils config files is deprecated and will no longer work in the near future. If you are using a Homebrew or Linuxbrew Python, please see discussion at https://github.com/Homebrew/homebrew-core/issues/76621\u001B[0m\u001B[33m\r\n",
      "\u001B[0mRequirement already satisfied: opencv-python in /usr/local/lib/python3.9/site-packages (4.9.0.80)\r\n",
      "Requirement already satisfied: matplotlib in /usr/local/lib/python3.9/site-packages (3.7.0)\r\n",
      "Requirement already satisfied: imageio in /usr/local/lib/python3.9/site-packages (2.34.1)\r\n",
      "Requirement already satisfied: gdown in /usr/local/lib/python3.9/site-packages (5.2.0)\r\n",
      "Requirement already satisfied: tensorflow in /usr/local/lib/python3.9/site-packages (2.16.1)\r\n",
      "Requirement already satisfied: numpy>=1.17.0 in /usr/local/lib/python3.9/site-packages (from opencv-python) (1.24.2)\r\n",
      "Requirement already satisfied: contourpy>=1.0.1 in /usr/local/lib/python3.9/site-packages (from matplotlib) (1.0.7)\r\n",
      "Requirement already satisfied: cycler>=0.10 in /usr/local/lib/python3.9/site-packages (from matplotlib) (0.11.0)\r\n",
      "Requirement already satisfied: fonttools>=4.22.0 in /usr/local/lib/python3.9/site-packages (from matplotlib) (4.38.0)\r\n",
      "Requirement already satisfied: kiwisolver>=1.0.1 in /usr/local/lib/python3.9/site-packages (from matplotlib) (1.4.4)\r\n",
      "Requirement already satisfied: packaging>=20.0 in /usr/local/lib/python3.9/site-packages (from matplotlib) (23.0)\r\n",
      "Requirement already satisfied: pillow>=6.2.0 in /usr/local/lib/python3.9/site-packages (from matplotlib) (9.4.0)\r\n",
      "Requirement already satisfied: pyparsing>=2.3.1 in /usr/local/lib/python3.9/site-packages (from matplotlib) (3.0.9)\r\n",
      "Requirement already satisfied: python-dateutil>=2.7 in /usr/local/lib/python3.9/site-packages (from matplotlib) (2.8.2)\r\n",
      "Requirement already satisfied: importlib-resources>=3.2.0 in /usr/local/lib/python3.9/site-packages (from matplotlib) (5.12.0)\r\n",
      "Requirement already satisfied: beautifulsoup4 in /usr/local/lib/python3.9/site-packages (from gdown) (4.12.3)\r\n",
      "Requirement already satisfied: filelock in /usr/local/lib/python3.9/site-packages (from gdown) (3.14.0)\r\n",
      "Requirement already satisfied: requests[socks] in /usr/local/lib/python3.9/site-packages (from gdown) (2.31.0)\r\n",
      "Requirement already satisfied: tqdm in /usr/local/lib/python3.9/site-packages (from gdown) (4.65.0)\r\n",
      "Requirement already satisfied: absl-py>=1.0.0 in /usr/local/lib/python3.9/site-packages (from tensorflow) (2.1.0)\r\n",
      "Requirement already satisfied: astunparse>=1.6.0 in /usr/local/lib/python3.9/site-packages (from tensorflow) (1.6.3)\r\n",
      "Requirement already satisfied: flatbuffers>=23.5.26 in /usr/local/lib/python3.9/site-packages (from tensorflow) (24.3.25)\r\n",
      "Requirement already satisfied: gast!=0.5.0,!=0.5.1,!=0.5.2,>=0.2.1 in /usr/local/lib/python3.9/site-packages (from tensorflow) (0.5.4)\r\n",
      "Requirement already satisfied: google-pasta>=0.1.1 in /usr/local/lib/python3.9/site-packages (from tensorflow) (0.2.0)\r\n",
      "Requirement already satisfied: h5py>=3.10.0 in /usr/local/lib/python3.9/site-packages (from tensorflow) (3.11.0)\r\n",
      "Requirement already satisfied: libclang>=13.0.0 in /usr/local/lib/python3.9/site-packages (from tensorflow) (18.1.1)\r\n",
      "Requirement already satisfied: ml-dtypes~=0.3.1 in /usr/local/lib/python3.9/site-packages (from tensorflow) (0.3.2)\r\n",
      "Requirement already satisfied: opt-einsum>=2.3.2 in /usr/local/lib/python3.9/site-packages (from tensorflow) (3.3.0)\r\n",
      "Requirement already satisfied: protobuf!=4.21.0,!=4.21.1,!=4.21.2,!=4.21.3,!=4.21.4,!=4.21.5,<5.0.0dev,>=3.20.3 in /usr/local/lib/python3.9/site-packages (from tensorflow) (4.25.3)\r\n",
      "Requirement already satisfied: setuptools in /usr/local/lib/python3.9/site-packages (from tensorflow) (69.2.0)\r\n",
      "Requirement already satisfied: six>=1.12.0 in /usr/local/lib/python3.9/site-packages (from tensorflow) (1.16.0)\r\n",
      "Requirement already satisfied: termcolor>=1.1.0 in /usr/local/lib/python3.9/site-packages (from tensorflow) (2.4.0)\r\n",
      "Requirement already satisfied: typing-extensions>=3.6.6 in /usr/local/lib/python3.9/site-packages (from tensorflow) (4.11.0)\r\n",
      "Requirement already satisfied: wrapt>=1.11.0 in /usr/local/lib/python3.9/site-packages (from tensorflow) (1.16.0)\r\n",
      "Requirement already satisfied: grpcio<2.0,>=1.24.3 in /usr/local/lib/python3.9/site-packages (from tensorflow) (1.63.0)\r\n",
      "Requirement already satisfied: tensorboard<2.17,>=2.16 in /usr/local/lib/python3.9/site-packages (from tensorflow) (2.16.2)\r\n",
      "Requirement already satisfied: keras>=3.0.0 in /usr/local/lib/python3.9/site-packages (from tensorflow) (3.3.3)\r\n",
      "Requirement already satisfied: tensorflow-io-gcs-filesystem>=0.23.1 in /usr/local/lib/python3.9/site-packages (from tensorflow) (0.37.0)\r\n",
      "Requirement already satisfied: wheel<1.0,>=0.23.0 in /usr/local/lib/python3.9/site-packages (from astunparse>=1.6.0->tensorflow) (0.43.0)\r\n",
      "Requirement already satisfied: zipp>=3.1.0 in /usr/local/lib/python3.9/site-packages (from importlib-resources>=3.2.0->matplotlib) (3.15.0)\r\n",
      "Requirement already satisfied: rich in /usr/local/lib/python3.9/site-packages (from keras>=3.0.0->tensorflow) (13.7.1)\r\n",
      "Requirement already satisfied: namex in /usr/local/lib/python3.9/site-packages (from keras>=3.0.0->tensorflow) (0.0.8)\r\n",
      "Requirement already satisfied: optree in /usr/local/lib/python3.9/site-packages (from keras>=3.0.0->tensorflow) (0.11.0)\r\n",
      "Requirement already satisfied: charset-normalizer<4,>=2 in /usr/local/lib/python3.9/site-packages (from requests[socks]->gdown) (3.1.0)\r\n",
      "Requirement already satisfied: idna<4,>=2.5 in /usr/local/lib/python3.9/site-packages (from requests[socks]->gdown) (3.4)\r\n",
      "Requirement already satisfied: urllib3<3,>=1.21.1 in /usr/local/lib/python3.9/site-packages (from requests[socks]->gdown) (2.0.2)\r\n",
      "Requirement already satisfied: certifi>=2017.4.17 in /usr/local/lib/python3.9/site-packages (from requests[socks]->gdown) (2023.5.7)\r\n",
      "Requirement already satisfied: markdown>=2.6.8 in /usr/local/lib/python3.9/site-packages (from tensorboard<2.17,>=2.16->tensorflow) (3.6)\r\n",
      "Requirement already satisfied: tensorboard-data-server<0.8.0,>=0.7.0 in /usr/local/lib/python3.9/site-packages (from tensorboard<2.17,>=2.16->tensorflow) (0.7.2)\r\n",
      "Requirement already satisfied: werkzeug>=1.0.1 in /usr/local/lib/python3.9/site-packages (from tensorboard<2.17,>=2.16->tensorflow) (3.0.3)\r\n",
      "Requirement already satisfied: soupsieve>1.2 in /usr/local/lib/python3.9/site-packages (from beautifulsoup4->gdown) (2.5)\r\n",
      "Requirement already satisfied: PySocks!=1.5.7,>=1.5.6 in /usr/local/lib/python3.9/site-packages (from requests[socks]->gdown) (1.7.1)\r\n",
      "Requirement already satisfied: importlib-metadata>=4.4 in /usr/local/lib/python3.9/site-packages (from markdown>=2.6.8->tensorboard<2.17,>=2.16->tensorflow) (7.1.0)\r\n",
      "Requirement already satisfied: MarkupSafe>=2.1.1 in /usr/local/lib/python3.9/site-packages (from werkzeug>=1.0.1->tensorboard<2.17,>=2.16->tensorflow) (2.1.5)\r\n",
      "Requirement already satisfied: markdown-it-py>=2.2.0 in /usr/local/lib/python3.9/site-packages (from rich->keras>=3.0.0->tensorflow) (3.0.0)\r\n",
      "Requirement already satisfied: pygments<3.0.0,>=2.13.0 in /usr/local/lib/python3.9/site-packages (from rich->keras>=3.0.0->tensorflow) (2.18.0)\r\n",
      "Requirement already satisfied: mdurl~=0.1 in /usr/local/lib/python3.9/site-packages (from markdown-it-py>=2.2.0->rich->keras>=3.0.0->tensorflow) (0.1.2)\r\n",
      "\u001B[33mDEPRECATION: Configuring installation scheme with distutils config files is deprecated and will no longer work in the near future. If you are using a Homebrew or Linuxbrew Python, please see discussion at https://github.com/Homebrew/homebrew-core/issues/76621\u001B[0m\u001B[33m\r\n",
      "\u001B[0m"
     ]
    }
   ],
   "execution_count": 2
  },
  {
   "metadata": {
    "ExecuteTime": {
     "end_time": "2024-05-23T02:39:03.718377Z",
     "start_time": "2024-05-23T02:38:55.790121Z"
    }
   },
   "cell_type": "code",
   "source": [
    "import os\n",
    "import cv2\n",
    "import numpy as np\n",
    "import matplotlib.pyplot as plt\n",
    "import imageio\n",
    "import gdown\n",
    "import tensorflow as tf\n",
    "from typing import List"
   ],
   "id": "bbd3812549a1b70b",
   "outputs": [
    {
     "name": "stderr",
     "output_type": "stream",
     "text": [
      "2024-05-22 22:39:01.641165: I tensorflow/core/platform/cpu_feature_guard.cc:210] This TensorFlow binary is optimized to use available CPU instructions in performance-critical operations.\n",
      "To enable the following instructions: AVX2 FMA, in other operations, rebuild TensorFlow with the appropriate compiler flags.\n"
     ]
    }
   ],
   "execution_count": 3
  },
  {
   "metadata": {
    "ExecuteTime": {
     "end_time": "2024-05-23T02:39:19.474298Z",
     "start_time": "2024-05-23T02:39:19.467520Z"
    }
   },
   "cell_type": "code",
   "source": "#tf.config.list_physical_devices('GPU')",
   "id": "be7886464c7ffeaa",
   "outputs": [],
   "execution_count": 4
  },
  {
   "metadata": {
    "ExecuteTime": {
     "end_time": "2024-05-23T02:39:19.951261Z",
     "start_time": "2024-05-23T02:39:19.941771Z"
    }
   },
   "cell_type": "code",
   "source": [
    "'''\n",
    "physical_devices = tf.config.list_physical_devices('GPU')\n",
    "try:\n",
    "    tf.config.experimental.set_memory_growth(physical_devices[0], True)\n",
    "except:\n",
    "    pass\n",
    "    '''"
   ],
   "id": "dc5ec6ac5892f4ab",
   "outputs": [
    {
     "data": {
      "text/plain": [
       "\"\\nphysical_devices = tf.config.list_physical_devices('GPU')\\ntry:\\n    tf.config.experimental.set_memory_growth(physical_devices[0], True)\\nexcept:\\n    pass\\n    \""
      ]
     },
     "execution_count": 5,
     "metadata": {},
     "output_type": "execute_result"
    }
   ],
   "execution_count": 5
  },
  {
   "metadata": {
    "ExecuteTime": {
     "end_time": "2024-05-23T02:27:57.812879Z",
     "start_time": "2024-05-23T02:27:49.856959Z"
    }
   },
   "cell_type": "code",
   "source": [
    "url = 'https://drive.google.com/uc?id=1YlvpDLix3S-U8fd-gqRwPcWXAXm8JwjL'\n",
    "output = 'data.zip'\n",
    "gdown.download(url, output, quiet=False)\n",
    "gdown.extractall('data.zip')"
   ],
   "id": "2bc1efb81d25cb10",
   "outputs": [
    {
     "name": "stderr",
     "output_type": "stream",
     "text": [
      "Downloading...\n",
      "From (original): https://drive.google.com/uc?id=1YlvpDLix3S-U8fd-gqRwPcWXAXm8JwjL\n",
      "From (redirected): https://drive.google.com/uc?id=1YlvpDLix3S-U8fd-gqRwPcWXAXm8JwjL&confirm=t&uuid=2742d3d8-2a9a-4a66-9503-4beb7c6347e5\n",
      "To: /Users/wuhaoming/Documents/GitHub/LIp-Reading-App/data.zip\n",
      " 29%|██▉       | 124M/423M [00:05<00:10, 29.4MB/s] "
     ]
    },
    {
     "ename": "KeyboardInterrupt",
     "evalue": "",
     "output_type": "error",
     "traceback": [
      "\u001B[0;31m---------------------------------------------------------------------------\u001B[0m",
      "\u001B[0;31mKeyboardInterrupt\u001B[0m                         Traceback (most recent call last)",
      "Cell \u001B[0;32mIn[46], line 3\u001B[0m\n\u001B[1;32m      1\u001B[0m url \u001B[38;5;241m=\u001B[39m \u001B[38;5;124m'\u001B[39m\u001B[38;5;124mhttps://drive.google.com/uc?id=1YlvpDLix3S-U8fd-gqRwPcWXAXm8JwjL\u001B[39m\u001B[38;5;124m'\u001B[39m\n\u001B[1;32m      2\u001B[0m output \u001B[38;5;241m=\u001B[39m \u001B[38;5;124m'\u001B[39m\u001B[38;5;124mdata.zip\u001B[39m\u001B[38;5;124m'\u001B[39m\n\u001B[0;32m----> 3\u001B[0m \u001B[43mgdown\u001B[49m\u001B[38;5;241;43m.\u001B[39;49m\u001B[43mdownload\u001B[49m\u001B[43m(\u001B[49m\u001B[43murl\u001B[49m\u001B[43m,\u001B[49m\u001B[43m \u001B[49m\u001B[43moutput\u001B[49m\u001B[43m,\u001B[49m\u001B[43m \u001B[49m\u001B[43mquiet\u001B[49m\u001B[38;5;241;43m=\u001B[39;49m\u001B[38;5;28;43;01mFalse\u001B[39;49;00m\u001B[43m)\u001B[49m\n\u001B[1;32m      4\u001B[0m gdown\u001B[38;5;241m.\u001B[39mextractall(\u001B[38;5;124m'\u001B[39m\u001B[38;5;124mdata.zip\u001B[39m\u001B[38;5;124m'\u001B[39m)\n",
      "File \u001B[0;32m/usr/local/lib/python3.9/site-packages/gdown/download.py:368\u001B[0m, in \u001B[0;36mdownload\u001B[0;34m(url, output, quiet, proxy, speed, use_cookies, verify, id, fuzzy, resume, format, user_agent, log_messages)\u001B[0m\n\u001B[1;32m    366\u001B[0m     pbar \u001B[38;5;241m=\u001B[39m tqdm\u001B[38;5;241m.\u001B[39mtqdm(total\u001B[38;5;241m=\u001B[39mtotal, unit\u001B[38;5;241m=\u001B[39m\u001B[38;5;124m\"\u001B[39m\u001B[38;5;124mB\u001B[39m\u001B[38;5;124m\"\u001B[39m, initial\u001B[38;5;241m=\u001B[39mstart_size, unit_scale\u001B[38;5;241m=\u001B[39m\u001B[38;5;28;01mTrue\u001B[39;00m)\n\u001B[1;32m    367\u001B[0m t_start \u001B[38;5;241m=\u001B[39m time\u001B[38;5;241m.\u001B[39mtime()\n\u001B[0;32m--> 368\u001B[0m \u001B[38;5;28;01mfor\u001B[39;00m chunk \u001B[38;5;129;01min\u001B[39;00m res\u001B[38;5;241m.\u001B[39miter_content(chunk_size\u001B[38;5;241m=\u001B[39mCHUNK_SIZE):\n\u001B[1;32m    369\u001B[0m     f\u001B[38;5;241m.\u001B[39mwrite(chunk)\n\u001B[1;32m    370\u001B[0m     \u001B[38;5;28;01mif\u001B[39;00m \u001B[38;5;129;01mnot\u001B[39;00m quiet:\n",
      "File \u001B[0;32m/usr/local/lib/python3.9/site-packages/requests/models.py:816\u001B[0m, in \u001B[0;36mResponse.iter_content.<locals>.generate\u001B[0;34m()\u001B[0m\n\u001B[1;32m    814\u001B[0m \u001B[38;5;28;01mif\u001B[39;00m \u001B[38;5;28mhasattr\u001B[39m(\u001B[38;5;28mself\u001B[39m\u001B[38;5;241m.\u001B[39mraw, \u001B[38;5;124m\"\u001B[39m\u001B[38;5;124mstream\u001B[39m\u001B[38;5;124m\"\u001B[39m):\n\u001B[1;32m    815\u001B[0m     \u001B[38;5;28;01mtry\u001B[39;00m:\n\u001B[0;32m--> 816\u001B[0m         \u001B[38;5;28;01myield from\u001B[39;00m \u001B[38;5;28mself\u001B[39m\u001B[38;5;241m.\u001B[39mraw\u001B[38;5;241m.\u001B[39mstream(chunk_size, decode_content\u001B[38;5;241m=\u001B[39m\u001B[38;5;28;01mTrue\u001B[39;00m)\n\u001B[1;32m    817\u001B[0m     \u001B[38;5;28;01mexcept\u001B[39;00m ProtocolError \u001B[38;5;28;01mas\u001B[39;00m e:\n\u001B[1;32m    818\u001B[0m         \u001B[38;5;28;01mraise\u001B[39;00m ChunkedEncodingError(e)\n",
      "File \u001B[0;32m/usr/local/lib/python3.9/site-packages/urllib3/response.py:935\u001B[0m, in \u001B[0;36mHTTPResponse.stream\u001B[0;34m(self, amt, decode_content)\u001B[0m\n\u001B[1;32m    933\u001B[0m \u001B[38;5;28;01melse\u001B[39;00m:\n\u001B[1;32m    934\u001B[0m     \u001B[38;5;28;01mwhile\u001B[39;00m \u001B[38;5;129;01mnot\u001B[39;00m is_fp_closed(\u001B[38;5;28mself\u001B[39m\u001B[38;5;241m.\u001B[39m_fp) \u001B[38;5;129;01mor\u001B[39;00m \u001B[38;5;28mlen\u001B[39m(\u001B[38;5;28mself\u001B[39m\u001B[38;5;241m.\u001B[39m_decoded_buffer) \u001B[38;5;241m>\u001B[39m \u001B[38;5;241m0\u001B[39m:\n\u001B[0;32m--> 935\u001B[0m         data \u001B[38;5;241m=\u001B[39m \u001B[38;5;28;43mself\u001B[39;49m\u001B[38;5;241;43m.\u001B[39;49m\u001B[43mread\u001B[49m\u001B[43m(\u001B[49m\u001B[43mamt\u001B[49m\u001B[38;5;241;43m=\u001B[39;49m\u001B[43mamt\u001B[49m\u001B[43m,\u001B[49m\u001B[43m \u001B[49m\u001B[43mdecode_content\u001B[49m\u001B[38;5;241;43m=\u001B[39;49m\u001B[43mdecode_content\u001B[49m\u001B[43m)\u001B[49m\n\u001B[1;32m    937\u001B[0m         \u001B[38;5;28;01mif\u001B[39;00m data:\n\u001B[1;32m    938\u001B[0m             \u001B[38;5;28;01myield\u001B[39;00m data\n",
      "File \u001B[0;32m/usr/local/lib/python3.9/site-packages/urllib3/response.py:874\u001B[0m, in \u001B[0;36mHTTPResponse.read\u001B[0;34m(self, amt, decode_content, cache_content)\u001B[0m\n\u001B[1;32m    871\u001B[0m     \u001B[38;5;28;01mif\u001B[39;00m \u001B[38;5;28mlen\u001B[39m(\u001B[38;5;28mself\u001B[39m\u001B[38;5;241m.\u001B[39m_decoded_buffer) \u001B[38;5;241m>\u001B[39m\u001B[38;5;241m=\u001B[39m amt:\n\u001B[1;32m    872\u001B[0m         \u001B[38;5;28;01mreturn\u001B[39;00m \u001B[38;5;28mself\u001B[39m\u001B[38;5;241m.\u001B[39m_decoded_buffer\u001B[38;5;241m.\u001B[39mget(amt)\n\u001B[0;32m--> 874\u001B[0m data \u001B[38;5;241m=\u001B[39m \u001B[38;5;28;43mself\u001B[39;49m\u001B[38;5;241;43m.\u001B[39;49m\u001B[43m_raw_read\u001B[49m\u001B[43m(\u001B[49m\u001B[43mamt\u001B[49m\u001B[43m)\u001B[49m\n\u001B[1;32m    876\u001B[0m flush_decoder \u001B[38;5;241m=\u001B[39m \u001B[38;5;28;01mFalse\u001B[39;00m\n\u001B[1;32m    877\u001B[0m \u001B[38;5;28;01mif\u001B[39;00m amt \u001B[38;5;129;01mis\u001B[39;00m \u001B[38;5;28;01mNone\u001B[39;00m:\n",
      "File \u001B[0;32m/usr/local/lib/python3.9/site-packages/urllib3/response.py:809\u001B[0m, in \u001B[0;36mHTTPResponse._raw_read\u001B[0;34m(self, amt)\u001B[0m\n\u001B[1;32m    806\u001B[0m fp_closed \u001B[38;5;241m=\u001B[39m \u001B[38;5;28mgetattr\u001B[39m(\u001B[38;5;28mself\u001B[39m\u001B[38;5;241m.\u001B[39m_fp, \u001B[38;5;124m\"\u001B[39m\u001B[38;5;124mclosed\u001B[39m\u001B[38;5;124m\"\u001B[39m, \u001B[38;5;28;01mFalse\u001B[39;00m)\n\u001B[1;32m    808\u001B[0m \u001B[38;5;28;01mwith\u001B[39;00m \u001B[38;5;28mself\u001B[39m\u001B[38;5;241m.\u001B[39m_error_catcher():\n\u001B[0;32m--> 809\u001B[0m     data \u001B[38;5;241m=\u001B[39m \u001B[38;5;28;43mself\u001B[39;49m\u001B[38;5;241;43m.\u001B[39;49m\u001B[43m_fp_read\u001B[49m\u001B[43m(\u001B[49m\u001B[43mamt\u001B[49m\u001B[43m)\u001B[49m \u001B[38;5;28;01mif\u001B[39;00m \u001B[38;5;129;01mnot\u001B[39;00m fp_closed \u001B[38;5;28;01melse\u001B[39;00m \u001B[38;5;124mb\u001B[39m\u001B[38;5;124m\"\u001B[39m\u001B[38;5;124m\"\u001B[39m\n\u001B[1;32m    810\u001B[0m     \u001B[38;5;28;01mif\u001B[39;00m amt \u001B[38;5;129;01mis\u001B[39;00m \u001B[38;5;129;01mnot\u001B[39;00m \u001B[38;5;28;01mNone\u001B[39;00m \u001B[38;5;129;01mand\u001B[39;00m amt \u001B[38;5;241m!=\u001B[39m \u001B[38;5;241m0\u001B[39m \u001B[38;5;129;01mand\u001B[39;00m \u001B[38;5;129;01mnot\u001B[39;00m data:\n\u001B[1;32m    811\u001B[0m         \u001B[38;5;66;03m# Platform-specific: Buggy versions of Python.\u001B[39;00m\n\u001B[1;32m    812\u001B[0m         \u001B[38;5;66;03m# Close the connection when no data is returned\u001B[39;00m\n\u001B[0;32m   (...)\u001B[0m\n\u001B[1;32m    817\u001B[0m         \u001B[38;5;66;03m# not properly close the connection in all cases. There is\u001B[39;00m\n\u001B[1;32m    818\u001B[0m         \u001B[38;5;66;03m# no harm in redundantly calling close.\u001B[39;00m\n\u001B[1;32m    819\u001B[0m         \u001B[38;5;28mself\u001B[39m\u001B[38;5;241m.\u001B[39m_fp\u001B[38;5;241m.\u001B[39mclose()\n",
      "File \u001B[0;32m/usr/local/lib/python3.9/site-packages/urllib3/response.py:794\u001B[0m, in \u001B[0;36mHTTPResponse._fp_read\u001B[0;34m(self, amt)\u001B[0m\n\u001B[1;32m    791\u001B[0m     \u001B[38;5;28;01mreturn\u001B[39;00m buffer\u001B[38;5;241m.\u001B[39mgetvalue()\n\u001B[1;32m    792\u001B[0m \u001B[38;5;28;01melse\u001B[39;00m:\n\u001B[1;32m    793\u001B[0m     \u001B[38;5;66;03m# StringIO doesn't like amt=None\u001B[39;00m\n\u001B[0;32m--> 794\u001B[0m     \u001B[38;5;28;01mreturn\u001B[39;00m \u001B[38;5;28;43mself\u001B[39;49m\u001B[38;5;241;43m.\u001B[39;49m\u001B[43m_fp\u001B[49m\u001B[38;5;241;43m.\u001B[39;49m\u001B[43mread\u001B[49m\u001B[43m(\u001B[49m\u001B[43mamt\u001B[49m\u001B[43m)\u001B[49m \u001B[38;5;28;01mif\u001B[39;00m amt \u001B[38;5;129;01mis\u001B[39;00m \u001B[38;5;129;01mnot\u001B[39;00m \u001B[38;5;28;01mNone\u001B[39;00m \u001B[38;5;28;01melse\u001B[39;00m \u001B[38;5;28mself\u001B[39m\u001B[38;5;241m.\u001B[39m_fp\u001B[38;5;241m.\u001B[39mread()\n",
      "File \u001B[0;32m/usr/local/Cellar/python@3.9/3.9.19/Frameworks/Python.framework/Versions/3.9/lib/python3.9/http/client.py:463\u001B[0m, in \u001B[0;36mHTTPResponse.read\u001B[0;34m(self, amt)\u001B[0m\n\u001B[1;32m    460\u001B[0m \u001B[38;5;28;01mif\u001B[39;00m amt \u001B[38;5;129;01mis\u001B[39;00m \u001B[38;5;129;01mnot\u001B[39;00m \u001B[38;5;28;01mNone\u001B[39;00m:\n\u001B[1;32m    461\u001B[0m     \u001B[38;5;66;03m# Amount is given, implement using readinto\u001B[39;00m\n\u001B[1;32m    462\u001B[0m     b \u001B[38;5;241m=\u001B[39m \u001B[38;5;28mbytearray\u001B[39m(amt)\n\u001B[0;32m--> 463\u001B[0m     n \u001B[38;5;241m=\u001B[39m \u001B[38;5;28;43mself\u001B[39;49m\u001B[38;5;241;43m.\u001B[39;49m\u001B[43mreadinto\u001B[49m\u001B[43m(\u001B[49m\u001B[43mb\u001B[49m\u001B[43m)\u001B[49m\n\u001B[1;32m    464\u001B[0m     \u001B[38;5;28;01mreturn\u001B[39;00m \u001B[38;5;28mmemoryview\u001B[39m(b)[:n]\u001B[38;5;241m.\u001B[39mtobytes()\n\u001B[1;32m    465\u001B[0m \u001B[38;5;28;01melse\u001B[39;00m:\n\u001B[1;32m    466\u001B[0m     \u001B[38;5;66;03m# Amount is not given (unbounded read) so we must check self.length\u001B[39;00m\n\u001B[1;32m    467\u001B[0m     \u001B[38;5;66;03m# and self.chunked\u001B[39;00m\n",
      "File \u001B[0;32m/usr/local/Cellar/python@3.9/3.9.19/Frameworks/Python.framework/Versions/3.9/lib/python3.9/http/client.py:507\u001B[0m, in \u001B[0;36mHTTPResponse.readinto\u001B[0;34m(self, b)\u001B[0m\n\u001B[1;32m    502\u001B[0m         b \u001B[38;5;241m=\u001B[39m \u001B[38;5;28mmemoryview\u001B[39m(b)[\u001B[38;5;241m0\u001B[39m:\u001B[38;5;28mself\u001B[39m\u001B[38;5;241m.\u001B[39mlength]\n\u001B[1;32m    504\u001B[0m \u001B[38;5;66;03m# we do not use _safe_read() here because this may be a .will_close\u001B[39;00m\n\u001B[1;32m    505\u001B[0m \u001B[38;5;66;03m# connection, and the user is reading more bytes than will be provided\u001B[39;00m\n\u001B[1;32m    506\u001B[0m \u001B[38;5;66;03m# (for example, reading in 1k chunks)\u001B[39;00m\n\u001B[0;32m--> 507\u001B[0m n \u001B[38;5;241m=\u001B[39m \u001B[38;5;28;43mself\u001B[39;49m\u001B[38;5;241;43m.\u001B[39;49m\u001B[43mfp\u001B[49m\u001B[38;5;241;43m.\u001B[39;49m\u001B[43mreadinto\u001B[49m\u001B[43m(\u001B[49m\u001B[43mb\u001B[49m\u001B[43m)\u001B[49m\n\u001B[1;32m    508\u001B[0m \u001B[38;5;28;01mif\u001B[39;00m \u001B[38;5;129;01mnot\u001B[39;00m n \u001B[38;5;129;01mand\u001B[39;00m b:\n\u001B[1;32m    509\u001B[0m     \u001B[38;5;66;03m# Ideally, we would raise IncompleteRead if the content-length\u001B[39;00m\n\u001B[1;32m    510\u001B[0m     \u001B[38;5;66;03m# wasn't satisfied, but it might break compatibility.\u001B[39;00m\n\u001B[1;32m    511\u001B[0m     \u001B[38;5;28mself\u001B[39m\u001B[38;5;241m.\u001B[39m_close_conn()\n",
      "File \u001B[0;32m/usr/local/Cellar/python@3.9/3.9.19/Frameworks/Python.framework/Versions/3.9/lib/python3.9/socket.py:704\u001B[0m, in \u001B[0;36mSocketIO.readinto\u001B[0;34m(self, b)\u001B[0m\n\u001B[1;32m    702\u001B[0m \u001B[38;5;28;01mwhile\u001B[39;00m \u001B[38;5;28;01mTrue\u001B[39;00m:\n\u001B[1;32m    703\u001B[0m     \u001B[38;5;28;01mtry\u001B[39;00m:\n\u001B[0;32m--> 704\u001B[0m         \u001B[38;5;28;01mreturn\u001B[39;00m \u001B[38;5;28;43mself\u001B[39;49m\u001B[38;5;241;43m.\u001B[39;49m\u001B[43m_sock\u001B[49m\u001B[38;5;241;43m.\u001B[39;49m\u001B[43mrecv_into\u001B[49m\u001B[43m(\u001B[49m\u001B[43mb\u001B[49m\u001B[43m)\u001B[49m\n\u001B[1;32m    705\u001B[0m     \u001B[38;5;28;01mexcept\u001B[39;00m timeout:\n\u001B[1;32m    706\u001B[0m         \u001B[38;5;28mself\u001B[39m\u001B[38;5;241m.\u001B[39m_timeout_occurred \u001B[38;5;241m=\u001B[39m \u001B[38;5;28;01mTrue\u001B[39;00m\n",
      "File \u001B[0;32m/usr/local/Cellar/python@3.9/3.9.19/Frameworks/Python.framework/Versions/3.9/lib/python3.9/ssl.py:1275\u001B[0m, in \u001B[0;36mSSLSocket.recv_into\u001B[0;34m(self, buffer, nbytes, flags)\u001B[0m\n\u001B[1;32m   1271\u001B[0m     \u001B[38;5;28;01mif\u001B[39;00m flags \u001B[38;5;241m!=\u001B[39m \u001B[38;5;241m0\u001B[39m:\n\u001B[1;32m   1272\u001B[0m         \u001B[38;5;28;01mraise\u001B[39;00m \u001B[38;5;167;01mValueError\u001B[39;00m(\n\u001B[1;32m   1273\u001B[0m           \u001B[38;5;124m\"\u001B[39m\u001B[38;5;124mnon-zero flags not allowed in calls to recv_into() on \u001B[39m\u001B[38;5;132;01m%s\u001B[39;00m\u001B[38;5;124m\"\u001B[39m \u001B[38;5;241m%\u001B[39m\n\u001B[1;32m   1274\u001B[0m           \u001B[38;5;28mself\u001B[39m\u001B[38;5;241m.\u001B[39m\u001B[38;5;18m__class__\u001B[39m)\n\u001B[0;32m-> 1275\u001B[0m     \u001B[38;5;28;01mreturn\u001B[39;00m \u001B[38;5;28;43mself\u001B[39;49m\u001B[38;5;241;43m.\u001B[39;49m\u001B[43mread\u001B[49m\u001B[43m(\u001B[49m\u001B[43mnbytes\u001B[49m\u001B[43m,\u001B[49m\u001B[43m \u001B[49m\u001B[43mbuffer\u001B[49m\u001B[43m)\u001B[49m\n\u001B[1;32m   1276\u001B[0m \u001B[38;5;28;01melse\u001B[39;00m:\n\u001B[1;32m   1277\u001B[0m     \u001B[38;5;28;01mreturn\u001B[39;00m \u001B[38;5;28msuper\u001B[39m()\u001B[38;5;241m.\u001B[39mrecv_into(buffer, nbytes, flags)\n",
      "File \u001B[0;32m/usr/local/Cellar/python@3.9/3.9.19/Frameworks/Python.framework/Versions/3.9/lib/python3.9/ssl.py:1133\u001B[0m, in \u001B[0;36mSSLSocket.read\u001B[0;34m(self, len, buffer)\u001B[0m\n\u001B[1;32m   1131\u001B[0m \u001B[38;5;28;01mtry\u001B[39;00m:\n\u001B[1;32m   1132\u001B[0m     \u001B[38;5;28;01mif\u001B[39;00m buffer \u001B[38;5;129;01mis\u001B[39;00m \u001B[38;5;129;01mnot\u001B[39;00m \u001B[38;5;28;01mNone\u001B[39;00m:\n\u001B[0;32m-> 1133\u001B[0m         \u001B[38;5;28;01mreturn\u001B[39;00m \u001B[38;5;28;43mself\u001B[39;49m\u001B[38;5;241;43m.\u001B[39;49m\u001B[43m_sslobj\u001B[49m\u001B[38;5;241;43m.\u001B[39;49m\u001B[43mread\u001B[49m\u001B[43m(\u001B[49m\u001B[38;5;28;43mlen\u001B[39;49m\u001B[43m,\u001B[49m\u001B[43m \u001B[49m\u001B[43mbuffer\u001B[49m\u001B[43m)\u001B[49m\n\u001B[1;32m   1134\u001B[0m     \u001B[38;5;28;01melse\u001B[39;00m:\n\u001B[1;32m   1135\u001B[0m         \u001B[38;5;28;01mreturn\u001B[39;00m \u001B[38;5;28mself\u001B[39m\u001B[38;5;241m.\u001B[39m_sslobj\u001B[38;5;241m.\u001B[39mread(\u001B[38;5;28mlen\u001B[39m)\n",
      "\u001B[0;31mKeyboardInterrupt\u001B[0m: "
     ]
    }
   ],
   "execution_count": 46
  },
  {
   "metadata": {},
   "cell_type": "markdown",
   "source": "Data Loading",
   "id": "8f730d6ea58598ee"
  },
  {
   "metadata": {
    "ExecuteTime": {
     "end_time": "2024-05-23T02:39:23.280996Z",
     "start_time": "2024-05-23T02:39:23.274766Z"
    }
   },
   "cell_type": "code",
   "source": [
    "def load_video(path:str) -> List[float]:\n",
    "\n",
    "    cap = cv2.VideoCapture(path)\n",
    "    frames = []\n",
    "    for _ in range(int(cap.get(cv2.CAP_PROP_FRAME_COUNT))):\n",
    "        ret, frame = cap.read()\n",
    "        frame = tf.image.rgb_to_grayscale(frame)\n",
    "        #only take the mouth region, could be improved by using a face detector\n",
    "        frames.append(frame[190:236,80:220,:])\n",
    "    cap.release()\n",
    "    \n",
    "    #normalize the frames\n",
    "    mean = tf.math.reduce_mean(frames)\n",
    "    std = tf.math.reduce_std(tf.cast(frames, tf.float32))\n",
    "    return tf.cast((frames - mean), tf.float32) / std"
   ],
   "id": "273bf94d83e353e3",
   "outputs": [],
   "execution_count": 6
  },
  {
   "metadata": {
    "ExecuteTime": {
     "end_time": "2024-05-23T02:39:23.682042Z",
     "start_time": "2024-05-23T02:39:23.677907Z"
    }
   },
   "cell_type": "code",
   "source": "vocab = [x for x in \"abcdefghijklmnopqrstuvwxyz'?!123456789 \"]",
   "id": "7b84e8143aca5dbe",
   "outputs": [],
   "execution_count": 7
  },
  {
   "metadata": {
    "ExecuteTime": {
     "end_time": "2024-05-23T02:39:23.974484Z",
     "start_time": "2024-05-23T02:39:23.895988Z"
    }
   },
   "cell_type": "code",
   "source": [
    "# char to num and num to char mappings\n",
    "char_to_num = tf.keras.layers.StringLookup(vocabulary=vocab, oov_token=\"\")\n",
    "num_to_char = tf.keras.layers.StringLookup(\n",
    "    vocabulary=char_to_num.get_vocabulary(), oov_token=\"\", invert=True\n",
    ")"
   ],
   "id": "9f2dc583edd077ee",
   "outputs": [],
   "execution_count": 8
  },
  {
   "metadata": {
    "ExecuteTime": {
     "end_time": "2024-05-23T02:39:24.084286Z",
     "start_time": "2024-05-23T02:39:24.074526Z"
    }
   },
   "cell_type": "code",
   "source": "char_to_num.get_vocabulary()",
   "id": "d4a018c3be33ec44",
   "outputs": [
    {
     "data": {
      "text/plain": [
       "['',\n",
       " 'a',\n",
       " 'b',\n",
       " 'c',\n",
       " 'd',\n",
       " 'e',\n",
       " 'f',\n",
       " 'g',\n",
       " 'h',\n",
       " 'i',\n",
       " 'j',\n",
       " 'k',\n",
       " 'l',\n",
       " 'm',\n",
       " 'n',\n",
       " 'o',\n",
       " 'p',\n",
       " 'q',\n",
       " 'r',\n",
       " 's',\n",
       " 't',\n",
       " 'u',\n",
       " 'v',\n",
       " 'w',\n",
       " 'x',\n",
       " 'y',\n",
       " 'z',\n",
       " \"'\",\n",
       " '?',\n",
       " '!',\n",
       " '1',\n",
       " '2',\n",
       " '3',\n",
       " '4',\n",
       " '5',\n",
       " '6',\n",
       " '7',\n",
       " '8',\n",
       " '9',\n",
       " ' ']"
      ]
     },
     "execution_count": 9,
     "metadata": {},
     "output_type": "execute_result"
    }
   ],
   "execution_count": 9
  },
  {
   "metadata": {
    "ExecuteTime": {
     "end_time": "2024-05-23T02:39:24.351903Z",
     "start_time": "2024-05-23T02:39:24.345577Z"
    }
   },
   "cell_type": "code",
   "source": [
    "def load_alignments(path:str) -> List[str]:\n",
    "    with open(path, 'r') as f:\n",
    "        lines = f.readlines()\n",
    "    tokens = []\n",
    "    for line in lines:\n",
    "        line = line.split()\n",
    "        if line[2] != 'sil':\n",
    "            tokens = [*tokens,' ',line[2]]\n",
    "    return char_to_num(tf.reshape(tf.strings.unicode_split(tokens, input_encoding='UTF-8'), (-1)))[1:]"
   ],
   "id": "ae54ff773f4edd92",
   "outputs": [],
   "execution_count": 10
  },
  {
   "metadata": {
    "ExecuteTime": {
     "end_time": "2024-05-23T02:39:24.490296Z",
     "start_time": "2024-05-23T02:39:24.483422Z"
    }
   },
   "cell_type": "code",
   "source": [
    "def load_data(path: str):\n",
    "    path = bytes.decode(path.numpy())\n",
    "    #file_name = path.split('/')[-1].split('.')[0]\n",
    "    # File name splitting for windows\n",
    "    file_name = path.split('/')[-1].split('.')[0]\n",
    "    video_path = os.path.join('data','s1',f'{file_name}.mpg')\n",
    "    alignment_path = os.path.join('data','alignments','s1',f'{file_name}.align')\n",
    "    frames = load_video(video_path)\n",
    "    alignments = load_alignments(alignment_path)\n",
    "\n",
    "    return frames, alignments"
   ],
   "id": "10286dc809f4651b",
   "outputs": [],
   "execution_count": 11
  },
  {
   "metadata": {
    "ExecuteTime": {
     "end_time": "2024-05-23T02:39:24.567254Z",
     "start_time": "2024-05-23T02:39:24.563006Z"
    }
   },
   "cell_type": "code",
   "source": "test_path = './data/s1/bbal6n.mpg'",
   "id": "f1edcce7e9f0c36",
   "outputs": [],
   "execution_count": 12
  },
  {
   "metadata": {
    "ExecuteTime": {
     "end_time": "2024-05-23T02:39:24.676206Z",
     "start_time": "2024-05-23T02:39:24.669454Z"
    }
   },
   "cell_type": "code",
   "source": "tf.convert_to_tensor(test_path).numpy().decode('utf-8').split('/')[-1].split('.')[0]",
   "id": "c3310c70ea5bec5d",
   "outputs": [
    {
     "data": {
      "text/plain": [
       "'bbal6n'"
      ]
     },
     "execution_count": 13,
     "metadata": {},
     "output_type": "execute_result"
    }
   ],
   "execution_count": 13
  },
  {
   "metadata": {
    "ExecuteTime": {
     "end_time": "2024-05-23T02:39:25.295999Z",
     "start_time": "2024-05-23T02:39:24.829244Z"
    }
   },
   "cell_type": "code",
   "source": "frames, alignments = load_data(tf.convert_to_tensor(test_path))",
   "id": "bbbcc77e24cb7717",
   "outputs": [],
   "execution_count": 14
  },
  {
   "metadata": {
    "ExecuteTime": {
     "end_time": "2024-05-23T02:39:25.618392Z",
     "start_time": "2024-05-23T02:39:25.319629Z"
    }
   },
   "cell_type": "code",
   "source": "plt.imshow(frames[40])",
   "id": "c5474a853f399047",
   "outputs": [
    {
     "data": {
      "text/plain": [
       "<matplotlib.image.AxesImage at 0x139ab9310>"
      ]
     },
     "execution_count": 15,
     "metadata": {},
     "output_type": "execute_result"
    },
    {
     "data": {
      "text/plain": [
       "<Figure size 640x480 with 1 Axes>"
      ],
      "image/png": "[encoded data removed]"
     },
     "metadata": {},
     "output_type": "display_data"
    }
   ],
   "execution_count": 15
  },
  {
   "metadata": {
    "ExecuteTime": {
     "end_time": "2024-05-23T02:39:25.628102Z",
     "start_time": "2024-05-23T02:39:25.621201Z"
    }
   },
   "cell_type": "code",
   "source": "alignments",
   "id": "5557c2d34f3fe59",
   "outputs": [
    {
     "data": {
      "text/plain": [
       "<tf.Tensor: shape=(21,), dtype=int64, numpy=\n",
       "array([ 2,  9, 14, 39,  2, 12, 21,  5, 39,  1, 20, 39, 12, 39, 19,  9, 24,\n",
       "       39, 14, 15, 23])>"
      ]
     },
     "execution_count": 16,
     "metadata": {},
     "output_type": "execute_result"
    }
   ],
   "execution_count": 16
  },
  {
   "metadata": {
    "ExecuteTime": {
     "end_time": "2024-05-23T02:39:25.647436Z",
     "start_time": "2024-05-23T02:39:25.635243Z"
    }
   },
   "cell_type": "code",
   "source": "tf.strings.reduce_join([bytes.decode(x) for x in num_to_char(alignments.numpy()).numpy()])",
   "id": "892d2a72f00ce62b",
   "outputs": [
    {
     "data": {
      "text/plain": [
       "<tf.Tensor: shape=(), dtype=string, numpy=b'bin blue at l six now'>"
      ]
     },
     "execution_count": 17,
     "metadata": {},
     "output_type": "execute_result"
    }
   ],
   "execution_count": 17
  },
  {
   "metadata": {
    "ExecuteTime": {
     "end_time": "2024-05-23T02:39:25.655162Z",
     "start_time": "2024-05-23T02:39:25.649987Z"
    }
   },
   "cell_type": "code",
   "source": [
    "def mappable_function(path:str) ->List[str]:\n",
    "    result = tf.py_function(load_data, [path], (tf.float32, tf.int64))\n",
    "    return result"
   ],
   "id": "5aca6679e977d396",
   "outputs": [],
   "execution_count": 18
  },
  {
   "metadata": {},
   "cell_type": "markdown",
   "source": "Create Data Pipeline",
   "id": "33fe04bf02c66464"
  },
  {
   "metadata": {
    "ExecuteTime": {
     "end_time": "2024-05-23T02:39:25.872650Z",
     "start_time": "2024-05-23T02:39:25.772851Z"
    }
   },
   "cell_type": "code",
   "source": [
    "data = tf.data.Dataset.list_files('./data/s1/*.mpg')\n",
    "data = data.shuffle(500, reshuffle_each_iteration=False)\n",
    "data = data.map(mappable_function)\n",
    "data = data.padded_batch(2, padded_shapes=([75, None, None, None], [40]))\n",
    "data = data.prefetch(tf.data.AUTOTUNE)\n",
    "train = data.take(450)\n",
    "test = data.skip(450)"
   ],
   "id": "d5033cfb5d0ae58c",
   "outputs": [],
   "execution_count": 19
  },
  {
   "metadata": {
    "ExecuteTime": {
     "end_time": "2024-05-23T02:39:26.019526Z",
     "start_time": "2024-05-23T02:39:26.012226Z"
    }
   },
   "cell_type": "code",
   "source": "len(test)",
   "id": "98c4612fb2bae8ab",
   "outputs": [
    {
     "data": {
      "text/plain": [
       "50"
      ]
     },
     "execution_count": 20,
     "metadata": {},
     "output_type": "execute_result"
    }
   ],
   "execution_count": 20
  },
  {
   "metadata": {
    "ExecuteTime": {
     "end_time": "2024-05-23T02:39:27.237853Z",
     "start_time": "2024-05-23T02:39:26.104764Z"
    }
   },
   "cell_type": "code",
   "source": "frames, alignments = data.as_numpy_iterator().next()",
   "id": "ae2f03a07cf27112",
   "outputs": [],
   "execution_count": 21
  },
  {
   "metadata": {
    "ExecuteTime": {
     "end_time": "2024-05-23T02:39:27.271232Z",
     "start_time": "2024-05-23T02:39:27.263843Z"
    }
   },
   "cell_type": "code",
   "source": "len(frames)",
   "id": "d9df4bbb49118f1e",
   "outputs": [
    {
     "data": {
      "text/plain": [
       "2"
      ]
     },
     "execution_count": 22,
     "metadata": {},
     "output_type": "execute_result"
    }
   ],
   "execution_count": 22
  },
  {
   "metadata": {
    "ExecuteTime": {
     "end_time": "2024-05-23T02:39:28.446977Z",
     "start_time": "2024-05-23T02:39:27.274971Z"
    }
   },
   "cell_type": "code",
   "source": "val = data.as_numpy_iterator().next()",
   "id": "1fef23270019611f",
   "outputs": [],
   "execution_count": 23
  },
  {
   "metadata": {
    "ExecuteTime": {
     "end_time": "2024-05-23T02:39:28.478281Z",
     "start_time": "2024-05-23T02:39:28.456150Z"
    }
   },
   "cell_type": "code",
   "source": "val[0]",
   "id": "d2c396bcc5f7628",
   "outputs": [
    {
     "data": {
      "text/plain": [
       "array([[[[[ 1.3487025 ],\n",
       "          [ 1.3487025 ],\n",
       "          [ 1.3487025 ],\n",
       "          ...,\n",
       "          [ 9.599588  ],\n",
       "          [ 9.996265  ],\n",
       "          [10.0359335 ]],\n",
       "\n",
       "         [[ 1.3487025 ],\n",
       "          [ 1.3487025 ],\n",
       "          [ 1.3487025 ],\n",
       "          ...,\n",
       "          [ 9.6392565 ],\n",
       "          [10.115269  ],\n",
       "          [ 9.996265  ]],\n",
       "\n",
       "         [[ 1.2693671 ],\n",
       "          [ 1.2693671 ],\n",
       "          [ 1.2693671 ],\n",
       "          ...,\n",
       "          [10.075602  ],\n",
       "          [10.075602  ],\n",
       "          [10.075602  ]],\n",
       "\n",
       "         ...,\n",
       "\n",
       "         [[ 0.991693  ],\n",
       "          [ 0.991693  ],\n",
       "          [ 0.991693  ],\n",
       "          ...,\n",
       "          [ 9.91693   ],\n",
       "          [ 9.91693   ],\n",
       "          [ 9.91693   ]],\n",
       "\n",
       "         [[ 0.9520253 ],\n",
       "          [ 0.9520253 ],\n",
       "          [ 0.9520253 ],\n",
       "          ...,\n",
       "          [ 9.91693   ],\n",
       "          [ 9.877263  ],\n",
       "          [ 9.877263  ]],\n",
       "\n",
       "         [[ 0.9520253 ],\n",
       "          [ 0.9520253 ],\n",
       "          [ 0.9520253 ],\n",
       "          ...,\n",
       "          [ 9.91693   ],\n",
       "          [ 9.877263  ],\n",
       "          [ 9.877263  ]]],\n",
       "\n",
       "\n",
       "        [[[ 1.3090348 ],\n",
       "          [ 1.3090348 ],\n",
       "          [ 1.3090348 ],\n",
       "          ...,\n",
       "          [ 9.6392565 ],\n",
       "          [ 9.996265  ],\n",
       "          [ 9.996265  ]],\n",
       "\n",
       "         [[ 1.3090348 ],\n",
       "          [ 1.3090348 ],\n",
       "          [ 1.3090348 ],\n",
       "          ...,\n",
       "          [ 9.6392565 ],\n",
       "          [ 9.996265  ],\n",
       "          [ 9.996265  ]],\n",
       "\n",
       "         [[ 1.2693671 ],\n",
       "          [ 1.2693671 ],\n",
       "          [ 1.2693671 ],\n",
       "          ...,\n",
       "          [10.115269  ],\n",
       "          [ 0.        ],\n",
       "          [ 0.        ]],\n",
       "\n",
       "         ...,\n",
       "\n",
       "         [[ 1.0313607 ],\n",
       "          [ 1.0313607 ],\n",
       "          [ 0.991693  ],\n",
       "          ...,\n",
       "          [ 9.877263  ],\n",
       "          [ 9.877263  ],\n",
       "          [ 9.877263  ]],\n",
       "\n",
       "         [[ 0.991693  ],\n",
       "          [ 0.991693  ],\n",
       "          [ 0.9520253 ],\n",
       "          ...,\n",
       "          [ 9.837595  ],\n",
       "          [ 9.837595  ],\n",
       "          [ 9.837595  ]],\n",
       "\n",
       "         [[ 0.991693  ],\n",
       "          [ 0.991693  ],\n",
       "          [ 0.9520253 ],\n",
       "          ...,\n",
       "          [ 9.837595  ],\n",
       "          [ 9.837595  ],\n",
       "          [ 9.837595  ]]],\n",
       "\n",
       "\n",
       "        [[[ 1.3090348 ],\n",
       "          [ 1.3090348 ],\n",
       "          [ 1.3090348 ],\n",
       "          ...,\n",
       "          [ 9.599588  ],\n",
       "          [10.0359335 ],\n",
       "          [10.075602  ]],\n",
       "\n",
       "         [[ 1.3090348 ],\n",
       "          [ 1.3090348 ],\n",
       "          [ 1.3090348 ],\n",
       "          ...,\n",
       "          [ 9.678925  ],\n",
       "          [ 9.996265  ],\n",
       "          [ 9.996265  ]],\n",
       "\n",
       "         [[ 1.3090348 ],\n",
       "          [ 1.3090348 ],\n",
       "          [ 1.3090348 ],\n",
       "          ...,\n",
       "          [10.075602  ],\n",
       "          [10.115269  ],\n",
       "          [10.115269  ]],\n",
       "\n",
       "         ...,\n",
       "\n",
       "         [[ 0.9123576 ],\n",
       "          [ 0.9123576 ],\n",
       "          [ 0.8726899 ],\n",
       "          ...,\n",
       "          [ 9.877263  ],\n",
       "          [ 9.837595  ],\n",
       "          [ 9.837595  ]],\n",
       "\n",
       "         [[ 0.9520253 ],\n",
       "          [ 0.9520253 ],\n",
       "          [ 0.9123576 ],\n",
       "          ...,\n",
       "          [ 9.837595  ],\n",
       "          [ 9.837595  ],\n",
       "          [ 9.837595  ]],\n",
       "\n",
       "         [[ 0.9123576 ],\n",
       "          [ 0.9123576 ],\n",
       "          [ 0.8726899 ],\n",
       "          ...,\n",
       "          [ 9.837595  ],\n",
       "          [ 9.837595  ],\n",
       "          [ 9.837595  ]]],\n",
       "\n",
       "\n",
       "        ...,\n",
       "\n",
       "\n",
       "        [[[ 1.3487025 ],\n",
       "          [ 1.3487025 ],\n",
       "          [ 1.3883703 ],\n",
       "          ...,\n",
       "          [ 0.03966772],\n",
       "          [10.115269  ],\n",
       "          [10.115269  ]],\n",
       "\n",
       "         [[ 1.3090348 ],\n",
       "          [ 1.3090348 ],\n",
       "          [ 1.3487025 ],\n",
       "          ...,\n",
       "          [ 0.19833861],\n",
       "          [ 0.07933544],\n",
       "          [ 0.        ]],\n",
       "\n",
       "         [[ 1.2693671 ],\n",
       "          [ 1.2693671 ],\n",
       "          [ 1.2693671 ],\n",
       "          ...,\n",
       "          [ 0.03966772],\n",
       "          [ 0.03966772],\n",
       "          [ 0.        ]],\n",
       "\n",
       "         ...,\n",
       "\n",
       "         [[ 0.9520253 ],\n",
       "          [ 0.9520253 ],\n",
       "          [ 0.9520253 ],\n",
       "          ...,\n",
       "          [ 9.837595  ],\n",
       "          [ 9.837595  ],\n",
       "          [ 9.837595  ]],\n",
       "\n",
       "         [[ 0.9520253 ],\n",
       "          [ 0.9520253 ],\n",
       "          [ 0.9520253 ],\n",
       "          ...,\n",
       "          [ 9.837595  ],\n",
       "          [ 9.837595  ],\n",
       "          [ 9.837595  ]],\n",
       "\n",
       "         [[ 0.9520253 ],\n",
       "          [ 0.9520253 ],\n",
       "          [ 0.9123576 ],\n",
       "          ...,\n",
       "          [ 9.837595  ],\n",
       "          [ 9.837595  ],\n",
       "          [ 9.837595  ]]],\n",
       "\n",
       "\n",
       "        [[[ 1.3883703 ],\n",
       "          [ 1.3883703 ],\n",
       "          [ 1.3883703 ],\n",
       "          ...,\n",
       "          [ 0.        ],\n",
       "          [10.0359335 ],\n",
       "          [10.075602  ]],\n",
       "\n",
       "         [[ 1.3487025 ],\n",
       "          [ 1.3487025 ],\n",
       "          [ 1.3487025 ],\n",
       "          ...,\n",
       "          [ 0.15867089],\n",
       "          [10.115269  ],\n",
       "          [10.115269  ]],\n",
       "\n",
       "         [[ 1.3090348 ],\n",
       "          [ 1.2693671 ],\n",
       "          [ 1.2693671 ],\n",
       "          ...,\n",
       "          [ 0.03966772],\n",
       "          [ 0.03966772],\n",
       "          [ 0.        ]],\n",
       "\n",
       "         ...,\n",
       "\n",
       "         [[ 0.9123576 ],\n",
       "          [ 0.9123576 ],\n",
       "          [ 0.9123576 ],\n",
       "          ...,\n",
       "          [ 9.797927  ],\n",
       "          [ 9.837595  ],\n",
       "          [ 9.837595  ]],\n",
       "\n",
       "         [[ 0.9123576 ],\n",
       "          [ 0.9123576 ],\n",
       "          [ 0.9123576 ],\n",
       "          ...,\n",
       "          [ 9.837595  ],\n",
       "          [ 9.837595  ],\n",
       "          [ 9.837595  ]],\n",
       "\n",
       "         [[ 0.9123576 ],\n",
       "          [ 0.9123576 ],\n",
       "          [ 0.8726899 ],\n",
       "          ...,\n",
       "          [ 9.837595  ],\n",
       "          [ 9.837595  ],\n",
       "          [ 9.837595  ]]],\n",
       "\n",
       "\n",
       "        [[[ 1.428038  ],\n",
       "          [ 1.428038  ],\n",
       "          [ 1.428038  ],\n",
       "          ...,\n",
       "          [10.115269  ],\n",
       "          [10.0359335 ],\n",
       "          [10.075602  ]],\n",
       "\n",
       "         [[ 1.428038  ],\n",
       "          [ 1.428038  ],\n",
       "          [ 1.428038  ],\n",
       "          ...,\n",
       "          [ 0.15867089],\n",
       "          [10.115269  ],\n",
       "          [10.115269  ]],\n",
       "\n",
       "         [[ 1.3883703 ],\n",
       "          [ 1.3883703 ],\n",
       "          [ 1.3487025 ],\n",
       "          ...,\n",
       "          [ 0.        ],\n",
       "          [ 0.03966772],\n",
       "          [ 0.03966772]],\n",
       "\n",
       "         ...,\n",
       "\n",
       "         [[ 0.9123576 ],\n",
       "          [ 0.9123576 ],\n",
       "          [ 0.9123576 ],\n",
       "          ...,\n",
       "          [ 9.877263  ],\n",
       "          [ 9.877263  ],\n",
       "          [ 9.877263  ]],\n",
       "\n",
       "         [[ 0.9123576 ],\n",
       "          [ 0.9123576 ],\n",
       "          [ 0.9123576 ],\n",
       "          ...,\n",
       "          [ 9.837595  ],\n",
       "          [ 9.837595  ],\n",
       "          [ 9.837595  ]],\n",
       "\n",
       "         [[ 0.9123576 ],\n",
       "          [ 0.9123576 ],\n",
       "          [ 0.9123576 ],\n",
       "          ...,\n",
       "          [ 9.837595  ],\n",
       "          [ 9.837595  ],\n",
       "          [ 9.837595  ]]]],\n",
       "\n",
       "\n",
       "\n",
       "       [[[[ 1.4950011 ],\n",
       "          [ 1.4950011 ],\n",
       "          [ 1.4950011 ],\n",
       "          ...,\n",
       "          [ 0.23000017],\n",
       "          [ 0.23000017],\n",
       "          [ 0.23000017]],\n",
       "\n",
       "         [[ 1.5333345 ],\n",
       "          [ 1.5333345 ],\n",
       "          [ 1.4950011 ],\n",
       "          ...,\n",
       "          [ 0.23000017],\n",
       "          [ 0.23000017],\n",
       "          [ 0.23000017]],\n",
       "\n",
       "         [[ 1.4950011 ],\n",
       "          [ 1.4950011 ],\n",
       "          [ 1.4950011 ],\n",
       "          ...,\n",
       "          [ 0.19166681],\n",
       "          [ 0.19166681],\n",
       "          [ 0.19166681]],\n",
       "\n",
       "         ...,\n",
       "\n",
       "         [[ 1.0733341 ],\n",
       "          [ 1.0733341 ],\n",
       "          [ 1.0733341 ],\n",
       "          ...,\n",
       "          [ 9.736674  ],\n",
       "          [ 9.736674  ],\n",
       "          [ 9.736674  ]],\n",
       "\n",
       "         [[ 1.0733341 ],\n",
       "          [ 1.0733341 ],\n",
       "          [ 1.0733341 ],\n",
       "          ...,\n",
       "          [ 9.69834   ],\n",
       "          [ 9.69834   ],\n",
       "          [ 9.69834   ]],\n",
       "\n",
       "         [[ 1.0733341 ],\n",
       "          [ 1.0733341 ],\n",
       "          [ 1.0733341 ],\n",
       "          ...,\n",
       "          [ 9.69834   ],\n",
       "          [ 9.69834   ],\n",
       "          [ 9.69834   ]]],\n",
       "\n",
       "\n",
       "        [[[ 1.6483346 ],\n",
       "          [ 1.5716678 ],\n",
       "          [ 1.5716678 ],\n",
       "          ...,\n",
       "          [ 0.19166681],\n",
       "          [ 0.19166681],\n",
       "          [ 0.19166681]],\n",
       "\n",
       "         [[ 1.6483346 ],\n",
       "          [ 1.5716678 ],\n",
       "          [ 1.5333345 ],\n",
       "          ...,\n",
       "          [ 0.19166681],\n",
       "          [ 0.19166681],\n",
       "          [ 0.19166681]],\n",
       "\n",
       "         [[ 1.4950011 ],\n",
       "          [ 1.4950011 ],\n",
       "          [ 1.4950011 ],\n",
       "          ...,\n",
       "          [ 0.15333346],\n",
       "          [ 0.15333346],\n",
       "          [ 0.15333346]],\n",
       "\n",
       "         ...,\n",
       "\n",
       "         [[ 1.1116675 ],\n",
       "          [ 1.1116675 ],\n",
       "          [ 1.1116675 ],\n",
       "          ...,\n",
       "          [ 9.736674  ],\n",
       "          [ 9.736674  ],\n",
       "          [ 9.736674  ]],\n",
       "\n",
       "         [[ 1.1116675 ],\n",
       "          [ 1.1116675 ],\n",
       "          [ 1.0733341 ],\n",
       "          ...,\n",
       "          [ 9.736674  ],\n",
       "          [ 9.736674  ],\n",
       "          [ 9.736674  ]],\n",
       "\n",
       "         [[ 1.0733341 ],\n",
       "          [ 1.0733341 ],\n",
       "          [ 1.0733341 ],\n",
       "          ...,\n",
       "          [ 9.736674  ],\n",
       "          [ 9.736674  ],\n",
       "          [ 9.69834   ]]],\n",
       "\n",
       "\n",
       "        [[[ 1.4950011 ],\n",
       "          [ 1.4950011 ],\n",
       "          [ 1.6100012 ],\n",
       "          ...,\n",
       "          [ 0.26833352],\n",
       "          [ 0.19166681],\n",
       "          [ 0.19166681]],\n",
       "\n",
       "         [[ 1.5716678 ],\n",
       "          [ 1.4950011 ],\n",
       "          [ 1.4950011 ],\n",
       "          ...,\n",
       "          [ 0.26833352],\n",
       "          [ 0.19166681],\n",
       "          [ 0.19166681]],\n",
       "\n",
       "         [[ 1.4950011 ],\n",
       "          [ 1.4950011 ],\n",
       "          [ 1.4950011 ],\n",
       "          ...,\n",
       "          [ 0.19166681],\n",
       "          [ 0.19166681],\n",
       "          [ 0.19166681]],\n",
       "\n",
       "         ...,\n",
       "\n",
       "         [[ 1.1116675 ],\n",
       "          [ 1.1116675 ],\n",
       "          [ 1.1116675 ],\n",
       "          ...,\n",
       "          [ 9.736674  ],\n",
       "          [ 9.736674  ],\n",
       "          [ 9.736674  ]],\n",
       "\n",
       "         [[ 1.1116675 ],\n",
       "          [ 1.1116675 ],\n",
       "          [ 1.0733341 ],\n",
       "          ...,\n",
       "          [ 9.736674  ],\n",
       "          [ 9.736674  ],\n",
       "          [ 9.736674  ]],\n",
       "\n",
       "         [[ 1.0733341 ],\n",
       "          [ 1.0733341 ],\n",
       "          [ 1.0733341 ],\n",
       "          ...,\n",
       "          [ 9.736674  ],\n",
       "          [ 9.736674  ],\n",
       "          [ 9.69834   ]]],\n",
       "\n",
       "\n",
       "        ...,\n",
       "\n",
       "\n",
       "        [[[ 1.4566678 ],\n",
       "          [ 1.4183344 ],\n",
       "          [ 1.4183344 ],\n",
       "          ...,\n",
       "          [ 0.19166681],\n",
       "          [ 0.15333346],\n",
       "          [ 0.15333346]],\n",
       "\n",
       "         [[ 1.4183344 ],\n",
       "          [ 1.4566678 ],\n",
       "          [ 1.4950011 ],\n",
       "          ...,\n",
       "          [ 0.19166681],\n",
       "          [ 0.15333346],\n",
       "          [ 0.15333346]],\n",
       "\n",
       "         [[ 1.4566678 ],\n",
       "          [ 1.4566678 ],\n",
       "          [ 1.4566678 ],\n",
       "          ...,\n",
       "          [ 0.19166681],\n",
       "          [ 0.19166681],\n",
       "          [ 0.15333346]],\n",
       "\n",
       "         ...,\n",
       "\n",
       "         [[ 1.1116675 ],\n",
       "          [ 1.1116675 ],\n",
       "          [ 1.1116675 ],\n",
       "          ...,\n",
       "          [ 9.736674  ],\n",
       "          [ 9.736674  ],\n",
       "          [ 9.736674  ]],\n",
       "\n",
       "         [[ 1.1116675 ],\n",
       "          [ 1.1116675 ],\n",
       "          [ 1.1116675 ],\n",
       "          ...,\n",
       "          [ 9.736674  ],\n",
       "          [ 9.736674  ],\n",
       "          [ 9.736674  ]],\n",
       "\n",
       "         [[ 1.1116675 ],\n",
       "          [ 1.1116675 ],\n",
       "          [ 1.1116675 ],\n",
       "          ...,\n",
       "          [ 9.736674  ],\n",
       "          [ 9.736674  ],\n",
       "          [ 9.69834   ]]],\n",
       "\n",
       "\n",
       "        [[[ 1.4950011 ],\n",
       "          [ 1.4566678 ],\n",
       "          [ 1.4183344 ],\n",
       "          ...,\n",
       "          [ 0.15333346],\n",
       "          [ 0.19166681],\n",
       "          [ 0.19166681]],\n",
       "\n",
       "         [[ 1.4566678 ],\n",
       "          [ 1.4566678 ],\n",
       "          [ 1.3800011 ],\n",
       "          ...,\n",
       "          [ 0.15333346],\n",
       "          [ 0.19166681],\n",
       "          [ 0.19166681]],\n",
       "\n",
       "         [[ 1.4566678 ],\n",
       "          [ 1.4566678 ],\n",
       "          [ 1.4950011 ],\n",
       "          ...,\n",
       "          [ 0.23000017],\n",
       "          [ 0.23000017],\n",
       "          [ 0.19166681]],\n",
       "\n",
       "         ...,\n",
       "\n",
       "         [[ 1.1500008 ],\n",
       "          [ 1.1500008 ],\n",
       "          [ 1.1500008 ],\n",
       "          ...,\n",
       "          [ 9.736674  ],\n",
       "          [ 9.736674  ],\n",
       "          [ 9.736674  ]],\n",
       "\n",
       "         [[ 1.1116675 ],\n",
       "          [ 1.1116675 ],\n",
       "          [ 1.1116675 ],\n",
       "          ...,\n",
       "          [ 9.736674  ],\n",
       "          [ 9.736674  ],\n",
       "          [ 9.736674  ]],\n",
       "\n",
       "         [[ 1.1116675 ],\n",
       "          [ 1.1116675 ],\n",
       "          [ 1.1116675 ],\n",
       "          ...,\n",
       "          [ 9.736674  ],\n",
       "          [ 9.736674  ],\n",
       "          [ 9.69834   ]]],\n",
       "\n",
       "\n",
       "        [[[ 1.4950011 ],\n",
       "          [ 1.4950011 ],\n",
       "          [ 1.5716678 ],\n",
       "          ...,\n",
       "          [ 0.19166681],\n",
       "          [ 0.19166681],\n",
       "          [ 0.19166681]],\n",
       "\n",
       "         [[ 1.4566678 ],\n",
       "          [ 1.4950011 ],\n",
       "          [ 1.4950011 ],\n",
       "          ...,\n",
       "          [ 0.19166681],\n",
       "          [ 0.19166681],\n",
       "          [ 0.19166681]],\n",
       "\n",
       "         [[ 1.4950011 ],\n",
       "          [ 1.4950011 ],\n",
       "          [ 1.5333345 ],\n",
       "          ...,\n",
       "          [ 0.19166681],\n",
       "          [ 0.19166681],\n",
       "          [ 0.15333346]],\n",
       "\n",
       "         ...,\n",
       "\n",
       "         [[ 1.1500008 ],\n",
       "          [ 1.1500008 ],\n",
       "          [ 1.1500008 ],\n",
       "          ...,\n",
       "          [ 9.775007  ],\n",
       "          [ 9.736674  ],\n",
       "          [ 9.736674  ]],\n",
       "\n",
       "         [[ 1.1116675 ],\n",
       "          [ 1.1116675 ],\n",
       "          [ 1.1116675 ],\n",
       "          ...,\n",
       "          [ 9.736674  ],\n",
       "          [ 9.736674  ],\n",
       "          [ 9.736674  ]],\n",
       "\n",
       "         [[ 1.1116675 ],\n",
       "          [ 1.1116675 ],\n",
       "          [ 1.1116675 ],\n",
       "          ...,\n",
       "          [ 9.736674  ],\n",
       "          [ 9.736674  ],\n",
       "          [ 9.736674  ]]]]], dtype=float32)"
      ]
     },
     "execution_count": 24,
     "metadata": {},
     "output_type": "execute_result"
    }
   ],
   "execution_count": 24
  },
  {
   "metadata": {
    "ExecuteTime": {
     "end_time": "2024-05-23T02:39:28.492373Z",
     "start_time": "2024-05-23T02:39:28.482374Z"
    }
   },
   "cell_type": "code",
   "source": "val[0][0].shape",
   "id": "ac6468fbf1b53d2f",
   "outputs": [
    {
     "data": {
      "text/plain": [
       "(75, 46, 140, 1)"
      ]
     },
     "execution_count": 25,
     "metadata": {},
     "output_type": "execute_result"
    }
   ],
   "execution_count": 25
  },
  {
   "metadata": {
    "ExecuteTime": {
     "end_time": "2024-05-23T02:39:28.504518Z",
     "start_time": "2024-05-23T02:39:28.496027Z"
    }
   },
   "cell_type": "code",
   "source": "processed_frames = [(frame.squeeze(axis=-1)).astype(np.uint8) for frame in val[0][0]]",
   "id": "8d8772a921aa1305",
   "outputs": [],
   "execution_count": 26
  },
  {
   "metadata": {
    "ExecuteTime": {
     "end_time": "2024-05-23T02:39:28.607879Z",
     "start_time": "2024-05-23T02:39:28.507897Z"
    }
   },
   "cell_type": "code",
   "source": "imageio.mimsave('./animation.gif', processed_frames, fps=10)",
   "id": "449d474d021ad4b0",
   "outputs": [],
   "execution_count": 27
  },
  {
   "metadata": {
    "ExecuteTime": {
     "end_time": "2024-05-23T02:39:28.835124Z",
     "start_time": "2024-05-23T02:39:28.611015Z"
    }
   },
   "cell_type": "code",
   "source": "plt.imshow(val[0][0][35])",
   "id": "ce6d42ed5be156e1",
   "outputs": [
    {
     "data": {
      "text/plain": [
       "<matplotlib.image.AxesImage at 0x139d94b80>"
      ]
     },
     "execution_count": 28,
     "metadata": {},
     "output_type": "execute_result"
    },
    {
     "data": {
      "text/plain": [
       "<Figure size 640x480 with 1 Axes>"
      ],
      "image/png": "[encoded data removed]"
     },
     "metadata": {},
     "output_type": "display_data"
    }
   ],
   "execution_count": 28
  },
  {
   "metadata": {
    "ExecuteTime": {
     "end_time": "2024-05-23T02:39:28.874035Z",
     "start_time": "2024-05-23T02:39:28.837186Z"
    }
   },
   "cell_type": "code",
   "source": "tf.strings.reduce_join([num_to_char(word) for word in val[1][0]])",
   "id": "10392782bde03f9",
   "outputs": [
    {
     "data": {
      "text/plain": [
       "<tf.Tensor: shape=(), dtype=string, numpy=b'set red in t eight now'>"
      ]
     },
     "execution_count": 29,
     "metadata": {},
     "output_type": "execute_result"
    }
   ],
   "execution_count": 29
  },
  {
   "metadata": {},
   "cell_type": "markdown",
   "source": "Design the Deep Neural Network",
   "id": "239e4504f06143d7"
  },
  {
   "metadata": {
    "ExecuteTime": {
     "end_time": "2024-05-23T02:39:28.884841Z",
     "start_time": "2024-05-23T02:39:28.875762Z"
    }
   },
   "cell_type": "code",
   "source": [
    "from tensorflow.keras.models import Sequential\n",
    "from tensorflow.keras.layers import Conv3D, LSTM, Dense, Dropout, Bidirectional, MaxPool3D, Activation, Reshape, SpatialDropout3D, BatchNormalization, TimeDistributed, Flatten\n",
    "from tensorflow.keras.optimizers import Adam\n",
    "from tensorflow.keras.callbacks import ModelCheckpoint, LearningRateScheduler"
   ],
   "id": "f8feb25dbab7b325",
   "outputs": [],
   "execution_count": 30
  },
  {
   "metadata": {
    "ExecuteTime": {
     "end_time": "2024-05-23T02:39:30.093371Z",
     "start_time": "2024-05-23T02:39:28.886423Z"
    }
   },
   "cell_type": "code",
   "source": "data.as_numpy_iterator().next()[0][0].shape",
   "id": "4ad59e85c2b62642",
   "outputs": [
    {
     "data": {
      "text/plain": [
       "(75, 46, 140, 1)"
      ]
     },
     "execution_count": 31,
     "metadata": {},
     "output_type": "execute_result"
    }
   ],
   "execution_count": 31
  },
  {
   "metadata": {
    "ExecuteTime": {
     "end_time": "2024-05-23T02:39:32.048657Z",
     "start_time": "2024-05-23T02:39:30.096047Z"
    }
   },
   "cell_type": "code",
   "source": [
    "model = Sequential()\n",
    "model.add(Conv3D(128,3,input_shape=(75,46,140,1),padding='same'))\n",
    "model.add(Activation('relu'))\n",
    "model.add(MaxPool3D(pool_size=(1,2,2)))\n",
    "\n",
    "model.add(Conv3D(256,3,padding='same'))\n",
    "model.add(Activation('relu'))\n",
    "model.add(MaxPool3D(pool_size=(1,2,2)))\n",
    "\n",
    "model.add(Conv3D(75,3,padding='same'))\n",
    "model.add(Activation('relu'))\n",
    "model.add(MaxPool3D(pool_size=(1,2,2)))\n",
    "\n",
    "model.add(TimeDistributed(Flatten()))\n",
    "\n",
    "model.add(Bidirectional(LSTM(128, kernel_initializer = 'orthogonal',return_sequences=True)))\n",
    "model.add(Dropout(0.5))\n",
    "\n",
    "model.add(Bidirectional(LSTM(128, kernel_initializer = 'orthogonal',return_sequences=True)))\n",
    "model.add(Dropout(0.5))\n",
    "\n",
    "model.add(Dense(char_to_num.vocabulary_size()+1,kernel_initializer='he_normal', activation='softmax'))"
   ],
   "id": "f47a3902372d4cb1",
   "outputs": [
    {
     "name": "stderr",
     "output_type": "stream",
     "text": [
      "/usr/local/lib/python3.9/site-packages/keras/src/layers/convolutional/base_conv.py:107: UserWarning: Do not pass an `input_shape`/`input_dim` argument to a layer. When using Sequential models, prefer using an `Input(shape)` object as the first layer in the model instead.\n",
      "  super().__init__(activity_regularizer=activity_regularizer, **kwargs)\n"
     ]
    }
   ],
   "execution_count": 32
  },
  {
   "metadata": {
    "ExecuteTime": {
     "end_time": "2024-05-23T02:39:36.869811Z",
     "start_time": "2024-05-23T02:39:36.825328Z"
    }
   },
   "cell_type": "code",
   "source": "model.summary()",
   "id": "c0f547a5967bd770",
   "outputs": [
    {
     "data": {
      "text/plain": [
       "\u001B[1mModel: \"sequential\"\u001B[0m\n"
      ],
      "text/html": [
       "<pre style=\"white-space:pre;overflow-x:auto;line-height:normal;font-family:Menlo,'DejaVu Sans Mono',consolas,'Courier New',monospace\"><span style=\"font-weight: bold\">Model: \"sequential\"</span>\n",
       "</pre>\n"
      ]
     },
     "metadata": {},
     "output_type": "display_data"
    },
    {
     "data": {
      "text/plain": [
       "┏━━━━━━━━━━━━━━━━━━━━━━━━━━━━━━━━━┳━━━━━━━━━━━━━━━━━━━━━━━━┳━━━━━━━━━━━━━━━┓\n",
       "┃\u001B[1m \u001B[0m\u001B[1mLayer (type)                   \u001B[0m\u001B[1m \u001B[0m┃\u001B[1m \u001B[0m\u001B[1mOutput Shape          \u001B[0m\u001B[1m \u001B[0m┃\u001B[1m \u001B[0m\u001B[1m      Param #\u001B[0m\u001B[1m \u001B[0m┃\n",
       "┡━━━━━━━━━━━━━━━━━━━━━━━━━━━━━━━━━╇━━━━━━━━━━━━━━━━━━━━━━━━╇━━━━━━━━━━━━━━━┩\n",
       "│ conv3d (\u001B[38;5;33mConv3D\u001B[0m)                 │ (\u001B[38;5;45mNone\u001B[0m, \u001B[38;5;34m75\u001B[0m, \u001B[38;5;34m46\u001B[0m, \u001B[38;5;34m140\u001B[0m,    │         \u001B[38;5;34m3,584\u001B[0m │\n",
       "│                                 │ \u001B[38;5;34m128\u001B[0m)                   │               │\n",
       "├─────────────────────────────────┼────────────────────────┼───────────────┤\n",
       "│ activation (\u001B[38;5;33mActivation\u001B[0m)         │ (\u001B[38;5;45mNone\u001B[0m, \u001B[38;5;34m75\u001B[0m, \u001B[38;5;34m46\u001B[0m, \u001B[38;5;34m140\u001B[0m,    │             \u001B[38;5;34m0\u001B[0m │\n",
       "│                                 │ \u001B[38;5;34m128\u001B[0m)                   │               │\n",
       "├─────────────────────────────────┼────────────────────────┼───────────────┤\n",
       "│ max_pooling3d (\u001B[38;5;33mMaxPooling3D\u001B[0m)    │ (\u001B[38;5;45mNone\u001B[0m, \u001B[38;5;34m75\u001B[0m, \u001B[38;5;34m23\u001B[0m, \u001B[38;5;34m70\u001B[0m,     │             \u001B[38;5;34m0\u001B[0m │\n",
       "│                                 │ \u001B[38;5;34m128\u001B[0m)                   │               │\n",
       "├─────────────────────────────────┼────────────────────────┼───────────────┤\n",
       "│ conv3d_1 (\u001B[38;5;33mConv3D\u001B[0m)               │ (\u001B[38;5;45mNone\u001B[0m, \u001B[38;5;34m75\u001B[0m, \u001B[38;5;34m23\u001B[0m, \u001B[38;5;34m70\u001B[0m,     │       \u001B[38;5;34m884,992\u001B[0m │\n",
       "│                                 │ \u001B[38;5;34m256\u001B[0m)                   │               │\n",
       "├─────────────────────────────────┼────────────────────────┼───────────────┤\n",
       "│ activation_1 (\u001B[38;5;33mActivation\u001B[0m)       │ (\u001B[38;5;45mNone\u001B[0m, \u001B[38;5;34m75\u001B[0m, \u001B[38;5;34m23\u001B[0m, \u001B[38;5;34m70\u001B[0m,     │             \u001B[38;5;34m0\u001B[0m │\n",
       "│                                 │ \u001B[38;5;34m256\u001B[0m)                   │               │\n",
       "├─────────────────────────────────┼────────────────────────┼───────────────┤\n",
       "│ max_pooling3d_1 (\u001B[38;5;33mMaxPooling3D\u001B[0m)  │ (\u001B[38;5;45mNone\u001B[0m, \u001B[38;5;34m75\u001B[0m, \u001B[38;5;34m11\u001B[0m, \u001B[38;5;34m35\u001B[0m,     │             \u001B[38;5;34m0\u001B[0m │\n",
       "│                                 │ \u001B[38;5;34m256\u001B[0m)                   │               │\n",
       "├─────────────────────────────────┼────────────────────────┼───────────────┤\n",
       "│ conv3d_2 (\u001B[38;5;33mConv3D\u001B[0m)               │ (\u001B[38;5;45mNone\u001B[0m, \u001B[38;5;34m75\u001B[0m, \u001B[38;5;34m11\u001B[0m, \u001B[38;5;34m35\u001B[0m, \u001B[38;5;34m75\u001B[0m) │       \u001B[38;5;34m518,475\u001B[0m │\n",
       "├─────────────────────────────────┼────────────────────────┼───────────────┤\n",
       "│ activation_2 (\u001B[38;5;33mActivation\u001B[0m)       │ (\u001B[38;5;45mNone\u001B[0m, \u001B[38;5;34m75\u001B[0m, \u001B[38;5;34m11\u001B[0m, \u001B[38;5;34m35\u001B[0m, \u001B[38;5;34m75\u001B[0m) │             \u001B[38;5;34m0\u001B[0m │\n",
       "├─────────────────────────────────┼────────────────────────┼───────────────┤\n",
       "│ max_pooling3d_2 (\u001B[38;5;33mMaxPooling3D\u001B[0m)  │ (\u001B[38;5;45mNone\u001B[0m, \u001B[38;5;34m75\u001B[0m, \u001B[38;5;34m5\u001B[0m, \u001B[38;5;34m17\u001B[0m, \u001B[38;5;34m75\u001B[0m)  │             \u001B[38;5;34m0\u001B[0m │\n",
       "├─────────────────────────────────┼────────────────────────┼───────────────┤\n",
       "│ time_distributed                │ (\u001B[38;5;45mNone\u001B[0m, \u001B[38;5;34m75\u001B[0m, \u001B[38;5;34m6375\u001B[0m)       │             \u001B[38;5;34m0\u001B[0m │\n",
       "│ (\u001B[38;5;33mTimeDistributed\u001B[0m)               │                        │               │\n",
       "├─────────────────────────────────┼────────────────────────┼───────────────┤\n",
       "│ bidirectional (\u001B[38;5;33mBidirectional\u001B[0m)   │ (\u001B[38;5;45mNone\u001B[0m, \u001B[38;5;34m75\u001B[0m, \u001B[38;5;34m256\u001B[0m)        │     \u001B[38;5;34m6,660,096\u001B[0m │\n",
       "├─────────────────────────────────┼────────────────────────┼───────────────┤\n",
       "│ dropout (\u001B[38;5;33mDropout\u001B[0m)               │ (\u001B[38;5;45mNone\u001B[0m, \u001B[38;5;34m75\u001B[0m, \u001B[38;5;34m256\u001B[0m)        │             \u001B[38;5;34m0\u001B[0m │\n",
       "├─────────────────────────────────┼────────────────────────┼───────────────┤\n",
       "│ bidirectional_1 (\u001B[38;5;33mBidirectional\u001B[0m) │ (\u001B[38;5;45mNone\u001B[0m, \u001B[38;5;34m75\u001B[0m, \u001B[38;5;34m256\u001B[0m)        │       \u001B[38;5;34m394,240\u001B[0m │\n",
       "├─────────────────────────────────┼────────────────────────┼───────────────┤\n",
       "│ dropout_1 (\u001B[38;5;33mDropout\u001B[0m)             │ (\u001B[38;5;45mNone\u001B[0m, \u001B[38;5;34m75\u001B[0m, \u001B[38;5;34m256\u001B[0m)        │             \u001B[38;5;34m0\u001B[0m │\n",
       "├─────────────────────────────────┼────────────────────────┼───────────────┤\n",
       "│ dense (\u001B[38;5;33mDense\u001B[0m)                   │ (\u001B[38;5;45mNone\u001B[0m, \u001B[38;5;34m75\u001B[0m, \u001B[38;5;34m41\u001B[0m)         │        \u001B[38;5;34m10,537\u001B[0m │\n",
       "└─────────────────────────────────┴────────────────────────┴───────────────┘\n"
      ],
      "text/html": [
       "<pre style=\"white-space:pre;overflow-x:auto;line-height:normal;font-family:Menlo,'DejaVu Sans Mono',consolas,'Courier New',monospace\">┏━━━━━━━━━━━━━━━━━━━━━━━━━━━━━━━━━┳━━━━━━━━━━━━━━━━━━━━━━━━┳━━━━━━━━━━━━━━━┓\n",
       "┃<span style=\"font-weight: bold\"> Layer (type)                    </span>┃<span style=\"font-weight: bold\"> Output Shape           </span>┃<span style=\"font-weight: bold\">       Param # </span>┃\n",
       "┡━━━━━━━━━━━━━━━━━━━━━━━━━━━━━━━━━╇━━━━━━━━━━━━━━━━━━━━━━━━╇━━━━━━━━━━━━━━━┩\n",
       "│ conv3d (<span style=\"color: #0087ff; text-decoration-color: #0087ff\">Conv3D</span>)                 │ (<span style=\"color: #00d7ff; text-decoration-color: #00d7ff\">None</span>, <span style=\"color: #00af00; text-decoration-color: #00af00\">75</span>, <span style=\"color: #00af00; text-decoration-color: #00af00\">46</span>, <span style=\"color: #00af00; text-decoration-color: #00af00\">140</span>,    │         <span style=\"color: #00af00; text-decoration-color: #00af00\">3,584</span> │\n",
       "│                                 │ <span style=\"color: #00af00; text-decoration-color: #00af00\">128</span>)                   │               │\n",
       "├─────────────────────────────────┼────────────────────────┼───────────────┤\n",
       "│ activation (<span style=\"color: #0087ff; text-decoration-color: #0087ff\">Activation</span>)         │ (<span style=\"color: #00d7ff; text-decoration-color: #00d7ff\">None</span>, <span style=\"color: #00af00; text-decoration-color: #00af00\">75</span>, <span style=\"color: #00af00; text-decoration-color: #00af00\">46</span>, <span style=\"color: #00af00; text-decoration-color: #00af00\">140</span>,    │             <span style=\"color: #00af00; text-decoration-color: #00af00\">0</span> │\n",
       "│                                 │ <span style=\"color: #00af00; text-decoration-color: #00af00\">128</span>)                   │               │\n",
       "├─────────────────────────────────┼────────────────────────┼───────────────┤\n",
       "│ max_pooling3d (<span style=\"color: #0087ff; text-decoration-color: #0087ff\">MaxPooling3D</span>)    │ (<span style=\"color: #00d7ff; text-decoration-color: #00d7ff\">None</span>, <span style=\"color: #00af00; text-decoration-color: #00af00\">75</span>, <span style=\"color: #00af00; text-decoration-color: #00af00\">23</span>, <span style=\"color: #00af00; text-decoration-color: #00af00\">70</span>,     │             <span style=\"color: #00af00; text-decoration-color: #00af00\">0</span> │\n",
       "│                                 │ <span style=\"color: #00af00; text-decoration-color: #00af00\">128</span>)                   │               │\n",
       "├─────────────────────────────────┼────────────────────────┼───────────────┤\n",
       "│ conv3d_1 (<span style=\"color: #0087ff; text-decoration-color: #0087ff\">Conv3D</span>)               │ (<span style=\"color: #00d7ff; text-decoration-color: #00d7ff\">None</span>, <span style=\"color: #00af00; text-decoration-color: #00af00\">75</span>, <span style=\"color: #00af00; text-decoration-color: #00af00\">23</span>, <span style=\"color: #00af00; text-decoration-color: #00af00\">70</span>,     │       <span style=\"color: #00af00; text-decoration-color: #00af00\">884,992</span> │\n",
       "│                                 │ <span style=\"color: #00af00; text-decoration-color: #00af00\">256</span>)                   │               │\n",
       "├─────────────────────────────────┼────────────────────────┼───────────────┤\n",
       "│ activation_1 (<span style=\"color: #0087ff; text-decoration-color: #0087ff\">Activation</span>)       │ (<span style=\"color: #00d7ff; text-decoration-color: #00d7ff\">None</span>, <span style=\"color: #00af00; text-decoration-color: #00af00\">75</span>, <span style=\"color: #00af00; text-decoration-color: #00af00\">23</span>, <span style=\"color: #00af00; text-decoration-color: #00af00\">70</span>,     │             <span style=\"color: #00af00; text-decoration-color: #00af00\">0</span> │\n",
       "│                                 │ <span style=\"color: #00af00; text-decoration-color: #00af00\">256</span>)                   │               │\n",
       "├─────────────────────────────────┼────────────────────────┼───────────────┤\n",
       "│ max_pooling3d_1 (<span style=\"color: #0087ff; text-decoration-color: #0087ff\">MaxPooling3D</span>)  │ (<span style=\"color: #00d7ff; text-decoration-color: #00d7ff\">None</span>, <span style=\"color: #00af00; text-decoration-color: #00af00\">75</span>, <span style=\"color: #00af00; text-decoration-color: #00af00\">11</span>, <span style=\"color: #00af00; text-decoration-color: #00af00\">35</span>,     │             <span style=\"color: #00af00; text-decoration-color: #00af00\">0</span> │\n",
       "│                                 │ <span style=\"color: #00af00; text-decoration-color: #00af00\">256</span>)                   │               │\n",
       "├─────────────────────────────────┼────────────────────────┼───────────────┤\n",
       "│ conv3d_2 (<span style=\"color: #0087ff; text-decoration-color: #0087ff\">Conv3D</span>)               │ (<span style=\"color: #00d7ff; text-decoration-color: #00d7ff\">None</span>, <span style=\"color: #00af00; text-decoration-color: #00af00\">75</span>, <span style=\"color: #00af00; text-decoration-color: #00af00\">11</span>, <span style=\"color: #00af00; text-decoration-color: #00af00\">35</span>, <span style=\"color: #00af00; text-decoration-color: #00af00\">75</span>) │       <span style=\"color: #00af00; text-decoration-color: #00af00\">518,475</span> │\n",
       "├─────────────────────────────────┼────────────────────────┼───────────────┤\n",
       "│ activation_2 (<span style=\"color: #0087ff; text-decoration-color: #0087ff\">Activation</span>)       │ (<span style=\"color: #00d7ff; text-decoration-color: #00d7ff\">None</span>, <span style=\"color: #00af00; text-decoration-color: #00af00\">75</span>, <span style=\"color: #00af00; text-decoration-color: #00af00\">11</span>, <span style=\"color: #00af00; text-decoration-color: #00af00\">35</span>, <span style=\"color: #00af00; text-decoration-color: #00af00\">75</span>) │             <span style=\"color: #00af00; text-decoration-color: #00af00\">0</span> │\n",
       "├─────────────────────────────────┼────────────────────────┼───────────────┤\n",
       "│ max_pooling3d_2 (<span style=\"color: #0087ff; text-decoration-color: #0087ff\">MaxPooling3D</span>)  │ (<span style=\"color: #00d7ff; text-decoration-color: #00d7ff\">None</span>, <span style=\"color: #00af00; text-decoration-color: #00af00\">75</span>, <span style=\"color: #00af00; text-decoration-color: #00af00\">5</span>, <span style=\"color: #00af00; text-decoration-color: #00af00\">17</span>, <span style=\"color: #00af00; text-decoration-color: #00af00\">75</span>)  │             <span style=\"color: #00af00; text-decoration-color: #00af00\">0</span> │\n",
       "├─────────────────────────────────┼────────────────────────┼───────────────┤\n",
       "│ time_distributed                │ (<span style=\"color: #00d7ff; text-decoration-color: #00d7ff\">None</span>, <span style=\"color: #00af00; text-decoration-color: #00af00\">75</span>, <span style=\"color: #00af00; text-decoration-color: #00af00\">6375</span>)       │             <span style=\"color: #00af00; text-decoration-color: #00af00\">0</span> │\n",
       "│ (<span style=\"color: #0087ff; text-decoration-color: #0087ff\">TimeDistributed</span>)               │                        │               │\n",
       "├─────────────────────────────────┼────────────────────────┼───────────────┤\n",
       "│ bidirectional (<span style=\"color: #0087ff; text-decoration-color: #0087ff\">Bidirectional</span>)   │ (<span style=\"color: #00d7ff; text-decoration-color: #00d7ff\">None</span>, <span style=\"color: #00af00; text-decoration-color: #00af00\">75</span>, <span style=\"color: #00af00; text-decoration-color: #00af00\">256</span>)        │     <span style=\"color: #00af00; text-decoration-color: #00af00\">6,660,096</span> │\n",
       "├─────────────────────────────────┼────────────────────────┼───────────────┤\n",
       "│ dropout (<span style=\"color: #0087ff; text-decoration-color: #0087ff\">Dropout</span>)               │ (<span style=\"color: #00d7ff; text-decoration-color: #00d7ff\">None</span>, <span style=\"color: #00af00; text-decoration-color: #00af00\">75</span>, <span style=\"color: #00af00; text-decoration-color: #00af00\">256</span>)        │             <span style=\"color: #00af00; text-decoration-color: #00af00\">0</span> │\n",
       "├─────────────────────────────────┼────────────────────────┼───────────────┤\n",
       "│ bidirectional_1 (<span style=\"color: #0087ff; text-decoration-color: #0087ff\">Bidirectional</span>) │ (<span style=\"color: #00d7ff; text-decoration-color: #00d7ff\">None</span>, <span style=\"color: #00af00; text-decoration-color: #00af00\">75</span>, <span style=\"color: #00af00; text-decoration-color: #00af00\">256</span>)        │       <span style=\"color: #00af00; text-decoration-color: #00af00\">394,240</span> │\n",
       "├─────────────────────────────────┼────────────────────────┼───────────────┤\n",
       "│ dropout_1 (<span style=\"color: #0087ff; text-decoration-color: #0087ff\">Dropout</span>)             │ (<span style=\"color: #00d7ff; text-decoration-color: #00d7ff\">None</span>, <span style=\"color: #00af00; text-decoration-color: #00af00\">75</span>, <span style=\"color: #00af00; text-decoration-color: #00af00\">256</span>)        │             <span style=\"color: #00af00; text-decoration-color: #00af00\">0</span> │\n",
       "├─────────────────────────────────┼────────────────────────┼───────────────┤\n",
       "│ dense (<span style=\"color: #0087ff; text-decoration-color: #0087ff\">Dense</span>)                   │ (<span style=\"color: #00d7ff; text-decoration-color: #00d7ff\">None</span>, <span style=\"color: #00af00; text-decoration-color: #00af00\">75</span>, <span style=\"color: #00af00; text-decoration-color: #00af00\">41</span>)         │        <span style=\"color: #00af00; text-decoration-color: #00af00\">10,537</span> │\n",
       "└─────────────────────────────────┴────────────────────────┴───────────────┘\n",
       "</pre>\n"
      ]
     },
     "metadata": {},
     "output_type": "display_data"
    },
    {
     "data": {
      "text/plain": [
       "\u001B[1m Total params: \u001B[0m\u001B[38;5;34m8,471,924\u001B[0m (32.32 MB)\n"
      ],
      "text/html": [
       "<pre style=\"white-space:pre;overflow-x:auto;line-height:normal;font-family:Menlo,'DejaVu Sans Mono',consolas,'Courier New',monospace\"><span style=\"font-weight: bold\"> Total params: </span><span style=\"color: #00af00; text-decoration-color: #00af00\">8,471,924</span> (32.32 MB)\n",
       "</pre>\n"
      ]
     },
     "metadata": {},
     "output_type": "display_data"
    },
    {
     "data": {
      "text/plain": [
       "\u001B[1m Trainable params: \u001B[0m\u001B[38;5;34m8,471,924\u001B[0m (32.32 MB)\n"
      ],
      "text/html": [
       "<pre style=\"white-space:pre;overflow-x:auto;line-height:normal;font-family:Menlo,'DejaVu Sans Mono',consolas,'Courier New',monospace\"><span style=\"font-weight: bold\"> Trainable params: </span><span style=\"color: #00af00; text-decoration-color: #00af00\">8,471,924</span> (32.32 MB)\n",
       "</pre>\n"
      ]
     },
     "metadata": {},
     "output_type": "display_data"
    },
    {
     "data": {
      "text/plain": [
       "\u001B[1m Non-trainable params: \u001B[0m\u001B[38;5;34m0\u001B[0m (0.00 B)\n"
      ],
      "text/html": [
       "<pre style=\"white-space:pre;overflow-x:auto;line-height:normal;font-family:Menlo,'DejaVu Sans Mono',consolas,'Courier New',monospace\"><span style=\"font-weight: bold\"> Non-trainable params: </span><span style=\"color: #00af00; text-decoration-color: #00af00\">0</span> (0.00 B)\n",
       "</pre>\n"
      ]
     },
     "metadata": {},
     "output_type": "display_data"
    }
   ],
   "execution_count": 33
  },
  {
   "metadata": {
    "ExecuteTime": {
     "end_time": "2024-05-23T02:39:42.542904Z",
     "start_time": "2024-05-23T02:39:37.267799Z"
    }
   },
   "cell_type": "code",
   "source": "yhat = model.predict(val[0])",
   "id": "dc388dc80234dfdd",
   "outputs": [
    {
     "name": "stdout",
     "output_type": "stream",
     "text": [
      "\u001B[1m1/1\u001B[0m \u001B[32m━━━━━━━━━━━━━━━━━━━━\u001B[0m\u001B[37m\u001B[0m \u001B[1m5s\u001B[0m 5s/step\n"
     ]
    }
   ],
   "execution_count": 34
  },
  {
   "metadata": {
    "ExecuteTime": {
     "end_time": "2024-05-23T02:39:42.628267Z",
     "start_time": "2024-05-23T02:39:42.546191Z"
    }
   },
   "cell_type": "code",
   "source": "tf.strings.reduce_join([num_to_char(x) for x in tf.argmax(yhat[0],axis=1)])",
   "id": "a1ed356219607848",
   "outputs": [
    {
     "data": {
      "text/plain": [
       "<tf.Tensor: shape=(), dtype=string, numpy=b\"2''''''''''''''''''''''''''''''''''''''''''''''''''''''''''''''''''''''''''\">"
      ]
     },
     "execution_count": 35,
     "metadata": {},
     "output_type": "execute_result"
    }
   ],
   "execution_count": 35
  },
  {
   "metadata": {
    "ExecuteTime": {
     "end_time": "2024-05-23T02:39:42.679766Z",
     "start_time": "2024-05-23T02:39:42.630848Z"
    }
   },
   "cell_type": "code",
   "source": "tf.strings.reduce_join([num_to_char(tf.argmax(x)) for x in yhat[0]])",
   "id": "2d4c2118bce140ab",
   "outputs": [
    {
     "data": {
      "text/plain": [
       "<tf.Tensor: shape=(), dtype=string, numpy=b\"2''''''''''''''''''''''''''''''''''''''''''''''''''''''''''''''''''''''''''\">"
      ]
     },
     "execution_count": 36,
     "metadata": {},
     "output_type": "execute_result"
    }
   ],
   "execution_count": 36
  },
  {
   "metadata": {
    "ExecuteTime": {
     "end_time": "2024-05-23T02:39:42.691216Z",
     "start_time": "2024-05-23T02:39:42.684188Z"
    }
   },
   "cell_type": "code",
   "source": "model.input_shape",
   "id": "aa453a2da09046c3",
   "outputs": [
    {
     "data": {
      "text/plain": [
       "(None, 75, 46, 140, 1)"
      ]
     },
     "execution_count": 37,
     "metadata": {},
     "output_type": "execute_result"
    }
   ],
   "execution_count": 37
  },
  {
   "metadata": {
    "ExecuteTime": {
     "end_time": "2024-05-23T02:39:42.702238Z",
     "start_time": "2024-05-23T02:39:42.693672Z"
    }
   },
   "cell_type": "code",
   "source": "model.output_shape",
   "id": "ef1b723d25ed2b5e",
   "outputs": [
    {
     "data": {
      "text/plain": [
       "(None, 75, 41)"
      ]
     },
     "execution_count": 38,
     "metadata": {},
     "output_type": "execute_result"
    }
   ],
   "execution_count": 38
  },
  {
   "metadata": {},
   "cell_type": "markdown",
   "source": "Set Training Options and Train the Model",
   "id": "f4db5c303b7dab41"
  },
  {
   "metadata": {
    "ExecuteTime": {
     "end_time": "2024-05-23T02:39:42.710659Z",
     "start_time": "2024-05-23T02:39:42.705204Z"
    }
   },
   "cell_type": "code",
   "source": [
    "def scheduler(epoch, lr):\n",
    "    if epoch < 30:\n",
    "        return lr\n",
    "    else:\n",
    "        return lr * tf.math.exp(-0.1)"
   ],
   "id": "ce7df2d8882c304f",
   "outputs": [],
   "execution_count": 39
  },
  {
   "metadata": {},
   "cell_type": "markdown",
   "source": "",
   "id": "ffe797805adb7037"
  },
  {
   "metadata": {
    "ExecuteTime": {
     "end_time": "2024-05-23T02:39:43.477992Z",
     "start_time": "2024-05-23T02:39:43.472671Z"
    }
   },
   "cell_type": "code",
   "source": [
    "def CTCLoss(y_true, y_pred):\n",
    "    batch_len = tf.cast(tf.shape(y_true)[0], dtype='int64')\n",
    "    input_length = tf.cast(tf.shape(y_pred)[1], dtype='int64')\n",
    "    label_length = tf.cast(tf.shape(y_true)[1], dtype='int64')\n",
    "    \n",
    "    input_length = input_length * tf.ones(shape=(batch_len, 1), dtype='int64')\n",
    "    label_length = label_length * tf.ones(shape=(batch_len, 1), dtype='int64')\n",
    "    \n",
    "    loss = tf.keras.backend.ctc_batch_cost(y_true, y_pred, input_length, label_length)\n",
    "    return loss"
   ],
   "id": "a282c58e62e016dc",
   "outputs": [],
   "execution_count": 40
  },
  {
   "metadata": {
    "ExecuteTime": {
     "end_time": "2024-05-23T02:39:43.975817Z",
     "start_time": "2024-05-23T02:39:43.968115Z"
    }
   },
   "cell_type": "code",
   "source": [
    "class ProduceExample(tf.keras.callbacks.Callback):\n",
    "    def __init__(self,dataset) -> None:\n",
    "        self.dataset = dataset.as_numpy_iterator()\n",
    "    \n",
    "    def on_epoch_end(self,epoch, logs=None) -> None:\n",
    "        data = self.dataset.next()\n",
    "        yhat = self.model.predict(data[0])\n",
    "        decoded = tf.keras.backend.ctc_decode(yhat, [75,75], greedy=False)[0][0].numpy()\n",
    "        for i in range(len(yhat)):\n",
    "            print('Original:', tf.strings.reduce_join(num_to_char(data[1][i])).numpy().decode('utf-8'))\n",
    "            print('Prediction:', tf.strings.reduce_join(num_to_char(decoded[i])).numpy().decode('utf-8'))\n",
    "            print('~'*100)"
   ],
   "id": "356d0cead4988207",
   "outputs": [],
   "execution_count": 41
  },
  {
   "metadata": {
    "ExecuteTime": {
     "end_time": "2024-05-23T02:39:44.758318Z",
     "start_time": "2024-05-23T02:39:44.744342Z"
    }
   },
   "cell_type": "code",
   "source": "model.compile(optimizer=Adam(learning_rate=0.0001), loss=CTCLoss)",
   "id": "2886a348e3d77e01",
   "outputs": [],
   "execution_count": 42
  },
  {
   "metadata": {
    "ExecuteTime": {
     "end_time": "2024-05-23T02:39:44.958436Z",
     "start_time": "2024-05-23T02:39:44.954030Z"
    }
   },
   "cell_type": "code",
   "source": "checkpoint_callback = ModelCheckpoint(os.path.join('models','checkpoint','.weights.h5'), monitor = 'loss', save_weights_only=True)",
   "id": "66bc85bdf7dba83f",
   "outputs": [],
   "execution_count": 43
  },
  {
   "metadata": {
    "ExecuteTime": {
     "end_time": "2024-05-23T02:39:45.460266Z",
     "start_time": "2024-05-23T02:39:45.456557Z"
    }
   },
   "cell_type": "code",
   "source": "schedule_callback = LearningRateScheduler(scheduler)",
   "id": "979d9c1d7fad99a0",
   "outputs": [],
   "execution_count": 44
  },
  {
   "metadata": {
    "ExecuteTime": {
     "end_time": "2024-05-23T02:39:45.950476Z",
     "start_time": "2024-05-23T02:39:45.932995Z"
    }
   },
   "cell_type": "code",
   "source": "example_callback = ProduceExample(test)",
   "id": "f8e38f3e8cf1e07d",
   "outputs": [],
   "execution_count": 45
  },
  {
   "metadata": {
    "ExecuteTime": {
     "end_time": "2024-05-23T02:40:00.874035Z",
     "start_time": "2024-05-23T02:39:46.697293Z"
    }
   },
   "cell_type": "code",
   "source": "model.fit(train, validation_data = test, epochs=100, callbacks=[checkpoint_callback, schedule_callback, example_callback])",
   "id": "132b8b9659303658",
   "outputs": [
    {
     "name": "stdout",
     "output_type": "stream",
     "text": [
      "Epoch 1/100\n"
     ]
    },
    {
     "name": "stderr",
     "output_type": "stream",
     "text": [
      "WARNING: All log messages before absl::InitializeLog() is called are written to STDERR\n",
      "I0000 00:00:1716431995.655756 58925009 service.cc:145] XLA service 0x600003b99c00 initialized for platform Host (this does not guarantee that XLA will be used). Devices:\n",
      "I0000 00:00:1716431995.655808 58925009 service.cc:153]   StreamExecutor device (0): Host, Default Version\n",
      "2024-05-22 22:39:55.656133: I tensorflow/core/platform/cpu_feature_guard.cc:210] This TensorFlow binary is optimized to use available CPU instructions in performance-critical operations.\n",
      "To enable the following instructions: AVX2 FMA, in other operations, rebuild TensorFlow with the appropriate compiler flags.\n",
      "I0000 00:00:1716431995.672885 58925009 device_compiler.h:188] Compiled cluster using XLA!  This line is logged at most once for the lifetime of the process.\n",
      "2024-05-22 22:39:58.968243: W tensorflow/core/framework/op_kernel.cc:1839] OP_REQUIRES failed at reshape_op.h:65 : INVALID_ARGUMENT: Only one input size may be -1, not both 0 and 1\n",
      "2024-05-22 22:39:58.968326: W tensorflow/core/framework/op_kernel.cc:1839] OP_REQUIRES failed at reshape_op.h:65 : INVALID_ARGUMENT: Only one input size may be -1, not both 0 and 1\n",
      "2024-05-22 22:39:58.968342: W tensorflow/core/framework/local_rendezvous.cc:404] Local rendezvous is aborting with status: INVALID_ARGUMENT: Only one input size may be -1, not both 0 and 1\n",
      "\t [[{{function_node __inference_one_step_on_data_29422}}{{node sequential_1/time_distributed_1/Reshape_10}}]]\n",
      "2024-05-22 22:39:58.968356: W tensorflow/core/framework/op_kernel.cc:1839] OP_REQUIRES failed at reshape_op.h:65 : INVALID_ARGUMENT: Only one input size may be -1, not both 0 and 1\n",
      "2024-05-22 22:39:58.968378: W tensorflow/core/framework/op_kernel.cc:1839] OP_REQUIRES failed at reshape_op.h:65 : INVALID_ARGUMENT: Only one input size may be -1, not both 0 and 1\n",
      "2024-05-22 22:39:58.968398: W tensorflow/core/framework/op_kernel.cc:1839] OP_REQUIRES failed at reshape_op.h:65 : INVALID_ARGUMENT: Only one input size may be -1, not both 0 and 1\n",
      "2024-05-22 22:39:58.968411: W tensorflow/core/framework/op_kernel.cc:1839] OP_REQUIRES failed at reshape_op.h:65 : INVALID_ARGUMENT: Only one input size may be -1, not both 0 and 1\n",
      "2024-05-22 22:39:58.968427: W tensorflow/core/framework/op_kernel.cc:1839] OP_REQUIRES failed at reshape_op.h:65 : INVALID_ARGUMENT: Only one input size may be -1, not both 0 and 1\n",
      "2024-05-22 22:39:58.968435: W tensorflow/core/framework/op_kernel.cc:1839] OP_REQUIRES failed at reshape_op.h:65 : INVALID_ARGUMENT: Only one input size may be -1, not both 0 and 1\n",
      "2024-05-22 22:39:58.968454: W tensorflow/core/framework/op_kernel.cc:1839] OP_REQUIRES failed at reshape_op.h:65 : INVALID_ARGUMENT: Only one input size may be -1, not both 0 and 1\n",
      "2024-05-22 22:39:58.968480: W tensorflow/core/framework/op_kernel.cc:1839] OP_REQUIRES failed at reshape_op.h:65 : INVALID_ARGUMENT: Only one input size may be -1, not both 0 and 1\n",
      "2024-05-22 22:39:58.968499: W tensorflow/core/framework/op_kernel.cc:1839] OP_REQUIRES failed at reshape_op.h:65 : INVALID_ARGUMENT: Only one input size may be -1, not both 0 and 1\n",
      "2024-05-22 22:39:58.968522: W tensorflow/core/framework/op_kernel.cc:1839] OP_REQUIRES failed at reshape_op.h:65 : INVALID_ARGUMENT: Only one input size may be -1, not both 0 and 1\n",
      "2024-05-22 22:39:58.968540: W tensorflow/core/framework/op_kernel.cc:1839] OP_REQUIRES failed at reshape_op.h:65 : INVALID_ARGUMENT: Only one input size may be -1, not both 0 and 1\n",
      "2024-05-22 22:39:58.968556: W tensorflow/core/framework/op_kernel.cc:1839] OP_REQUIRES failed at reshape_op.h:65 : INVALID_ARGUMENT: Only one input size may be -1, not both 0 and 1\n",
      "2024-05-22 22:39:58.968571: W tensorflow/core/framework/op_kernel.cc:1839] OP_REQUIRES failed at reshape_op.h:65 : INVALID_ARGUMENT: Only one input size may be -1, not both 0 and 1\n",
      "2024-05-22 22:39:58.968585: W tensorflow/core/framework/op_kernel.cc:1839] OP_REQUIRES failed at reshape_op.h:65 : INVALID_ARGUMENT: Only one input size may be -1, not both 0 and 1\n",
      "2024-05-22 22:39:58.968595: W tensorflow/core/framework/op_kernel.cc:1839] OP_REQUIRES failed at reshape_op.h:65 : INVALID_ARGUMENT: Only one input size may be -1, not both 0 and 1\n",
      "2024-05-22 22:39:58.968603: W tensorflow/core/framework/op_kernel.cc:1839] OP_REQUIRES failed at reshape_op.h:65 : INVALID_ARGUMENT: Only one input size may be -1, not both 0 and 1\n",
      "2024-05-22 22:39:58.968618: W tensorflow/core/framework/op_kernel.cc:1839] OP_REQUIRES failed at reshape_op.h:65 : INVALID_ARGUMENT: Only one input size may be -1, not both 0 and 1\n",
      "2024-05-22 22:39:58.968643: W tensorflow/core/framework/op_kernel.cc:1839] OP_REQUIRES failed at reshape_op.h:65 : INVALID_ARGUMENT: Only one input size may be -1, not both 0 and 1\n",
      "2024-05-22 22:39:58.968662: W tensorflow/core/framework/op_kernel.cc:1839] OP_REQUIRES failed at reshape_op.h:65 : INVALID_ARGUMENT: Only one input size may be -1, not both 0 and 1\n",
      "2024-05-22 22:39:58.968681: W tensorflow/core/framework/op_kernel.cc:1839] OP_REQUIRES failed at reshape_op.h:65 : INVALID_ARGUMENT: Only one input size may be -1, not both 0 and 1\n",
      "2024-05-22 22:39:58.968703: W tensorflow/core/framework/op_kernel.cc:1839] OP_REQUIRES failed at reshape_op.h:65 : INVALID_ARGUMENT: Only one input size may be -1, not both 0 and 1\n",
      "2024-05-22 22:39:58.968743: W tensorflow/core/framework/op_kernel.cc:1839] OP_REQUIRES failed at reshape_op.h:65 : INVALID_ARGUMENT: Only one input size may be -1, not both 0 and 1\n",
      "2024-05-22 22:39:58.968751: W tensorflow/core/framework/op_kernel.cc:1839] OP_REQUIRES failed at reshape_op.h:65 : INVALID_ARGUMENT: Only one input size may be -1, not both 0 and 1\n",
      "2024-05-22 22:39:58.968761: W tensorflow/core/framework/op_kernel.cc:1839] OP_REQUIRES failed at reshape_op.h:65 : INVALID_ARGUMENT: Only one input size may be -1, not both 0 and 1\n",
      "2024-05-22 22:39:58.968781: W tensorflow/core/framework/op_kernel.cc:1839] OP_REQUIRES failed at reshape_op.h:65 : INVALID_ARGUMENT: Only one input size may be -1, not both 0 and 1\n",
      "2024-05-22 22:39:58.968799: W tensorflow/core/framework/op_kernel.cc:1839] OP_REQUIRES failed at reshape_op.h:65 : INVALID_ARGUMENT: Only one input size may be -1, not both 0 and 1\n",
      "2024-05-22 22:39:58.968812: W tensorflow/core/framework/op_kernel.cc:1839] OP_REQUIRES failed at reshape_op.h:65 : INVALID_ARGUMENT: Only one input size may be -1, not both 0 and 1\n",
      "2024-05-22 22:39:58.968829: W tensorflow/core/framework/op_kernel.cc:1839] OP_REQUIRES failed at reshape_op.h:65 : INVALID_ARGUMENT: Only one input size may be -1, not both 0 and 1\n",
      "2024-05-22 22:39:58.968857: W tensorflow/core/framework/op_kernel.cc:1839] OP_REQUIRES failed at reshape_op.h:65 : INVALID_ARGUMENT: Only one input size may be -1, not both 0 and 1\n",
      "2024-05-22 22:39:58.968863: W tensorflow/core/framework/op_kernel.cc:1839] OP_REQUIRES failed at reshape_op.h:65 : INVALID_ARGUMENT: Only one input size may be -1, not both 0 and 1\n",
      "2024-05-22 22:39:58.968874: W tensorflow/core/framework/op_kernel.cc:1839] OP_REQUIRES failed at reshape_op.h:65 : INVALID_ARGUMENT: Only one input size may be -1, not both 0 and 1\n",
      "2024-05-22 22:39:58.968889: W tensorflow/core/framework/op_kernel.cc:1839] OP_REQUIRES failed at reshape_op.h:65 : INVALID_ARGUMENT: Only one input size may be -1, not both 0 and 1\n",
      "2024-05-22 22:39:58.968904: W tensorflow/core/framework/op_kernel.cc:1839] OP_REQUIRES failed at reshape_op.h:65 : INVALID_ARGUMENT: Only one input size may be -1, not both 0 and 1\n",
      "2024-05-22 22:39:58.968916: W tensorflow/core/framework/op_kernel.cc:1839] OP_REQUIRES failed at reshape_op.h:65 : INVALID_ARGUMENT: Only one input size may be -1, not both 0 and 1\n",
      "2024-05-22 22:39:58.968932: W tensorflow/core/framework/op_kernel.cc:1839] OP_REQUIRES failed at reshape_op.h:65 : INVALID_ARGUMENT: Only one input size may be -1, not both 0 and 1\n",
      "2024-05-22 22:39:58.968950: W tensorflow/core/framework/op_kernel.cc:1839] OP_REQUIRES failed at reshape_op.h:65 : INVALID_ARGUMENT: Only one input size may be -1, not both 0 and 1\n",
      "2024-05-22 22:39:58.968958: W tensorflow/core/framework/op_kernel.cc:1839] OP_REQUIRES failed at reshape_op.h:65 : INVALID_ARGUMENT: Only one input size may be -1, not both 0 and 1\n",
      "2024-05-22 22:39:58.968966: W tensorflow/core/framework/op_kernel.cc:1839] OP_REQUIRES failed at reshape_op.h:65 : INVALID_ARGUMENT: Only one input size may be -1, not both 0 and 1\n",
      "2024-05-22 22:39:58.968983: W tensorflow/core/framework/op_kernel.cc:1839] OP_REQUIRES failed at reshape_op.h:65 : INVALID_ARGUMENT: Only one input size may be -1, not both 0 and 1\n",
      "2024-05-22 22:39:58.968998: W tensorflow/core/framework/op_kernel.cc:1839] OP_REQUIRES failed at reshape_op.h:65 : INVALID_ARGUMENT: Only one input size may be -1, not both 0 and 1\n",
      "2024-05-22 22:39:58.969015: W tensorflow/core/framework/op_kernel.cc:1839] OP_REQUIRES failed at reshape_op.h:65 : INVALID_ARGUMENT: Only one input size may be -1, not both 0 and 1\n",
      "2024-05-22 22:39:58.969025: W tensorflow/core/framework/op_kernel.cc:1839] OP_REQUIRES failed at reshape_op.h:65 : INVALID_ARGUMENT: Only one input size may be -1, not both 0 and 1\n",
      "2024-05-22 22:39:58.969033: W tensorflow/core/framework/op_kernel.cc:1839] OP_REQUIRES failed at reshape_op.h:65 : INVALID_ARGUMENT: Only one input size may be -1, not both 0 and 1\n",
      "2024-05-22 22:39:58.969049: W tensorflow/core/framework/op_kernel.cc:1839] OP_REQUIRES failed at reshape_op.h:65 : INVALID_ARGUMENT: Only one input size may be -1, not both 0 and 1\n",
      "2024-05-22 22:39:58.969057: W tensorflow/core/framework/op_kernel.cc:1839] OP_REQUIRES failed at reshape_op.h:65 : INVALID_ARGUMENT: Only one input size may be -1, not both 0 and 1\n",
      "2024-05-22 22:39:58.969068: W tensorflow/core/framework/op_kernel.cc:1839] OP_REQUIRES failed at reshape_op.h:65 : INVALID_ARGUMENT: Only one input size may be -1, not both 0 and 1\n",
      "2024-05-22 22:39:58.969084: W tensorflow/core/framework/op_kernel.cc:1839] OP_REQUIRES failed at reshape_op.h:65 : INVALID_ARGUMENT: Only one input size may be -1, not both 0 and 1\n",
      "2024-05-22 22:39:58.969114: W tensorflow/core/framework/op_kernel.cc:1839] OP_REQUIRES failed at reshape_op.h:65 : INVALID_ARGUMENT: Only one input size may be -1, not both 0 and 1\n",
      "2024-05-22 22:39:58.969158: W tensorflow/core/framework/op_kernel.cc:1839] OP_REQUIRES failed at reshape_op.h:65 : INVALID_ARGUMENT: Only one input size may be -1, not both 0 and 1\n",
      "2024-05-22 22:39:58.969168: W tensorflow/core/framework/op_kernel.cc:1839] OP_REQUIRES failed at reshape_op.h:65 : INVALID_ARGUMENT: Only one input size may be -1, not both 0 and 1\n",
      "2024-05-22 22:39:58.969174: W tensorflow/core/framework/op_kernel.cc:1839] OP_REQUIRES failed at reshape_op.h:65 : INVALID_ARGUMENT: Only one input size may be -1, not both 0 and 1\n",
      "2024-05-22 22:39:58.969193: W tensorflow/core/framework/op_kernel.cc:1839] OP_REQUIRES failed at reshape_op.h:65 : INVALID_ARGUMENT: Only one input size may be -1, not both 0 and 1\n",
      "2024-05-22 22:39:58.969212: W tensorflow/core/framework/op_kernel.cc:1839] OP_REQUIRES failed at reshape_op.h:65 : INVALID_ARGUMENT: Only one input size may be -1, not both 0 and 1\n",
      "2024-05-22 22:39:58.969229: W tensorflow/core/framework/op_kernel.cc:1839] OP_REQUIRES failed at reshape_op.h:65 : INVALID_ARGUMENT: Only one input size may be -1, not both 0 and 1\n",
      "2024-05-22 22:39:58.969248: W tensorflow/core/framework/op_kernel.cc:1839] OP_REQUIRES failed at reshape_op.h:65 : INVALID_ARGUMENT: Only one input size may be -1, not both 0 and 1\n",
      "2024-05-22 22:39:58.969264: W tensorflow/core/framework/op_kernel.cc:1839] OP_REQUIRES failed at reshape_op.h:65 : INVALID_ARGUMENT: Only one input size may be -1, not both 0 and 1\n",
      "2024-05-22 22:39:58.969277: W tensorflow/core/framework/op_kernel.cc:1839] OP_REQUIRES failed at reshape_op.h:65 : INVALID_ARGUMENT: Only one input size may be -1, not both 0 and 1\n",
      "2024-05-22 22:39:58.969290: W tensorflow/core/framework/op_kernel.cc:1839] OP_REQUIRES failed at reshape_op.h:65 : INVALID_ARGUMENT: Only one input size may be -1, not both 0 and 1\n",
      "2024-05-22 22:39:58.969306: W tensorflow/core/framework/op_kernel.cc:1839] OP_REQUIRES failed at reshape_op.h:65 : INVALID_ARGUMENT: Only one input size may be -1, not both 0 and 1\n",
      "2024-05-22 22:39:58.969315: W tensorflow/core/framework/op_kernel.cc:1839] OP_REQUIRES failed at reshape_op.h:65 : INVALID_ARGUMENT: Only one input size may be -1, not both 0 and 1\n",
      "2024-05-22 22:39:58.969333: W tensorflow/core/framework/op_kernel.cc:1839] OP_REQUIRES failed at reshape_op.h:65 : INVALID_ARGUMENT: Only one input size may be -1, not both 0 and 1\n",
      "2024-05-22 22:39:58.969346: W tensorflow/core/framework/op_kernel.cc:1839] OP_REQUIRES failed at reshape_op.h:65 : INVALID_ARGUMENT: Only one input size may be -1, not both 0 and 1\n",
      "2024-05-22 22:39:58.969364: W tensorflow/core/framework/op_kernel.cc:1839] OP_REQUIRES failed at reshape_op.h:65 : INVALID_ARGUMENT: Only one input size may be -1, not both 0 and 1\n",
      "2024-05-22 22:39:58.969375: W tensorflow/core/framework/op_kernel.cc:1839] OP_REQUIRES failed at reshape_op.h:65 : INVALID_ARGUMENT: Only one input size may be -1, not both 0 and 1\n",
      "2024-05-22 22:39:58.969389: W tensorflow/core/framework/op_kernel.cc:1839] OP_REQUIRES failed at reshape_op.h:65 : INVALID_ARGUMENT: Only one input size may be -1, not both 0 and 1\n",
      "2024-05-22 22:39:58.969400: W tensorflow/core/framework/op_kernel.cc:1839] OP_REQUIRES failed at reshape_op.h:65 : INVALID_ARGUMENT: Only one input size may be -1, not both 0 and 1\n",
      "2024-05-22 22:39:58.969411: W tensorflow/core/framework/op_kernel.cc:1839] OP_REQUIRES failed at reshape_op.h:65 : INVALID_ARGUMENT: Only one input size may be -1, not both 0 and 1\n",
      "2024-05-22 22:39:58.969419: W tensorflow/core/framework/op_kernel.cc:1839] OP_REQUIRES failed at reshape_op.h:65 : INVALID_ARGUMENT: Only one input size may be -1, not both 0 and 1\n",
      "2024-05-22 22:39:58.969432: W tensorflow/core/framework/op_kernel.cc:1839] OP_REQUIRES failed at reshape_op.h:65 : INVALID_ARGUMENT: Only one input size may be -1, not both 0 and 1\n",
      "2024-05-22 22:39:58.969443: W tensorflow/core/framework/op_kernel.cc:1839] OP_REQUIRES failed at reshape_op.h:65 : INVALID_ARGUMENT: Only one input size may be -1, not both 0 and 1\n",
      "2024-05-22 22:39:58.969463: W tensorflow/core/framework/op_kernel.cc:1839] OP_REQUIRES failed at reshape_op.h:65 : INVALID_ARGUMENT: Only one input size may be -1, not both 0 and 1\n",
      "2024-05-22 22:39:58.969497: W tensorflow/core/framework/op_kernel.cc:1839] OP_REQUIRES failed at reshape_op.h:65 : INVALID_ARGUMENT: Only one input size may be -1, not both 0 and 1\n",
      "2024-05-22 22:39:58.969521: W tensorflow/core/framework/op_kernel.cc:1839] OP_REQUIRES failed at reshape_op.h:65 : INVALID_ARGUMENT: Only one input size may be -1, not both 0 and 1\n"
     ]
    },
    {
     "ename": "InvalidArgumentError",
     "evalue": "Graph execution error:\n\nDetected at node sequential_1/time_distributed_1/Reshape_10 defined at (most recent call last):\n  File \"/usr/local/Cellar/python@3.9/3.9.19/Frameworks/Python.framework/Versions/3.9/lib/python3.9/runpy.py\", line 197, in _run_module_as_main\n\n  File \"/usr/local/Cellar/python@3.9/3.9.19/Frameworks/Python.framework/Versions/3.9/lib/python3.9/runpy.py\", line 87, in _run_code\n\n  File \"/usr/local/lib/python3.9/site-packages/ipykernel_launcher.py\", line 18, in <module>\n\n  File \"/usr/local/lib/python3.9/site-packages/traitlets/config/application.py\", line 1075, in launch_instance\n\n  File \"/usr/local/lib/python3.9/site-packages/ipykernel/kernelapp.py\", line 739, in start\n\n  File \"/usr/local/lib/python3.9/site-packages/tornado/platform/asyncio.py\", line 205, in start\n\n  File \"/usr/local/Cellar/python@3.9/3.9.19/Frameworks/Python.framework/Versions/3.9/lib/python3.9/asyncio/base_events.py\", line 601, in run_forever\n\n  File \"/usr/local/Cellar/python@3.9/3.9.19/Frameworks/Python.framework/Versions/3.9/lib/python3.9/asyncio/base_events.py\", line 1905, in _run_once\n\n  File \"/usr/local/Cellar/python@3.9/3.9.19/Frameworks/Python.framework/Versions/3.9/lib/python3.9/asyncio/events.py\", line 80, in _run\n\n  File \"/usr/local/lib/python3.9/site-packages/ipykernel/kernelbase.py\", line 545, in dispatch_queue\n\n  File \"/usr/local/lib/python3.9/site-packages/ipykernel/kernelbase.py\", line 534, in process_one\n\n  File \"/usr/local/lib/python3.9/site-packages/ipykernel/kernelbase.py\", line 437, in dispatch_shell\n\n  File \"/usr/local/lib/python3.9/site-packages/ipykernel/ipkernel.py\", line 362, in execute_request\n\n  File \"/usr/local/lib/python3.9/site-packages/ipykernel/kernelbase.py\", line 778, in execute_request\n\n  File \"/usr/local/lib/python3.9/site-packages/ipykernel/ipkernel.py\", line 449, in do_execute\n\n  File \"/usr/local/lib/python3.9/site-packages/ipykernel/zmqshell.py\", line 549, in run_cell\n\n  File \"/usr/local/lib/python3.9/site-packages/IPython/core/interactiveshell.py\", line 3048, in run_cell\n\n  File \"/usr/local/lib/python3.9/site-packages/IPython/core/interactiveshell.py\", line 3103, in _run_cell\n\n  File \"/usr/local/lib/python3.9/site-packages/IPython/core/async_helpers.py\", line 129, in _pseudo_sync_runner\n\n  File \"/usr/local/lib/python3.9/site-packages/IPython/core/interactiveshell.py\", line 3308, in run_cell_async\n\n  File \"/usr/local/lib/python3.9/site-packages/IPython/core/interactiveshell.py\", line 3490, in run_ast_nodes\n\n  File \"/usr/local/lib/python3.9/site-packages/IPython/core/interactiveshell.py\", line 3550, in run_code\n\n  File \"/var/folders/2f/5mj5f6hs3613yzxsrmjfnjg40000gn/T/ipykernel_38829/1214128382.py\", line 1, in <module>\n\n  File \"/usr/local/lib/python3.9/site-packages/keras/src/utils/traceback_utils.py\", line 117, in error_handler\n\n  File \"/usr/local/lib/python3.9/site-packages/keras/src/backend/tensorflow/trainer.py\", line 314, in fit\n\n  File \"/usr/local/lib/python3.9/site-packages/keras/src/backend/tensorflow/trainer.py\", line 117, in one_step_on_iterator\n\n  File \"/usr/local/lib/python3.9/site-packages/keras/src/backend/tensorflow/trainer.py\", line 104, in one_step_on_data\n\n  File \"/usr/local/lib/python3.9/site-packages/keras/src/backend/tensorflow/trainer.py\", line 51, in train_step\n\n  File \"/usr/local/lib/python3.9/site-packages/keras/src/utils/traceback_utils.py\", line 117, in error_handler\n\n  File \"/usr/local/lib/python3.9/site-packages/keras/src/layers/layer.py\", line 846, in __call__\n\n  File \"/usr/local/lib/python3.9/site-packages/keras/src/utils/traceback_utils.py\", line 117, in error_handler\n\n  File \"/usr/local/lib/python3.9/site-packages/keras/src/ops/operation.py\", line 48, in __call__\n\n  File \"/usr/local/lib/python3.9/site-packages/keras/src/utils/traceback_utils.py\", line 156, in error_handler\n\n  File \"/usr/local/lib/python3.9/site-packages/keras/src/models/sequential.py\", line 209, in call\n\n  File \"/usr/local/lib/python3.9/site-packages/keras/src/models/functional.py\", line 202, in call\n\n  File \"/usr/local/lib/python3.9/site-packages/keras/src/ops/function.py\", line 155, in _run_through_graph\n\n  File \"/usr/local/lib/python3.9/site-packages/keras/src/models/functional.py\", line 592, in call\n\n  File \"/usr/local/lib/python3.9/site-packages/keras/src/utils/traceback_utils.py\", line 117, in error_handler\n\n  File \"/usr/local/lib/python3.9/site-packages/keras/src/layers/layer.py\", line 846, in __call__\n\n  File \"/usr/local/lib/python3.9/site-packages/keras/src/utils/traceback_utils.py\", line 117, in error_handler\n\n  File \"/usr/local/lib/python3.9/site-packages/keras/src/ops/operation.py\", line 48, in __call__\n\n  File \"/usr/local/lib/python3.9/site-packages/keras/src/utils/traceback_utils.py\", line 156, in error_handler\n\n  File \"/usr/local/lib/python3.9/site-packages/keras/src/layers/rnn/time_distributed.py\", line 108, in call\n\n  File \"/usr/local/lib/python3.9/site-packages/keras/src/layers/rnn/time_distributed.py\", line 108, in <listcomp>\n\n  File \"/usr/local/lib/python3.9/site-packages/keras/src/layers/rnn/time_distributed.py\", line 102, in step_function\n\n  File \"/usr/local/lib/python3.9/site-packages/keras/src/layers/reshaping/flatten.py\", line 54, in call\n\n  File \"/usr/local/lib/python3.9/site-packages/keras/src/ops/numpy.py\", line 4415, in reshape\n\n  File \"/usr/local/lib/python3.9/site-packages/keras/src/backend/tensorflow/numpy.py\", line 1778, in reshape\n\nOnly one input size may be -1, not both 0 and 1\n\t [[{{node sequential_1/time_distributed_1/Reshape_10}}]] [Op:__inference_one_step_on_iterator_29557]",
     "output_type": "error",
     "traceback": [
      "\u001B[0;31m---------------------------------------------------------------------------\u001B[0m",
      "\u001B[0;31mInvalidArgumentError\u001B[0m                      Traceback (most recent call last)",
      "Cell \u001B[0;32mIn[46], line 1\u001B[0m\n\u001B[0;32m----> 1\u001B[0m \u001B[43mmodel\u001B[49m\u001B[38;5;241;43m.\u001B[39;49m\u001B[43mfit\u001B[49m\u001B[43m(\u001B[49m\u001B[43mtrain\u001B[49m\u001B[43m,\u001B[49m\u001B[43m \u001B[49m\u001B[43mvalidation_data\u001B[49m\u001B[43m \u001B[49m\u001B[38;5;241;43m=\u001B[39;49m\u001B[43m \u001B[49m\u001B[43mtest\u001B[49m\u001B[43m,\u001B[49m\u001B[43m \u001B[49m\u001B[43mepochs\u001B[49m\u001B[38;5;241;43m=\u001B[39;49m\u001B[38;5;241;43m100\u001B[39;49m\u001B[43m,\u001B[49m\u001B[43m \u001B[49m\u001B[43mcallbacks\u001B[49m\u001B[38;5;241;43m=\u001B[39;49m\u001B[43m[\u001B[49m\u001B[43mcheckpoint_callback\u001B[49m\u001B[43m,\u001B[49m\u001B[43m \u001B[49m\u001B[43mschedule_callback\u001B[49m\u001B[43m,\u001B[49m\u001B[43m \u001B[49m\u001B[43mexample_callback\u001B[49m\u001B[43m]\u001B[49m\u001B[43m)\u001B[49m\n",
      "File \u001B[0;32m/usr/local/lib/python3.9/site-packages/keras/src/utils/traceback_utils.py:122\u001B[0m, in \u001B[0;36mfilter_traceback.<locals>.error_handler\u001B[0;34m(*args, **kwargs)\u001B[0m\n\u001B[1;32m    119\u001B[0m     filtered_tb \u001B[38;5;241m=\u001B[39m _process_traceback_frames(e\u001B[38;5;241m.\u001B[39m__traceback__)\n\u001B[1;32m    120\u001B[0m     \u001B[38;5;66;03m# To get the full stack trace, call:\u001B[39;00m\n\u001B[1;32m    121\u001B[0m     \u001B[38;5;66;03m# `keras.config.disable_traceback_filtering()`\u001B[39;00m\n\u001B[0;32m--> 122\u001B[0m     \u001B[38;5;28;01mraise\u001B[39;00m e\u001B[38;5;241m.\u001B[39mwith_traceback(filtered_tb) \u001B[38;5;28;01mfrom\u001B[39;00m \u001B[38;5;28;01mNone\u001B[39;00m\n\u001B[1;32m    123\u001B[0m \u001B[38;5;28;01mfinally\u001B[39;00m:\n\u001B[1;32m    124\u001B[0m     \u001B[38;5;28;01mdel\u001B[39;00m filtered_tb\n",
      "File \u001B[0;32m/usr/local/lib/python3.9/site-packages/tensorflow/python/eager/execute.py:53\u001B[0m, in \u001B[0;36mquick_execute\u001B[0;34m(op_name, num_outputs, inputs, attrs, ctx, name)\u001B[0m\n\u001B[1;32m     51\u001B[0m \u001B[38;5;28;01mtry\u001B[39;00m:\n\u001B[1;32m     52\u001B[0m   ctx\u001B[38;5;241m.\u001B[39mensure_initialized()\n\u001B[0;32m---> 53\u001B[0m   tensors \u001B[38;5;241m=\u001B[39m pywrap_tfe\u001B[38;5;241m.\u001B[39mTFE_Py_Execute(ctx\u001B[38;5;241m.\u001B[39m_handle, device_name, op_name,\n\u001B[1;32m     54\u001B[0m                                       inputs, attrs, num_outputs)\n\u001B[1;32m     55\u001B[0m \u001B[38;5;28;01mexcept\u001B[39;00m core\u001B[38;5;241m.\u001B[39m_NotOkStatusException \u001B[38;5;28;01mas\u001B[39;00m e:\n\u001B[1;32m     56\u001B[0m   \u001B[38;5;28;01mif\u001B[39;00m name \u001B[38;5;129;01mis\u001B[39;00m \u001B[38;5;129;01mnot\u001B[39;00m \u001B[38;5;28;01mNone\u001B[39;00m:\n",
      "\u001B[0;31mInvalidArgumentError\u001B[0m: Graph execution error:\n\nDetected at node sequential_1/time_distributed_1/Reshape_10 defined at (most recent call last):\n  File \"/usr/local/Cellar/python@3.9/3.9.19/Frameworks/Python.framework/Versions/3.9/lib/python3.9/runpy.py\", line 197, in _run_module_as_main\n\n  File \"/usr/local/Cellar/python@3.9/3.9.19/Frameworks/Python.framework/Versions/3.9/lib/python3.9/runpy.py\", line 87, in _run_code\n\n  File \"/usr/local/lib/python3.9/site-packages/ipykernel_launcher.py\", line 18, in <module>\n\n  File \"/usr/local/lib/python3.9/site-packages/traitlets/config/application.py\", line 1075, in launch_instance\n\n  File \"/usr/local/lib/python3.9/site-packages/ipykernel/kernelapp.py\", line 739, in start\n\n  File \"/usr/local/lib/python3.9/site-packages/tornado/platform/asyncio.py\", line 205, in start\n\n  File \"/usr/local/Cellar/python@3.9/3.9.19/Frameworks/Python.framework/Versions/3.9/lib/python3.9/asyncio/base_events.py\", line 601, in run_forever\n\n  File \"/usr/local/Cellar/python@3.9/3.9.19/Frameworks/Python.framework/Versions/3.9/lib/python3.9/asyncio/base_events.py\", line 1905, in _run_once\n\n  File \"/usr/local/Cellar/python@3.9/3.9.19/Frameworks/Python.framework/Versions/3.9/lib/python3.9/asyncio/events.py\", line 80, in _run\n\n  File \"/usr/local/lib/python3.9/site-packages/ipykernel/kernelbase.py\", line 545, in dispatch_queue\n\n  File \"/usr/local/lib/python3.9/site-packages/ipykernel/kernelbase.py\", line 534, in process_one\n\n  File \"/usr/local/lib/python3.9/site-packages/ipykernel/kernelbase.py\", line 437, in dispatch_shell\n\n  File \"/usr/local/lib/python3.9/site-packages/ipykernel/ipkernel.py\", line 362, in execute_request\n\n  File \"/usr/local/lib/python3.9/site-packages/ipykernel/kernelbase.py\", line 778, in execute_request\n\n  File \"/usr/local/lib/python3.9/site-packages/ipykernel/ipkernel.py\", line 449, in do_execute\n\n  File \"/usr/local/lib/python3.9/site-packages/ipykernel/zmqshell.py\", line 549, in run_cell\n\n  File \"/usr/local/lib/python3.9/site-packages/IPython/core/interactiveshell.py\", line 3048, in run_cell\n\n  File \"/usr/local/lib/python3.9/site-packages/IPython/core/interactiveshell.py\", line 3103, in _run_cell\n\n  File \"/usr/local/lib/python3.9/site-packages/IPython/core/async_helpers.py\", line 129, in _pseudo_sync_runner\n\n  File \"/usr/local/lib/python3.9/site-packages/IPython/core/interactiveshell.py\", line 3308, in run_cell_async\n\n  File \"/usr/local/lib/python3.9/site-packages/IPython/core/interactiveshell.py\", line 3490, in run_ast_nodes\n\n  File \"/usr/local/lib/python3.9/site-packages/IPython/core/interactiveshell.py\", line 3550, in run_code\n\n  File \"/var/folders/2f/5mj5f6hs3613yzxsrmjfnjg40000gn/T/ipykernel_38829/1214128382.py\", line 1, in <module>\n\n  File \"/usr/local/lib/python3.9/site-packages/keras/src/utils/traceback_utils.py\", line 117, in error_handler\n\n  File \"/usr/local/lib/python3.9/site-packages/keras/src/backend/tensorflow/trainer.py\", line 314, in fit\n\n  File \"/usr/local/lib/python3.9/site-packages/keras/src/backend/tensorflow/trainer.py\", line 117, in one_step_on_iterator\n\n  File \"/usr/local/lib/python3.9/site-packages/keras/src/backend/tensorflow/trainer.py\", line 104, in one_step_on_data\n\n  File \"/usr/local/lib/python3.9/site-packages/keras/src/backend/tensorflow/trainer.py\", line 51, in train_step\n\n  File \"/usr/local/lib/python3.9/site-packages/keras/src/utils/traceback_utils.py\", line 117, in error_handler\n\n  File \"/usr/local/lib/python3.9/site-packages/keras/src/layers/layer.py\", line 846, in __call__\n\n  File \"/usr/local/lib/python3.9/site-packages/keras/src/utils/traceback_utils.py\", line 117, in error_handler\n\n  File \"/usr/local/lib/python3.9/site-packages/keras/src/ops/operation.py\", line 48, in __call__\n\n  File \"/usr/local/lib/python3.9/site-packages/keras/src/utils/traceback_utils.py\", line 156, in error_handler\n\n  File \"/usr/local/lib/python3.9/site-packages/keras/src/models/sequential.py\", line 209, in call\n\n  File \"/usr/local/lib/python3.9/site-packages/keras/src/models/functional.py\", line 202, in call\n\n  File \"/usr/local/lib/python3.9/site-packages/keras/src/ops/function.py\", line 155, in _run_through_graph\n\n  File \"/usr/local/lib/python3.9/site-packages/keras/src/models/functional.py\", line 592, in call\n\n  File \"/usr/local/lib/python3.9/site-packages/keras/src/utils/traceback_utils.py\", line 117, in error_handler\n\n  File \"/usr/local/lib/python3.9/site-packages/keras/src/layers/layer.py\", line 846, in __call__\n\n  File \"/usr/local/lib/python3.9/site-packages/keras/src/utils/traceback_utils.py\", line 117, in error_handler\n\n  File \"/usr/local/lib/python3.9/site-packages/keras/src/ops/operation.py\", line 48, in __call__\n\n  File \"/usr/local/lib/python3.9/site-packages/keras/src/utils/traceback_utils.py\", line 156, in error_handler\n\n  File \"/usr/local/lib/python3.9/site-packages/keras/src/layers/rnn/time_distributed.py\", line 108, in call\n\n  File \"/usr/local/lib/python3.9/site-packages/keras/src/layers/rnn/time_distributed.py\", line 108, in <listcomp>\n\n  File \"/usr/local/lib/python3.9/site-packages/keras/src/layers/rnn/time_distributed.py\", line 102, in step_function\n\n  File \"/usr/local/lib/python3.9/site-packages/keras/src/layers/reshaping/flatten.py\", line 54, in call\n\n  File \"/usr/local/lib/python3.9/site-packages/keras/src/ops/numpy.py\", line 4415, in reshape\n\n  File \"/usr/local/lib/python3.9/site-packages/keras/src/backend/tensorflow/numpy.py\", line 1778, in reshape\n\nOnly one input size may be -1, not both 0 and 1\n\t [[{{node sequential_1/time_distributed_1/Reshape_10}}]] [Op:__inference_one_step_on_iterator_29557]"
     ]
    }
   ],
   "execution_count": 46
  },
  {
   "metadata": {},
   "cell_type": "code",
   "outputs": [],
   "execution_count": null,
   "source": "",
   "id": "60f3ad5f1e7b8ae9"
  }
 ],
 "metadata": {
  "kernelspec": {
   "display_name": "Python 3",
   "language": "python",
   "name": "python3"
  },
  "language_info": {
   "codemirror_mode": {
    "name": "ipython",
    "version": 2
   },
   "file_extension": ".py",
   "mimetype": "text/x-python",
   "name": "python",
   "nbconvert_exporter": "python",
   "pygments_lexer": "ipython2",
   "version": "2.7.6"
  }
 },
 "nbformat": 4,
 "nbformat_minor": 5
}
