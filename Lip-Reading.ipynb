{
 "cells": [
  {
   "cell_type": "markdown",
   "id": "aeed6c8935f418d2",
   "metadata": {},
   "source": [
    "# Install Required Libraries"
   ]
  },
  {
   "cell_type": "code",
   "execution_count": 158,
   "id": "initial_id",
   "metadata": {
    "ExecuteTime": {
     "end_time": "2024-05-26T15:24:07.717362Z",
     "start_time": "2024-05-26T15:24:06.454976Z"
    },
    "collapsed": true
   },
   "outputs": [
    {
     "name": "stdout",
     "output_type": "stream",
     "text": [
      "Package                      Version\n",
      "---------------------------- --------------\n",
      "absl-py                      2.1.0\n",
      "anyio                        4.3.0\n",
      "appnope                      0.1.4\n",
      "argon2-cffi                  23.1.0\n",
      "argon2-cffi-bindings         21.2.0\n",
      "arrow                        1.3.0\n",
      "asttokens                    2.4.1\n",
      "astunparse                   1.6.3\n",
      "async-lru                    2.0.4\n",
      "attrs                        23.2.0\n",
      "Babel                        2.15.0\n",
      "beautifulsoup4               4.12.3\n",
      "bleach                       6.1.0\n",
      "cachetools                   5.3.3\n",
      "certifi                      2023.5.7\n",
      "cffi                         1.16.0\n",
      "charset-normalizer           3.1.0\n",
      "click                        8.1.3\n",
      "comm                         0.2.2\n",
      "contourpy                    1.0.7\n",
      "curve                        0.0.7\n",
      "cycler                       0.11.0\n",
      "debugpy                      1.8.1\n",
      "decorator                    5.1.1\n",
      "defusedxml                   0.7.1\n",
      "exceptiongroup               1.2.1\n",
      "executing                    2.0.1\n",
      "fastjsonschema               2.19.1\n",
      "filelock                     3.14.0\n",
      "flatbuffers                  24.3.25\n",
      "fonttools                    4.38.0\n",
      "fqdn                         1.5.1\n",
      "gast                         0.4.0\n",
      "gdown                        5.2.0\n",
      "google-auth                  2.29.0\n",
      "google-auth-oauthlib         0.4.6\n",
      "google-pasta                 0.2.0\n",
      "grpcio                       1.63.0\n",
      "h11                          0.14.0\n",
      "h5py                         3.11.0\n",
      "httpcore                     1.0.5\n",
      "httpx                        0.27.0\n",
      "idna                         3.4\n",
      "imageio                      2.34.1\n",
      "importlib_metadata           7.1.0\n",
      "importlib-resources          5.12.0\n",
      "ipykernel                    6.29.4\n",
      "ipython                      8.18.1\n",
      "ipywidgets                   8.1.2\n",
      "isoduration                  20.11.0\n",
      "jedi                         0.19.1\n",
      "Jinja2                       3.1.4\n",
      "joblib                       1.2.0\n",
      "json5                        0.9.25\n",
      "jsonpointer                  2.4\n",
      "jsonschema                   4.22.0\n",
      "jsonschema-specifications    2023.12.1\n",
      "jupyter                      1.0.0\n",
      "jupyter_client               8.6.1\n",
      "jupyter-console              6.6.3\n",
      "jupyter_core                 5.7.2\n",
      "jupyter-events               0.10.0\n",
      "jupyter-lsp                  2.2.5\n",
      "jupyter_server               2.14.0\n",
      "jupyter_server_terminals     0.5.3\n",
      "jupyterlab                   4.2.0\n",
      "jupyterlab_pygments          0.3.0\n",
      "jupyterlab_server            2.27.1\n",
      "jupyterlab_widgets           3.0.10\n",
      "keras                        2.10.0\n",
      "Keras-Preprocessing          1.1.2\n",
      "kiwisolver                   1.4.4\n",
      "libclang                     18.1.1\n",
      "line                         0.8.2\n",
      "line-profiler                4.0.4\n",
      "Markdown                     3.6\n",
      "markdown-it-py               3.0.0\n",
      "MarkupSafe                   2.1.5\n",
      "matplotlib                   3.7.0\n",
      "matplotlib-inline            0.1.7\n",
      "mdurl                        0.1.2\n",
      "mistune                      3.0.2\n",
      "ml-dtypes                    0.3.2\n",
      "namex                        0.0.8\n",
      "nbclient                     0.10.0\n",
      "nbconvert                    7.16.4\n",
      "nbformat                     5.10.4\n",
      "nest-asyncio                 1.6.0\n",
      "nltk                         3.8.1\n",
      "notebook                     7.2.0\n",
      "notebook_shim                0.2.4\n",
      "numpy                        1.24.2\n",
      "oauthlib                     3.2.2\n",
      "opencv-python                4.9.0.80\n",
      "opt-einsum                   3.3.0\n",
      "optree                       0.11.0\n",
      "overrides                    7.7.0\n",
      "packaging                    23.0\n",
      "pandocfilters                1.5.1\n",
      "parso                        0.8.4\n",
      "pexpect                      4.9.0\n",
      "Pillow                       9.4.0\n",
      "pip                          24.0\n",
      "platformdirs                 4.2.2\n",
      "prometheus_client            0.20.0\n",
      "prompt-toolkit               3.0.43\n",
      "protobuf                     3.19.6\n",
      "psutil                       5.9.8\n",
      "ptyprocess                   0.7.0\n",
      "pure-eval                    0.2.2\n",
      "pyasn1                       0.5.0\n",
      "pyasn1_modules               0.4.0\n",
      "pycparser                    2.22\n",
      "Pygments                     2.18.0\n",
      "pyparsing                    3.0.9\n",
      "PySocks                      1.7.1\n",
      "python-dateutil              2.8.2\n",
      "python-json-logger           2.0.7\n",
      "PyYAML                       6.0.1\n",
      "pyzmq                        26.0.3\n",
      "qtconsole                    5.5.2\n",
      "QtPy                         2.4.1\n",
      "referencing                  0.35.1\n",
      "regex                        2023.5.5\n",
      "requests                     2.31.0\n",
      "requests-oauthlib            2.0.0\n",
      "rfc3339-validator            0.1.4\n",
      "rfc3986-validator            0.1.1\n",
      "rich                         13.7.1\n",
      "rpds-py                      0.18.1\n",
      "rsa                          4.9\n",
      "scipy                        1.10.1\n",
      "Send2Trash                   1.8.3\n",
      "sequential                   1.0.0\n",
      "setuptools                   69.2.0\n",
      "six                          1.16.0\n",
      "sniffio                      1.3.1\n",
      "soupsieve                    2.5\n",
      "stack-data                   0.6.3\n",
      "tensorboard                  2.10.1\n",
      "tensorboard-data-server      0.6.1\n",
      "tensorboard-plugin-wit       1.8.1\n",
      "tensorflow                   2.10.1\n",
      "tensorflow-estimator         2.10.0\n",
      "tensorflow-io-gcs-filesystem 0.37.0\n",
      "termcolor                    2.4.0\n",
      "terminado                    0.18.1\n",
      "tinycss2                     1.3.0\n",
      "tk                           0.1.0\n",
      "tomli                        2.0.1\n",
      "tornado                      6.4\n",
      "tqdm                         4.65.0\n",
      "traitlets                    5.14.3\n",
      "types-python-dateutil        2.9.0.20240316\n",
      "typing_extensions            4.11.0\n",
      "uri-template                 1.3.0\n",
      "urllib3                      2.0.2\n",
      "wcwidth                      0.2.13\n",
      "webcolors                    1.13\n",
      "webencodings                 0.5.1\n",
      "websocket-client             1.8.0\n",
      "Werkzeug                     3.0.3\n",
      "wheel                        0.43.0\n",
      "widgetsnbextension           4.0.10\n",
      "wrapt                        1.16.0\n",
      "zipp                         3.15.0\n"
     ]
    }
   ],
   "source": [
    "!pip list"
   ]
  },
  {
   "cell_type": "code",
   "execution_count": 159,
   "id": "2dc35e3c3bee7556",
   "metadata": {
    "ExecuteTime": {
     "end_time": "2024-05-23T02:38:54.791473Z",
     "start_time": "2024-05-23T02:38:51.956796Z"
    }
   },
   "outputs": [
    {
     "name": "stdout",
     "output_type": "stream",
     "text": [
      "\u001b[33mDEPRECATION: Configuring installation scheme with distutils config files is deprecated and will no longer work in the near future. If you are using a Homebrew or Linuxbrew Python, please see discussion at https://github.com/Homebrew/homebrew-core/issues/76621\u001b[0m\u001b[33m\n",
      "\u001b[0mRequirement already satisfied: opencv-python in /usr/local/lib/python3.9/site-packages (4.9.0.80)\n",
      "Requirement already satisfied: matplotlib in /usr/local/lib/python3.9/site-packages (3.7.0)\n",
      "Requirement already satisfied: imageio in /usr/local/lib/python3.9/site-packages (2.34.1)\n",
      "Requirement already satisfied: gdown in /usr/local/lib/python3.9/site-packages (5.2.0)\n",
      "Requirement already satisfied: tensorflow==2.10.1 in /usr/local/lib/python3.9/site-packages (2.10.1)\n",
      "Requirement already satisfied: absl-py>=1.0.0 in /usr/local/lib/python3.9/site-packages (from tensorflow==2.10.1) (2.1.0)\n",
      "Requirement already satisfied: astunparse>=1.6.0 in /usr/local/lib/python3.9/site-packages (from tensorflow==2.10.1) (1.6.3)\n",
      "Requirement already satisfied: flatbuffers>=2.0 in /usr/local/lib/python3.9/site-packages (from tensorflow==2.10.1) (24.3.25)\n",
      "Requirement already satisfied: gast<=0.4.0,>=0.2.1 in /usr/local/lib/python3.9/site-packages (from tensorflow==2.10.1) (0.4.0)\n",
      "Requirement already satisfied: google-pasta>=0.1.1 in /usr/local/lib/python3.9/site-packages (from tensorflow==2.10.1) (0.2.0)\n",
      "Requirement already satisfied: h5py>=2.9.0 in /usr/local/lib/python3.9/site-packages (from tensorflow==2.10.1) (3.11.0)\n",
      "Requirement already satisfied: keras-preprocessing>=1.1.1 in /usr/local/lib/python3.9/site-packages (from tensorflow==2.10.1) (1.1.2)\n",
      "Requirement already satisfied: libclang>=13.0.0 in /usr/local/lib/python3.9/site-packages (from tensorflow==2.10.1) (18.1.1)\n",
      "Requirement already satisfied: numpy>=1.20 in /usr/local/lib/python3.9/site-packages (from tensorflow==2.10.1) (1.24.2)\n",
      "Requirement already satisfied: opt-einsum>=2.3.2 in /usr/local/lib/python3.9/site-packages (from tensorflow==2.10.1) (3.3.0)\n",
      "Requirement already satisfied: packaging in /usr/local/lib/python3.9/site-packages (from tensorflow==2.10.1) (23.0)\n",
      "Requirement already satisfied: protobuf<3.20,>=3.9.2 in /usr/local/lib/python3.9/site-packages (from tensorflow==2.10.1) (3.19.6)\n",
      "Requirement already satisfied: setuptools in /usr/local/lib/python3.9/site-packages (from tensorflow==2.10.1) (69.2.0)\n",
      "Requirement already satisfied: six>=1.12.0 in /usr/local/lib/python3.9/site-packages (from tensorflow==2.10.1) (1.16.0)\n",
      "Requirement already satisfied: termcolor>=1.1.0 in /usr/local/lib/python3.9/site-packages (from tensorflow==2.10.1) (2.4.0)\n",
      "Requirement already satisfied: typing-extensions>=3.6.6 in /usr/local/lib/python3.9/site-packages (from tensorflow==2.10.1) (4.11.0)\n",
      "Requirement already satisfied: wrapt>=1.11.0 in /usr/local/lib/python3.9/site-packages (from tensorflow==2.10.1) (1.16.0)\n",
      "Requirement already satisfied: tensorflow-io-gcs-filesystem>=0.23.1 in /usr/local/lib/python3.9/site-packages (from tensorflow==2.10.1) (0.37.0)\n",
      "Requirement already satisfied: grpcio<2.0,>=1.24.3 in /usr/local/lib/python3.9/site-packages (from tensorflow==2.10.1) (1.63.0)\n",
      "Requirement already satisfied: tensorboard<2.11,>=2.10 in /usr/local/lib/python3.9/site-packages (from tensorflow==2.10.1) (2.10.1)\n",
      "Requirement already satisfied: tensorflow-estimator<2.11,>=2.10.0 in /usr/local/lib/python3.9/site-packages (from tensorflow==2.10.1) (2.10.0)\n",
      "Requirement already satisfied: keras<2.11,>=2.10.0 in /usr/local/lib/python3.9/site-packages (from tensorflow==2.10.1) (2.10.0)\n",
      "Requirement already satisfied: contourpy>=1.0.1 in /usr/local/lib/python3.9/site-packages (from matplotlib) (1.0.7)\n",
      "Requirement already satisfied: cycler>=0.10 in /usr/local/lib/python3.9/site-packages (from matplotlib) (0.11.0)\n",
      "Requirement already satisfied: fonttools>=4.22.0 in /usr/local/lib/python3.9/site-packages (from matplotlib) (4.38.0)\n",
      "Requirement already satisfied: kiwisolver>=1.0.1 in /usr/local/lib/python3.9/site-packages (from matplotlib) (1.4.4)\n",
      "Requirement already satisfied: pillow>=6.2.0 in /usr/local/lib/python3.9/site-packages (from matplotlib) (9.4.0)\n",
      "Requirement already satisfied: pyparsing>=2.3.1 in /usr/local/lib/python3.9/site-packages (from matplotlib) (3.0.9)\n",
      "Requirement already satisfied: python-dateutil>=2.7 in /usr/local/lib/python3.9/site-packages (from matplotlib) (2.8.2)\n",
      "Requirement already satisfied: importlib-resources>=3.2.0 in /usr/local/lib/python3.9/site-packages (from matplotlib) (5.12.0)\n",
      "Requirement already satisfied: beautifulsoup4 in /usr/local/lib/python3.9/site-packages (from gdown) (4.12.3)\n",
      "Requirement already satisfied: filelock in /usr/local/lib/python3.9/site-packages (from gdown) (3.14.0)\n",
      "Requirement already satisfied: requests[socks] in /usr/local/lib/python3.9/site-packages (from gdown) (2.31.0)\n",
      "Requirement already satisfied: tqdm in /usr/local/lib/python3.9/site-packages (from gdown) (4.65.0)\n",
      "Requirement already satisfied: wheel<1.0,>=0.23.0 in /usr/local/lib/python3.9/site-packages (from astunparse>=1.6.0->tensorflow==2.10.1) (0.43.0)\n",
      "Requirement already satisfied: zipp>=3.1.0 in /usr/local/lib/python3.9/site-packages (from importlib-resources>=3.2.0->matplotlib) (3.15.0)\n",
      "Requirement already satisfied: google-auth<3,>=1.6.3 in /usr/local/lib/python3.9/site-packages (from tensorboard<2.11,>=2.10->tensorflow==2.10.1) (2.29.0)\n",
      "Requirement already satisfied: google-auth-oauthlib<0.5,>=0.4.1 in /usr/local/lib/python3.9/site-packages (from tensorboard<2.11,>=2.10->tensorflow==2.10.1) (0.4.6)\n",
      "Requirement already satisfied: markdown>=2.6.8 in /usr/local/lib/python3.9/site-packages (from tensorboard<2.11,>=2.10->tensorflow==2.10.1) (3.6)\n",
      "Requirement already satisfied: tensorboard-data-server<0.7.0,>=0.6.0 in /usr/local/lib/python3.9/site-packages (from tensorboard<2.11,>=2.10->tensorflow==2.10.1) (0.6.1)\n",
      "Requirement already satisfied: tensorboard-plugin-wit>=1.6.0 in /usr/local/lib/python3.9/site-packages (from tensorboard<2.11,>=2.10->tensorflow==2.10.1) (1.8.1)\n",
      "Requirement already satisfied: werkzeug>=1.0.1 in /usr/local/lib/python3.9/site-packages (from tensorboard<2.11,>=2.10->tensorflow==2.10.1) (3.0.3)\n",
      "Requirement already satisfied: soupsieve>1.2 in /usr/local/lib/python3.9/site-packages (from beautifulsoup4->gdown) (2.5)\n",
      "Requirement already satisfied: charset-normalizer<4,>=2 in /usr/local/lib/python3.9/site-packages (from requests[socks]->gdown) (3.1.0)\n",
      "Requirement already satisfied: idna<4,>=2.5 in /usr/local/lib/python3.9/site-packages (from requests[socks]->gdown) (3.4)\n",
      "Requirement already satisfied: urllib3<3,>=1.21.1 in /usr/local/lib/python3.9/site-packages (from requests[socks]->gdown) (2.0.2)\n",
      "Requirement already satisfied: certifi>=2017.4.17 in /usr/local/lib/python3.9/site-packages (from requests[socks]->gdown) (2023.5.7)\n",
      "Requirement already satisfied: PySocks!=1.5.7,>=1.5.6 in /usr/local/lib/python3.9/site-packages (from requests[socks]->gdown) (1.7.1)\n",
      "Requirement already satisfied: cachetools<6.0,>=2.0.0 in /usr/local/lib/python3.9/site-packages (from google-auth<3,>=1.6.3->tensorboard<2.11,>=2.10->tensorflow==2.10.1) (5.3.3)\n",
      "Requirement already satisfied: pyasn1-modules>=0.2.1 in /usr/local/lib/python3.9/site-packages (from google-auth<3,>=1.6.3->tensorboard<2.11,>=2.10->tensorflow==2.10.1) (0.4.0)\n",
      "Requirement already satisfied: rsa<5,>=3.1.4 in /usr/local/lib/python3.9/site-packages (from google-auth<3,>=1.6.3->tensorboard<2.11,>=2.10->tensorflow==2.10.1) (4.9)\n",
      "Requirement already satisfied: requests-oauthlib>=0.7.0 in /usr/local/lib/python3.9/site-packages (from google-auth-oauthlib<0.5,>=0.4.1->tensorboard<2.11,>=2.10->tensorflow==2.10.1) (2.0.0)\n",
      "Requirement already satisfied: importlib-metadata>=4.4 in /usr/local/lib/python3.9/site-packages (from markdown>=2.6.8->tensorboard<2.11,>=2.10->tensorflow==2.10.1) (7.1.0)\n",
      "Requirement already satisfied: MarkupSafe>=2.1.1 in /usr/local/lib/python3.9/site-packages (from werkzeug>=1.0.1->tensorboard<2.11,>=2.10->tensorflow==2.10.1) (2.1.5)\n",
      "Requirement already satisfied: pyasn1<0.7.0,>=0.4.6 in /usr/local/lib/python3.9/site-packages (from pyasn1-modules>=0.2.1->google-auth<3,>=1.6.3->tensorboard<2.11,>=2.10->tensorflow==2.10.1) (0.5.0)\n",
      "Requirement already satisfied: oauthlib>=3.0.0 in /usr/local/lib/python3.9/site-packages (from requests-oauthlib>=0.7.0->google-auth-oauthlib<0.5,>=0.4.1->tensorboard<2.11,>=2.10->tensorflow==2.10.1) (3.2.2)\n",
      "\u001b[33mDEPRECATION: Configuring installation scheme with distutils config files is deprecated and will no longer work in the near future. If you are using a Homebrew or Linuxbrew Python, please see discussion at https://github.com/Homebrew/homebrew-core/issues/76621\u001b[0m\u001b[33m\n",
      "\u001b[0m"
     ]
    }
   ],
   "source": [
    "!pip install opencv-python matplotlib imageio gdown tensorflow==2.10.1"
   ]
  },
  {
   "cell_type": "code",
   "execution_count": 1,
   "id": "bbd3812549a1b70b",
   "metadata": {
    "ExecuteTime": {
     "end_time": "2024-05-26T15:43:26.966784Z",
     "start_time": "2024-05-26T15:43:13.224864Z"
    }
   },
   "outputs": [
    {
     "name": "stderr",
     "output_type": "stream",
     "text": [
      "2024-05-27 12:17:49.704096: I tensorflow/core/platform/cpu_feature_guard.cc:193] This TensorFlow binary is optimized with oneAPI Deep Neural Network Library (oneDNN) to use the following CPU instructions in performance-critical operations:  AVX2 FMA\n",
      "To enable them in other operations, rebuild TensorFlow with the appropriate compiler flags.\n"
     ]
    }
   ],
   "source": [
    "import os\n",
    "import cv2\n",
    "import numpy as np\n",
    "import matplotlib.pyplot as plt\n",
    "import imageio\n",
    "import gdown\n",
    "import tensorflow as tf\n",
    "from typing import List"
   ]
  },
  {
   "cell_type": "code",
   "execution_count": 2,
   "id": "be7886464c7ffeaa",
   "metadata": {
    "ExecuteTime": {
     "end_time": "2024-05-26T15:43:41.242090Z",
     "start_time": "2024-05-26T15:43:41.237242Z"
    }
   },
   "outputs": [],
   "source": [
    "#tf.config.list_physical_devices('GPU')"
   ]
  },
  {
   "cell_type": "code",
   "execution_count": 3,
   "id": "dc5ec6ac5892f4ab",
   "metadata": {
    "ExecuteTime": {
     "end_time": "2024-05-26T15:43:42.017933Z",
     "start_time": "2024-05-26T15:43:42.004940Z"
    }
   },
   "outputs": [
    {
     "data": {
      "text/plain": [
       "\"\\nphysical_devices = tf.config.list_physical_devices('GPU')\\ntry:\\n    tf.config.experimental.set_memory_growth(physical_devices[0], True)\\nexcept:\\n    pass\\n    \""
      ]
     },
     "execution_count": 3,
     "metadata": {},
     "output_type": "execute_result"
    }
   ],
   "source": [
    "'''\n",
    "physical_devices = tf.config.list_physical_devices('GPU')\n",
    "try:\n",
    "    tf.config.experimental.set_memory_growth(physical_devices[0], True)\n",
    "except:\n",
    "    pass\n",
    "    '''"
   ]
  },
  {
   "cell_type": "code",
   "execution_count": 4,
   "id": "2bc1efb81d25cb10",
   "metadata": {
    "ExecuteTime": {
     "end_time": "2024-05-26T15:44:08.325996Z",
     "start_time": "2024-05-26T15:43:42.663699Z"
    }
   },
   "outputs": [
    {
     "name": "stderr",
     "output_type": "stream",
     "text": [
      "Downloading...\n",
      "From (original): https://drive.google.com/uc?id=1YlvpDLix3S-U8fd-gqRwPcWXAXm8JwjL\n",
      "From (redirected): https://drive.google.com/uc?id=1YlvpDLix3S-U8fd-gqRwPcWXAXm8JwjL&confirm=t&uuid=d1c20602-2fee-41e9-94b4-a251c13e96af\n",
      "To: /Users/wuhaoming/Documents/GitHub/LIp-Reading-App/data.zip\n",
      "100%|██████████| 423M/423M [00:15<00:00, 27.0MB/s] \n"
     ]
    },
    {
     "data": {
      "text/plain": [
       "['data/',\n",
       " 'data/alignments/',\n",
       " 'data/alignments/s1/',\n",
       " 'data/alignments/s1/bbaf2n.align',\n",
       " 'data/alignments/s1/bbaf3s.align',\n",
       " 'data/alignments/s1/bbaf4p.align',\n",
       " 'data/alignments/s1/bbaf5a.align',\n",
       " 'data/alignments/s1/bbal6n.align',\n",
       " 'data/alignments/s1/bbal7s.align',\n",
       " 'data/alignments/s1/bbal8p.align',\n",
       " 'data/alignments/s1/bbal9a.align',\n",
       " 'data/alignments/s1/bbas1s.align',\n",
       " 'data/alignments/s1/bbas2p.align',\n",
       " 'data/alignments/s1/bbas3a.align',\n",
       " 'data/alignments/s1/bbaszn.align',\n",
       " 'data/alignments/s1/bbaz4n.align',\n",
       " 'data/alignments/s1/bbaz5s.align',\n",
       " 'data/alignments/s1/bbaz6p.align',\n",
       " 'data/alignments/s1/bbaz7a.align',\n",
       " 'data/alignments/s1/bbbf6n.align',\n",
       " 'data/alignments/s1/bbbf7s.align',\n",
       " 'data/alignments/s1/bbbf8p.align',\n",
       " 'data/alignments/s1/bbbf9a.align',\n",
       " 'data/alignments/s1/bbbm1s.align',\n",
       " 'data/alignments/s1/bbbm2p.align',\n",
       " 'data/alignments/s1/bbbm3a.align',\n",
       " 'data/alignments/s1/bbbmzn.align',\n",
       " 'data/alignments/s1/bbbs4n.align',\n",
       " 'data/alignments/s1/bbbs5s.align',\n",
       " 'data/alignments/s1/bbbs6p.align',\n",
       " 'data/alignments/s1/bbbs7a.align',\n",
       " 'data/alignments/s1/bbbz8n.align',\n",
       " 'data/alignments/s1/bbbz9s.align',\n",
       " 'data/alignments/s1/bbie8n.align',\n",
       " 'data/alignments/s1/bbie9s.align',\n",
       " 'data/alignments/s1/bbif1a.align',\n",
       " 'data/alignments/s1/bbifzp.align',\n",
       " 'data/alignments/s1/bbil2n.align',\n",
       " 'data/alignments/s1/bbil3s.align',\n",
       " 'data/alignments/s1/bbil4p.align',\n",
       " 'data/alignments/s1/bbil5a.align',\n",
       " 'data/alignments/s1/bbir6n.align',\n",
       " 'data/alignments/s1/bbir7s.align',\n",
       " 'data/alignments/s1/bbir8p.align',\n",
       " 'data/alignments/s1/bbir9a.align',\n",
       " 'data/alignments/s1/bbiz1s.align',\n",
       " 'data/alignments/s1/bbiz2p.align',\n",
       " 'data/alignments/s1/bbiz3a.align',\n",
       " 'data/alignments/s1/bbizzn.align',\n",
       " 'data/alignments/s1/bbwg1s.align',\n",
       " 'data/alignments/s1/bbwg2p.align',\n",
       " 'data/alignments/s1/bbwg3a.align',\n",
       " 'data/alignments/s1/bbwgzn.align',\n",
       " 'data/alignments/s1/bbwm4n.align',\n",
       " 'data/alignments/s1/bbwm5s.align',\n",
       " 'data/alignments/s1/bbwm6p.align',\n",
       " 'data/alignments/s1/bbwm7a.align',\n",
       " 'data/alignments/s1/bbws8n.align',\n",
       " 'data/alignments/s1/bbws9s.align',\n",
       " 'data/alignments/s1/bbwt1a.align',\n",
       " 'data/alignments/s1/bbwtzp.align',\n",
       " 'data/alignments/s1/bgaa6n.align',\n",
       " 'data/alignments/s1/bgaa7s.align',\n",
       " 'data/alignments/s1/bgaa8p.align',\n",
       " 'data/alignments/s1/bgaa9a.align',\n",
       " 'data/alignments/s1/bgah1s.align',\n",
       " 'data/alignments/s1/bgah2p.align',\n",
       " 'data/alignments/s1/bgah3a.align',\n",
       " 'data/alignments/s1/bgahzn.align',\n",
       " 'data/alignments/s1/bgan4n.align',\n",
       " 'data/alignments/s1/bgan5s.align',\n",
       " 'data/alignments/s1/bgan6p.align',\n",
       " 'data/alignments/s1/bgan7a.align',\n",
       " 'data/alignments/s1/bgat8n.align',\n",
       " 'data/alignments/s1/bgat9s.align',\n",
       " 'data/alignments/s1/bgau1a.align',\n",
       " 'data/alignments/s1/bgauzp.align',\n",
       " 'data/alignments/s1/bgbb1s.align',\n",
       " 'data/alignments/s1/bgbb2p.align',\n",
       " 'data/alignments/s1/bgbb3a.align',\n",
       " 'data/alignments/s1/bgbbzn.align',\n",
       " 'data/alignments/s1/bgbh4n.align',\n",
       " 'data/alignments/s1/bgbh5s.align',\n",
       " 'data/alignments/s1/bgbh6p.align',\n",
       " 'data/alignments/s1/bgbh7a.align',\n",
       " 'data/alignments/s1/bgbn8n.align',\n",
       " 'data/alignments/s1/bgbn9s.align',\n",
       " 'data/alignments/s1/bgbo1a.align',\n",
       " 'data/alignments/s1/bgbozp.align',\n",
       " 'data/alignments/s1/bgbu2n.align',\n",
       " 'data/alignments/s1/bgbu3s.align',\n",
       " 'data/alignments/s1/bgbu4p.align',\n",
       " 'data/alignments/s1/bgbu5a.align',\n",
       " 'data/alignments/s1/bgia2n.align',\n",
       " 'data/alignments/s1/bgia3s.align',\n",
       " 'data/alignments/s1/bgia4p.align',\n",
       " 'data/alignments/s1/bgia5a.align',\n",
       " 'data/alignments/s1/bgig6n.align',\n",
       " 'data/alignments/s1/bgig7s.align',\n",
       " 'data/alignments/s1/bgig8p.align',\n",
       " 'data/alignments/s1/bgig9a.align',\n",
       " 'data/alignments/s1/bgin1s.align',\n",
       " 'data/alignments/s1/bgin2p.align',\n",
       " 'data/alignments/s1/bgin3a.align',\n",
       " 'data/alignments/s1/bginzn.align',\n",
       " 'data/alignments/s1/bgit4n.align',\n",
       " 'data/alignments/s1/bgit5s.align',\n",
       " 'data/alignments/s1/bgit6p.align',\n",
       " 'data/alignments/s1/bgit7a.align',\n",
       " 'data/alignments/s1/bgwb4n.align',\n",
       " 'data/alignments/s1/bgwb5s.align',\n",
       " 'data/alignments/s1/bgwb6p.align',\n",
       " 'data/alignments/s1/bgwb7a.align',\n",
       " 'data/alignments/s1/bgwh8n.align',\n",
       " 'data/alignments/s1/bgwh9s.align',\n",
       " 'data/alignments/s1/bgwi1a.align',\n",
       " 'data/alignments/s1/bgwizp.align',\n",
       " 'data/alignments/s1/bgwo2n.align',\n",
       " 'data/alignments/s1/bgwo3s.align',\n",
       " 'data/alignments/s1/bgwo4p.align',\n",
       " 'data/alignments/s1/bgwo5a.align',\n",
       " 'data/alignments/s1/bgwu6n.align',\n",
       " 'data/alignments/s1/bgwu7s.align',\n",
       " 'data/alignments/s1/bgwu8p.align',\n",
       " 'data/alignments/s1/bgwu9a.align',\n",
       " 'data/alignments/s1/braf8n.align',\n",
       " 'data/alignments/s1/braf9s.align',\n",
       " 'data/alignments/s1/brag1a.align',\n",
       " 'data/alignments/s1/bragzp.align',\n",
       " 'data/alignments/s1/bram2n.align',\n",
       " 'data/alignments/s1/bram3s.align',\n",
       " 'data/alignments/s1/bram4p.align',\n",
       " 'data/alignments/s1/bram5a.align',\n",
       " 'data/alignments/s1/bras6n.align',\n",
       " 'data/alignments/s1/bras7s.align',\n",
       " 'data/alignments/s1/bras8p.align',\n",
       " 'data/alignments/s1/bras9a.align',\n",
       " 'data/alignments/s1/brba1a.align',\n",
       " 'data/alignments/s1/brbazp.align',\n",
       " 'data/alignments/s1/brbg2n.align',\n",
       " 'data/alignments/s1/brbg3s.align',\n",
       " 'data/alignments/s1/brbg4p.align',\n",
       " 'data/alignments/s1/brbg5a.align',\n",
       " 'data/alignments/s1/brbm6n.align',\n",
       " 'data/alignments/s1/brbm7s.align',\n",
       " 'data/alignments/s1/brbm8p.align',\n",
       " 'data/alignments/s1/brbm9a.align',\n",
       " 'data/alignments/s1/brbt1s.align',\n",
       " 'data/alignments/s1/brbt2p.align',\n",
       " 'data/alignments/s1/brbt3a.align',\n",
       " 'data/alignments/s1/brbtzn.align',\n",
       " 'data/alignments/s1/brif4n.align',\n",
       " 'data/alignments/s1/brif5s.align',\n",
       " 'data/alignments/s1/brif6p.align',\n",
       " 'data/alignments/s1/brif7a.align',\n",
       " 'data/alignments/s1/bril8n.align',\n",
       " 'data/alignments/s1/bril9s.align',\n",
       " 'data/alignments/s1/brim1a.align',\n",
       " 'data/alignments/s1/brimzp.align',\n",
       " 'data/alignments/s1/bris2n.align',\n",
       " 'data/alignments/s1/bris3s.align',\n",
       " 'data/alignments/s1/bris4p.align',\n",
       " 'data/alignments/s1/bris5a.align',\n",
       " 'data/alignments/s1/briz6n.align',\n",
       " 'data/alignments/s1/briz7s.align',\n",
       " 'data/alignments/s1/briz8p.align',\n",
       " 'data/alignments/s1/briz9a.align',\n",
       " 'data/alignments/s1/brwa2n.align',\n",
       " 'data/alignments/s1/brwa3s.align',\n",
       " 'data/alignments/s1/brwa4p.align',\n",
       " 'data/alignments/s1/brwa5a.align',\n",
       " 'data/alignments/s1/brwg6n.align',\n",
       " 'data/alignments/s1/brwg7s.align',\n",
       " 'data/alignments/s1/brwg8p.align',\n",
       " 'data/alignments/s1/brwg9a.align',\n",
       " 'data/alignments/s1/brwn1s.align',\n",
       " 'data/alignments/s1/brwn2p.align',\n",
       " 'data/alignments/s1/brwn3a.align',\n",
       " 'data/alignments/s1/brwnzn.align',\n",
       " 'data/alignments/s1/brwt4n.align',\n",
       " 'data/alignments/s1/brwt5s.align',\n",
       " 'data/alignments/s1/brwt6p.align',\n",
       " 'data/alignments/s1/brwt7a.align',\n",
       " 'data/alignments/s1/bwaa1s.align',\n",
       " 'data/alignments/s1/bwaa2p.align',\n",
       " 'data/alignments/s1/bwaa3a.align',\n",
       " 'data/alignments/s1/bwaazn.align',\n",
       " 'data/alignments/s1/bwag4n.align',\n",
       " 'data/alignments/s1/bwag5s.align',\n",
       " 'data/alignments/s1/bwag6p.align',\n",
       " 'data/alignments/s1/bwag7a.align',\n",
       " 'data/alignments/s1/bwam8n.align',\n",
       " 'data/alignments/s1/bwam9s.align',\n",
       " 'data/alignments/s1/bwan1a.align',\n",
       " 'data/alignments/s1/bwanzp.align',\n",
       " 'data/alignments/s1/bwat2n.align',\n",
       " 'data/alignments/s1/bwat3s.align',\n",
       " 'data/alignments/s1/bwat4p.align',\n",
       " 'data/alignments/s1/bwat5a.align',\n",
       " 'data/alignments/s1/bwba4n.align',\n",
       " 'data/alignments/s1/bwba5s.align',\n",
       " 'data/alignments/s1/bwba6p.align',\n",
       " 'data/alignments/s1/bwba7a.align',\n",
       " 'data/alignments/s1/bwbg8n.align',\n",
       " 'data/alignments/s1/bwbg9s.align',\n",
       " 'data/alignments/s1/bwbh1a.align',\n",
       " 'data/alignments/s1/bwbhzp.align',\n",
       " 'data/alignments/s1/bwbn2n.align',\n",
       " 'data/alignments/s1/bwbn3s.align',\n",
       " 'data/alignments/s1/bwbn4p.align',\n",
       " 'data/alignments/s1/bwbn5a.align',\n",
       " 'data/alignments/s1/bwbt6n.align',\n",
       " 'data/alignments/s1/bwbt7s.align',\n",
       " 'data/alignments/s1/bwbt8p.align',\n",
       " 'data/alignments/s1/bwbt9a.align',\n",
       " 'data/alignments/s1/bwig1s.align',\n",
       " 'data/alignments/s1/bwig2p.align',\n",
       " 'data/alignments/s1/bwig3a.align',\n",
       " 'data/alignments/s1/bwigzn.align',\n",
       " 'data/alignments/s1/bwim4n.align',\n",
       " 'data/alignments/s1/bwim5s.align',\n",
       " 'data/alignments/s1/bwim6p.align',\n",
       " 'data/alignments/s1/bwim7a.align',\n",
       " 'data/alignments/s1/bwis8n.align',\n",
       " 'data/alignments/s1/bwis9s.align',\n",
       " 'data/alignments/s1/bwit1a.align',\n",
       " 'data/alignments/s1/bwitzp.align',\n",
       " 'data/alignments/s1/bwwa8n.align',\n",
       " 'data/alignments/s1/bwwa9s.align',\n",
       " 'data/alignments/s1/bwwb1a.align',\n",
       " 'data/alignments/s1/bwwbzp.align',\n",
       " 'data/alignments/s1/bwwh2n.align',\n",
       " 'data/alignments/s1/bwwh3s.align',\n",
       " 'data/alignments/s1/bwwh4p.align',\n",
       " 'data/alignments/s1/bwwh5a.align',\n",
       " 'data/alignments/s1/bwwn6n.align',\n",
       " 'data/alignments/s1/bwwn7s.align',\n",
       " 'data/alignments/s1/bwwn8p.align',\n",
       " 'data/alignments/s1/bwwn9a.align',\n",
       " 'data/alignments/s1/bwwu1s.align',\n",
       " 'data/alignments/s1/bwwu2p.align',\n",
       " 'data/alignments/s1/bwwu3a.align',\n",
       " 'data/alignments/s1/bwwuzn.align',\n",
       " 'data/alignments/s1/lbad6n.align',\n",
       " 'data/alignments/s1/lbad7s.align',\n",
       " 'data/alignments/s1/lbad8p.align',\n",
       " 'data/alignments/s1/lbad9a.align',\n",
       " 'data/alignments/s1/lbak1s.align',\n",
       " 'data/alignments/s1/lbak2p.align',\n",
       " 'data/alignments/s1/lbak3a.align',\n",
       " 'data/alignments/s1/lbakzn.align',\n",
       " 'data/alignments/s1/lbaq4n.align',\n",
       " 'data/alignments/s1/lbaq5s.align',\n",
       " 'data/alignments/s1/lbaq6p.align',\n",
       " 'data/alignments/s1/lbaq7a.align',\n",
       " 'data/alignments/s1/lbax8n.align',\n",
       " 'data/alignments/s1/lbax9s.align',\n",
       " 'data/alignments/s1/lbay1a.align',\n",
       " 'data/alignments/s1/lbayzp.align',\n",
       " 'data/alignments/s1/lbbe1s.align',\n",
       " 'data/alignments/s1/lbbe2p.align',\n",
       " 'data/alignments/s1/lbbe3a.align',\n",
       " 'data/alignments/s1/lbbezn.align',\n",
       " 'data/alignments/s1/lbbk4n.align',\n",
       " 'data/alignments/s1/lbbk5s.align',\n",
       " 'data/alignments/s1/lbbk6p.align',\n",
       " 'data/alignments/s1/lbbk7a.align',\n",
       " 'data/alignments/s1/lbbq8n.align',\n",
       " 'data/alignments/s1/lbbq9s.align',\n",
       " 'data/alignments/s1/lbbr1a.align',\n",
       " 'data/alignments/s1/lbbrzp.align',\n",
       " 'data/alignments/s1/lbby2n.align',\n",
       " 'data/alignments/s1/lbby3s.align',\n",
       " 'data/alignments/s1/lbby4p.align',\n",
       " 'data/alignments/s1/lbby5a.align',\n",
       " 'data/alignments/s1/lbid2n.align',\n",
       " 'data/alignments/s1/lbid3s.align',\n",
       " 'data/alignments/s1/lbid4p.align',\n",
       " 'data/alignments/s1/lbid5a.align',\n",
       " 'data/alignments/s1/lbij6n.align',\n",
       " 'data/alignments/s1/lbij7s.align',\n",
       " 'data/alignments/s1/lbij8p.align',\n",
       " 'data/alignments/s1/lbij9a.align',\n",
       " 'data/alignments/s1/lbiq1s.align',\n",
       " 'data/alignments/s1/lbiq2p.align',\n",
       " 'data/alignments/s1/lbiq3a.align',\n",
       " 'data/alignments/s1/lbiqzn.align',\n",
       " 'data/alignments/s1/lbix4n.align',\n",
       " 'data/alignments/s1/lbix5s.align',\n",
       " 'data/alignments/s1/lbix6p.align',\n",
       " 'data/alignments/s1/lbix7a.align',\n",
       " 'data/alignments/s1/lbwe4n.align',\n",
       " 'data/alignments/s1/lbwe5s.align',\n",
       " 'data/alignments/s1/lbwe6p.align',\n",
       " 'data/alignments/s1/lbwe7a.align',\n",
       " 'data/alignments/s1/lbwk8n.align',\n",
       " 'data/alignments/s1/lbwk9s.align',\n",
       " 'data/alignments/s1/lbwl1a.align',\n",
       " 'data/alignments/s1/lbwlzp.align',\n",
       " 'data/alignments/s1/lbwr2n.align',\n",
       " 'data/alignments/s1/lbwr3s.align',\n",
       " 'data/alignments/s1/lbwr4p.align',\n",
       " 'data/alignments/s1/lbwr5a.align',\n",
       " 'data/alignments/s1/lbwy6n.align',\n",
       " 'data/alignments/s1/lbwy7s.align',\n",
       " 'data/alignments/s1/lbwy8p.align',\n",
       " 'data/alignments/s1/lbwy9a.align',\n",
       " 'data/alignments/s1/lgaf4n.align',\n",
       " 'data/alignments/s1/lgaf5s.align',\n",
       " 'data/alignments/s1/lgaf6p.align',\n",
       " 'data/alignments/s1/lgaf7a.align',\n",
       " 'data/alignments/s1/lgal8n.align',\n",
       " 'data/alignments/s1/lgal9s.align',\n",
       " 'data/alignments/s1/lgam1a.align',\n",
       " 'data/alignments/s1/lgamzp.align',\n",
       " 'data/alignments/s1/lgas2n.align',\n",
       " 'data/alignments/s1/lgas3s.align',\n",
       " 'data/alignments/s1/lgas4p.align',\n",
       " 'data/alignments/s1/lgas5a.align',\n",
       " 'data/alignments/s1/lgaz6n.align',\n",
       " 'data/alignments/s1/lgaz7s.align',\n",
       " 'data/alignments/s1/lgaz8p.align',\n",
       " 'data/alignments/s1/lgaz9a.align',\n",
       " 'data/alignments/s1/lgbf8n.align',\n",
       " 'data/alignments/s1/lgbf9s.align',\n",
       " 'data/alignments/s1/lgbg1a.align',\n",
       " 'data/alignments/s1/lgbgzp.align',\n",
       " 'data/alignments/s1/lgbm2n.align',\n",
       " 'data/alignments/s1/lgbm3s.align',\n",
       " 'data/alignments/s1/lgbm4p.align',\n",
       " 'data/alignments/s1/lgbm5a.align',\n",
       " 'data/alignments/s1/lgbs6n.align',\n",
       " 'data/alignments/s1/lgbs7s.align',\n",
       " 'data/alignments/s1/lgbs8p.align',\n",
       " 'data/alignments/s1/lgbs9a.align',\n",
       " 'data/alignments/s1/lgif1s.align',\n",
       " 'data/alignments/s1/lgif2p.align',\n",
       " 'data/alignments/s1/lgif3a.align',\n",
       " 'data/alignments/s1/lgifzn.align',\n",
       " 'data/alignments/s1/lgil4n.align',\n",
       " 'data/alignments/s1/lgil5s.align',\n",
       " 'data/alignments/s1/lgil6p.align',\n",
       " 'data/alignments/s1/lgil7a.align',\n",
       " 'data/alignments/s1/lgir8n.align',\n",
       " 'data/alignments/s1/lgir9s.align',\n",
       " 'data/alignments/s1/lgis1a.align',\n",
       " 'data/alignments/s1/lgiszp.align',\n",
       " 'data/alignments/s1/lgiz2n.align',\n",
       " 'data/alignments/s1/lgiz3s.align',\n",
       " 'data/alignments/s1/lgiz4p.align',\n",
       " 'data/alignments/s1/lgiz5a.align',\n",
       " 'data/alignments/s1/lgwa1a.align',\n",
       " 'data/alignments/s1/lgwazp.align',\n",
       " 'data/alignments/s1/lgwg2n.align',\n",
       " 'data/alignments/s1/lgwg3s.align',\n",
       " 'data/alignments/s1/lgwg4p.align',\n",
       " 'data/alignments/s1/lgwg5a.align',\n",
       " 'data/alignments/s1/lgwm6n.align',\n",
       " 'data/alignments/s1/lgwm7s.align',\n",
       " 'data/alignments/s1/lgwm8p.align',\n",
       " 'data/alignments/s1/lgwm9a.align',\n",
       " 'data/alignments/s1/lgwt1s.align',\n",
       " 'data/alignments/s1/lgwt2p.align',\n",
       " 'data/alignments/s1/lgwt3a.align',\n",
       " 'data/alignments/s1/lgwtzn.align',\n",
       " 'data/alignments/s1/lrae2n.align',\n",
       " 'data/alignments/s1/lrae3s.align',\n",
       " 'data/alignments/s1/lrae4p.align',\n",
       " 'data/alignments/s1/lrae5a.align',\n",
       " 'data/alignments/s1/lrak6n.align',\n",
       " 'data/alignments/s1/lrak7s.align',\n",
       " 'data/alignments/s1/lrak8p.align',\n",
       " 'data/alignments/s1/lrak9a.align',\n",
       " 'data/alignments/s1/lrar1s.align',\n",
       " 'data/alignments/s1/lrar2p.align',\n",
       " 'data/alignments/s1/lrar3a.align',\n",
       " 'data/alignments/s1/lrarzn.align',\n",
       " 'data/alignments/s1/lray4n.align',\n",
       " 'data/alignments/s1/lray5s.align',\n",
       " 'data/alignments/s1/lray6p.align',\n",
       " 'data/alignments/s1/lray7a.align',\n",
       " 'data/alignments/s1/lrbe6n.align',\n",
       " 'data/alignments/s1/lrbe7s.align',\n",
       " 'data/alignments/s1/lrbe8p.align',\n",
       " 'data/alignments/s1/lrbe9a.align',\n",
       " 'data/alignments/s1/lrbl1s.align',\n",
       " 'data/alignments/s1/lrbl2p.align',\n",
       " 'data/alignments/s1/lrbl3a.align',\n",
       " 'data/alignments/s1/lrblzn.align',\n",
       " 'data/alignments/s1/lrbr4n.align',\n",
       " 'data/alignments/s1/lrbr5s.align',\n",
       " 'data/alignments/s1/lrbr6p.align',\n",
       " 'data/alignments/s1/lrbr7a.align',\n",
       " 'data/alignments/s1/lrby8n.align',\n",
       " 'data/alignments/s1/lrby9s.align',\n",
       " 'data/alignments/s1/lrbz1a.align',\n",
       " 'data/alignments/s1/lrbzzp.align',\n",
       " 'data/alignments/s1/lrid8n.align',\n",
       " 'data/alignments/s1/lrid9s.align',\n",
       " 'data/alignments/s1/lrie1a.align',\n",
       " 'data/alignments/s1/lriezp.align',\n",
       " 'data/alignments/s1/lrik2n.align',\n",
       " 'data/alignments/s1/lrik3s.align',\n",
       " 'data/alignments/s1/lrik4p.align',\n",
       " 'data/alignments/s1/lrik5a.align',\n",
       " 'data/alignments/s1/lriq6n.align',\n",
       " 'data/alignments/s1/lriq7s.align',\n",
       " 'data/alignments/s1/lriq8p.align',\n",
       " 'data/alignments/s1/lriq9a.align',\n",
       " 'data/alignments/s1/lriy1s.align',\n",
       " 'data/alignments/s1/lriy2p.align',\n",
       " 'data/alignments/s1/lriy3a.align',\n",
       " 'data/alignments/s1/lriyzn.align',\n",
       " 'data/alignments/s1/lrwf1s.align',\n",
       " 'data/alignments/s1/lrwf2p.align',\n",
       " 'data/alignments/s1/lrwf3a.align',\n",
       " 'data/alignments/s1/lrwfzn.align',\n",
       " 'data/alignments/s1/lrwl4n.align',\n",
       " 'data/alignments/s1/lrwl5s.align',\n",
       " 'data/alignments/s1/lrwl6p.align',\n",
       " 'data/alignments/s1/lrwl7a.align',\n",
       " 'data/alignments/s1/lrwr8n.align',\n",
       " 'data/alignments/s1/lrwr9s.align',\n",
       " 'data/alignments/s1/lrws1a.align',\n",
       " 'data/alignments/s1/lrwszp.align',\n",
       " 'data/alignments/s1/lrwz2n.align',\n",
       " 'data/alignments/s1/lrwz3s.align',\n",
       " 'data/alignments/s1/lrwz4p.align',\n",
       " 'data/alignments/s1/lrwz5a.align',\n",
       " 'data/alignments/s1/lwae8n.align',\n",
       " 'data/alignments/s1/lwae9s.align',\n",
       " 'data/alignments/s1/lwaf1a.align',\n",
       " 'data/alignments/s1/lwafzp.align',\n",
       " 'data/alignments/s1/lwal2n.align',\n",
       " 'data/alignments/s1/lwal3s.align',\n",
       " 'data/alignments/s1/lwal4p.align',\n",
       " 'data/alignments/s1/lwal5a.align',\n",
       " 'data/alignments/s1/lwar6n.align',\n",
       " 'data/alignments/s1/lwar7s.align',\n",
       " 'data/alignments/s1/lwar8p.align',\n",
       " 'data/alignments/s1/lwar9a.align',\n",
       " 'data/alignments/s1/lwaz1s.align',\n",
       " 'data/alignments/s1/lwaz2p.align',\n",
       " 'data/alignments/s1/lwaz3a.align',\n",
       " 'data/alignments/s1/lwazzn.align',\n",
       " 'data/alignments/s1/lwbf2n.align',\n",
       " 'data/alignments/s1/lwbf3s.align',\n",
       " 'data/alignments/s1/lwbf4p.align',\n",
       " 'data/alignments/s1/lwbf5a.align',\n",
       " 'data/alignments/s1/lwbl6n.align',\n",
       " 'data/alignments/s1/lwbl7s.align',\n",
       " 'data/alignments/s1/lwbl8p.align',\n",
       " 'data/alignments/s1/lwbl9a.align',\n",
       " 'data/alignments/s1/lwbs1s.align',\n",
       " 'data/alignments/s1/lwbs2p.align',\n",
       " 'data/alignments/s1/lwbs3a.align',\n",
       " 'data/alignments/s1/lwbszn.align',\n",
       " 'data/alignments/s1/lwbz4n.align',\n",
       " 'data/alignments/s1/lwbz5s.align',\n",
       " 'data/alignments/s1/lwbz6p.align',\n",
       " 'data/alignments/s1/lwbz7a.align',\n",
       " 'data/alignments/s1/lwie4n.align',\n",
       " 'data/alignments/s1/lwie5s.align',\n",
       " 'data/alignments/s1/lwie6p.align',\n",
       " 'data/alignments/s1/lwie7a.align',\n",
       " 'data/alignments/s1/lwik8n.align',\n",
       " 'data/alignments/s1/lwik9s.align',\n",
       " 'data/alignments/s1/lwil1a.align',\n",
       " 'data/alignments/s1/lwilzp.align',\n",
       " 'data/alignments/s1/lwir2n.align',\n",
       " 'data/alignments/s1/lwir3s.align',\n",
       " 'data/alignments/s1/lwir4p.align',\n",
       " 'data/alignments/s1/lwir5a.align',\n",
       " 'data/alignments/s1/lwiy6n.align',\n",
       " 'data/alignments/s1/lwiy7s.align',\n",
       " 'data/alignments/s1/lwiy8p.align',\n",
       " 'data/alignments/s1/lwiy9a.align',\n",
       " 'data/alignments/s1/lwwf6n.align',\n",
       " 'data/alignments/s1/lwwf7s.align',\n",
       " 'data/alignments/s1/lwwf8p.align',\n",
       " 'data/alignments/s1/lwwf9a.align',\n",
       " 'data/alignments/s1/lwwm1s.align',\n",
       " 'data/alignments/s1/lwwm2p.align',\n",
       " 'data/alignments/s1/lwwm3a.align',\n",
       " 'data/alignments/s1/lwwmzn.align',\n",
       " 'data/alignments/s1/lwws4n.align',\n",
       " 'data/alignments/s1/lwws5s.align',\n",
       " 'data/alignments/s1/lwws6p.align',\n",
       " 'data/alignments/s1/lwws7a.align',\n",
       " 'data/alignments/s1/lwwz8n.align',\n",
       " 'data/alignments/s1/lwwz9s.align',\n",
       " 'data/alignments/s1/pbac1s.align',\n",
       " 'data/alignments/s1/pbac2p.align',\n",
       " 'data/alignments/s1/pbac3a.align',\n",
       " 'data/alignments/s1/pbaczn.align',\n",
       " 'data/alignments/s1/pbai4n.align',\n",
       " 'data/alignments/s1/pbai5s.align',\n",
       " 'data/alignments/s1/pbai6p.align',\n",
       " 'data/alignments/s1/pbai7a.align',\n",
       " 'data/alignments/s1/pbao8n.align',\n",
       " 'data/alignments/s1/pbao9s.align',\n",
       " 'data/alignments/s1/pbap1a.align',\n",
       " 'data/alignments/s1/pbapzp.align',\n",
       " 'data/alignments/s1/pbav2n.align',\n",
       " 'data/alignments/s1/pbav3s.align',\n",
       " 'data/alignments/s1/pbav4p.align',\n",
       " 'data/alignments/s1/pbav5a.align',\n",
       " 'data/alignments/s1/pbbc4n.align',\n",
       " 'data/alignments/s1/pbbc5s.align',\n",
       " 'data/alignments/s1/pbbc6p.align',\n",
       " 'data/alignments/s1/pbbc7a.align',\n",
       " 'data/alignments/s1/pbbi8n.align',\n",
       " 'data/alignments/s1/pbbi9s.align',\n",
       " 'data/alignments/s1/pbbj1a.align',\n",
       " 'data/alignments/s1/pbbjzp.align',\n",
       " 'data/alignments/s1/pbbp2n.align',\n",
       " 'data/alignments/s1/pbbp3s.align',\n",
       " 'data/alignments/s1/pbbp4p.align',\n",
       " 'data/alignments/s1/pbbp5a.align',\n",
       " 'data/alignments/s1/pbbv6n.align',\n",
       " 'data/alignments/s1/pbbv7s.align',\n",
       " 'data/alignments/s1/pbbv8p.align',\n",
       " 'data/alignments/s1/pbbv9a.align',\n",
       " 'data/alignments/s1/pbib6n.align',\n",
       " 'data/alignments/s1/pbib7s.align',\n",
       " 'data/alignments/s1/pbib8p.align',\n",
       " 'data/alignments/s1/pbib9a.align',\n",
       " 'data/alignments/s1/pbii1s.align',\n",
       " 'data/alignments/s1/pbii2p.align',\n",
       " 'data/alignments/s1/pbii3a.align',\n",
       " 'data/alignments/s1/pbiizn.align',\n",
       " 'data/alignments/s1/pbio4n.align',\n",
       " 'data/alignments/s1/pbio5s.align',\n",
       " 'data/alignments/s1/pbio6p.align',\n",
       " 'data/alignments/s1/pbio7a.align',\n",
       " 'data/alignments/s1/pbiu8n.align',\n",
       " 'data/alignments/s1/pbiu9s.align',\n",
       " 'data/alignments/s1/pbiv1a.align',\n",
       " 'data/alignments/s1/pbivzp.align',\n",
       " 'data/alignments/s1/pbwc8n.align',\n",
       " 'data/alignments/s1/pbwc9s.align',\n",
       " 'data/alignments/s1/pbwd1a.align',\n",
       " 'data/alignments/s1/pbwdzp.align',\n",
       " 'data/alignments/s1/pbwj2n.align',\n",
       " 'data/alignments/s1/pbwj3s.align',\n",
       " 'data/alignments/s1/pbwj4p.align',\n",
       " 'data/alignments/s1/pbwj5a.align',\n",
       " 'data/alignments/s1/pbwp6n.align',\n",
       " 'data/alignments/s1/pbwp7s.align',\n",
       " 'data/alignments/s1/pbwp8p.align',\n",
       " 'data/alignments/s1/pbwp9a.align',\n",
       " 'data/alignments/s1/pbwx1s.align',\n",
       " 'data/alignments/s1/pbwx2p.align',\n",
       " 'data/alignments/s1/pbwx3a.align',\n",
       " 'data/alignments/s1/pbwxzn.align',\n",
       " 'data/alignments/s1/pgad8n.align',\n",
       " 'data/alignments/s1/pgad9s.align',\n",
       " 'data/alignments/s1/pgae1a.align',\n",
       " 'data/alignments/s1/pgaezp.align',\n",
       " 'data/alignments/s1/pgak2n.align',\n",
       " 'data/alignments/s1/pgak3s.align',\n",
       " 'data/alignments/s1/pgak4p.align',\n",
       " 'data/alignments/s1/pgak5a.align',\n",
       " 'data/alignments/s1/pgaq6n.align',\n",
       " 'data/alignments/s1/pgaq7s.align',\n",
       " 'data/alignments/s1/pgaq8p.align',\n",
       " 'data/alignments/s1/pgaq9a.align',\n",
       " 'data/alignments/s1/pgay1s.align',\n",
       " 'data/alignments/s1/pgay2p.align',\n",
       " 'data/alignments/s1/pgay3a.align',\n",
       " 'data/alignments/s1/pgayzn.align',\n",
       " 'data/alignments/s1/pgbe2n.align',\n",
       " 'data/alignments/s1/pgbe3s.align',\n",
       " 'data/alignments/s1/pgbe4p.align',\n",
       " 'data/alignments/s1/pgbe5a.align',\n",
       " 'data/alignments/s1/pgbk6n.align',\n",
       " 'data/alignments/s1/pgbk7s.align',\n",
       " 'data/alignments/s1/pgbk8p.align',\n",
       " 'data/alignments/s1/pgbk9a.align',\n",
       " 'data/alignments/s1/pgbr1s.align',\n",
       " 'data/alignments/s1/pgbr2p.align',\n",
       " 'data/alignments/s1/pgbr3a.align',\n",
       " 'data/alignments/s1/pgbrzn.align',\n",
       " 'data/alignments/s1/pgby4n.align',\n",
       " 'data/alignments/s1/pgby5s.align',\n",
       " 'data/alignments/s1/pgby6p.align',\n",
       " 'data/alignments/s1/pgby7a.align',\n",
       " 'data/alignments/s1/pgid4n.align',\n",
       " 'data/alignments/s1/pgid5s.align',\n",
       " 'data/alignments/s1/pgid6p.align',\n",
       " 'data/alignments/s1/pgid7a.align',\n",
       " 'data/alignments/s1/pgij8n.align',\n",
       " 'data/alignments/s1/pgij9s.align',\n",
       " 'data/alignments/s1/pgik1a.align',\n",
       " 'data/alignments/s1/pgikzp.align',\n",
       " 'data/alignments/s1/pgiq2n.align',\n",
       " 'data/alignments/s1/pgiq3s.align',\n",
       " 'data/alignments/s1/pgiq4p.align',\n",
       " 'data/alignments/s1/pgiq5a.align',\n",
       " 'data/alignments/s1/pgix6n.align',\n",
       " 'data/alignments/s1/pgix7s.align',\n",
       " 'data/alignments/s1/pgix8p.align',\n",
       " 'data/alignments/s1/pgix9a.align',\n",
       " 'data/alignments/s1/pgwe6n.align',\n",
       " 'data/alignments/s1/pgwe7s.align',\n",
       " 'data/alignments/s1/pgwe8p.align',\n",
       " 'data/alignments/s1/pgwe9a.align',\n",
       " 'data/alignments/s1/pgwl1s.align',\n",
       " 'data/alignments/s1/pgwl2p.align',\n",
       " 'data/alignments/s1/pgwl3a.align',\n",
       " 'data/alignments/s1/pgwlzn.align',\n",
       " 'data/alignments/s1/pgwr4n.align',\n",
       " 'data/alignments/s1/pgwr5s.align',\n",
       " 'data/alignments/s1/pgwr6p.align',\n",
       " 'data/alignments/s1/pgwr7a.align',\n",
       " 'data/alignments/s1/pgwy8n.align',\n",
       " 'data/alignments/s1/pgwy9s.align',\n",
       " 'data/alignments/s1/pgwz1a.align',\n",
       " 'data/alignments/s1/pgwzzp.align',\n",
       " 'data/alignments/s1/prac6n.align',\n",
       " 'data/alignments/s1/prac7s.align',\n",
       " 'data/alignments/s1/prac8p.align',\n",
       " 'data/alignments/s1/prac9a.align',\n",
       " 'data/alignments/s1/praj1s.align',\n",
       " 'data/alignments/s1/praj2p.align',\n",
       " 'data/alignments/s1/praj3a.align',\n",
       " 'data/alignments/s1/prajzn.align',\n",
       " 'data/alignments/s1/prap4n.align',\n",
       " 'data/alignments/s1/prap5s.align',\n",
       " 'data/alignments/s1/prap6p.align',\n",
       " 'data/alignments/s1/prap7a.align',\n",
       " 'data/alignments/s1/prav8n.align',\n",
       " 'data/alignments/s1/prav9s.align',\n",
       " 'data/alignments/s1/prax1a.align',\n",
       " 'data/alignments/s1/praxzp.align',\n",
       " 'data/alignments/s1/prbd1s.align',\n",
       " 'data/alignments/s1/prbd2p.align',\n",
       " 'data/alignments/s1/prbd3a.align',\n",
       " 'data/alignments/s1/prbdzn.align',\n",
       " 'data/alignments/s1/prbj4n.align',\n",
       " 'data/alignments/s1/prbj5s.align',\n",
       " 'data/alignments/s1/prbj6p.align',\n",
       " 'data/alignments/s1/prbj7a.align',\n",
       " 'data/alignments/s1/prbp8n.align',\n",
       " 'data/alignments/s1/prbp9s.align',\n",
       " 'data/alignments/s1/prbq1a.align',\n",
       " 'data/alignments/s1/prbqzp.align',\n",
       " 'data/alignments/s1/prbx2n.align',\n",
       " 'data/alignments/s1/prbx3s.align',\n",
       " 'data/alignments/s1/prbx4p.align',\n",
       " 'data/alignments/s1/prbx5a.align',\n",
       " 'data/alignments/s1/pric2n.align',\n",
       " 'data/alignments/s1/pric3s.align',\n",
       " 'data/alignments/s1/pric4p.align',\n",
       " 'data/alignments/s1/pric5a.align',\n",
       " 'data/alignments/s1/prii6n.align',\n",
       " 'data/alignments/s1/prii7s.align',\n",
       " 'data/alignments/s1/prii8p.align',\n",
       " 'data/alignments/s1/prii9a.align',\n",
       " 'data/alignments/s1/prip1s.align',\n",
       " 'data/alignments/s1/prip2p.align',\n",
       " 'data/alignments/s1/prip3a.align',\n",
       " 'data/alignments/s1/pripzn.align',\n",
       " 'data/alignments/s1/priv4n.align',\n",
       " 'data/alignments/s1/priv5s.align',\n",
       " 'data/alignments/s1/priv6p.align',\n",
       " 'data/alignments/s1/priv7a.align',\n",
       " 'data/alignments/s1/prwd4n.align',\n",
       " 'data/alignments/s1/prwd5s.align',\n",
       " 'data/alignments/s1/prwd6p.align',\n",
       " 'data/alignments/s1/prwd7a.align',\n",
       " 'data/alignments/s1/prwj8n.align',\n",
       " 'data/alignments/s1/prwj9s.align',\n",
       " 'data/alignments/s1/prwk1a.align',\n",
       " 'data/alignments/s1/prwkzp.align',\n",
       " 'data/alignments/s1/prwq2n.align',\n",
       " 'data/alignments/s1/prwq3s.align',\n",
       " 'data/alignments/s1/prwq4p.align',\n",
       " 'data/alignments/s1/prwq5a.align',\n",
       " 'data/alignments/s1/prwx6n.align',\n",
       " 'data/alignments/s1/prwx7s.align',\n",
       " 'data/alignments/s1/prwx8p.align',\n",
       " 'data/alignments/s1/prwx9a.align',\n",
       " 'data/alignments/s1/pwad2n.align',\n",
       " 'data/alignments/s1/pwad3s.align',\n",
       " 'data/alignments/s1/pwad4p.align',\n",
       " 'data/alignments/s1/pwad5a.align',\n",
       " 'data/alignments/s1/pwaj6n.align',\n",
       " 'data/alignments/s1/pwaj7s.align',\n",
       " 'data/alignments/s1/pwaj8p.align',\n",
       " 'data/alignments/s1/pwaj9a.align',\n",
       " 'data/alignments/s1/pwaq1s.align',\n",
       " 'data/alignments/s1/pwaq2p.align',\n",
       " 'data/alignments/s1/pwaq3a.align',\n",
       " 'data/alignments/s1/pwaqzn.align',\n",
       " 'data/alignments/s1/pwax4n.align',\n",
       " 'data/alignments/s1/pwax5s.align',\n",
       " 'data/alignments/s1/pwax6p.align',\n",
       " 'data/alignments/s1/pwax7a.align',\n",
       " 'data/alignments/s1/pwbd6n.align',\n",
       " 'data/alignments/s1/pwbd7s.align',\n",
       " 'data/alignments/s1/pwbd8p.align',\n",
       " 'data/alignments/s1/pwbd9a.align',\n",
       " 'data/alignments/s1/pwbk1s.align',\n",
       " 'data/alignments/s1/pwbk2p.align',\n",
       " 'data/alignments/s1/pwbk3a.align',\n",
       " 'data/alignments/s1/pwbkzn.align',\n",
       " 'data/alignments/s1/pwbq4n.align',\n",
       " 'data/alignments/s1/pwbq5s.align',\n",
       " 'data/alignments/s1/pwbq6p.align',\n",
       " 'data/alignments/s1/pwbq7a.align',\n",
       " 'data/alignments/s1/pwbx8n.align',\n",
       " 'data/alignments/s1/pwbx9s.align',\n",
       " 'data/alignments/s1/pwby1a.align',\n",
       " 'data/alignments/s1/pwbyzp.align',\n",
       " 'data/alignments/s1/pwic8n.align',\n",
       " 'data/alignments/s1/pwic9s.align',\n",
       " 'data/alignments/s1/pwid1a.align',\n",
       " 'data/alignments/s1/pwidzp.align',\n",
       " 'data/alignments/s1/pwij2n.align',\n",
       " 'data/alignments/s1/pwij3s.align',\n",
       " 'data/alignments/s1/pwij4p.align',\n",
       " 'data/alignments/s1/pwij5a.align',\n",
       " 'data/alignments/s1/pwip6n.align',\n",
       " 'data/alignments/s1/pwip7s.align',\n",
       " 'data/alignments/s1/pwip8p.align',\n",
       " 'data/alignments/s1/pwip9a.align',\n",
       " 'data/alignments/s1/pwix1s.align',\n",
       " 'data/alignments/s1/pwix2p.align',\n",
       " 'data/alignments/s1/pwix3a.align',\n",
       " 'data/alignments/s1/pwixzn.align',\n",
       " 'data/alignments/s1/pwwe1s.align',\n",
       " 'data/alignments/s1/pwwe2p.align',\n",
       " 'data/alignments/s1/pwwe3a.align',\n",
       " 'data/alignments/s1/pwwezn.align',\n",
       " 'data/alignments/s1/pwwk4n.align',\n",
       " 'data/alignments/s1/pwwk5s.align',\n",
       " 'data/alignments/s1/pwwk6p.align',\n",
       " 'data/alignments/s1/pwwk7a.align',\n",
       " 'data/alignments/s1/pwwq8n.align',\n",
       " 'data/alignments/s1/pwwq9s.align',\n",
       " 'data/alignments/s1/pwwr1a.align',\n",
       " 'data/alignments/s1/pwwrzp.align',\n",
       " 'data/alignments/s1/pwwy2n.align',\n",
       " 'data/alignments/s1/pwwy3s.align',\n",
       " 'data/alignments/s1/pwwy4p.align',\n",
       " 'data/alignments/s1/pwwy5a.align',\n",
       " 'data/alignments/s1/sbaa4n.align',\n",
       " 'data/alignments/s1/sbaa5s.align',\n",
       " 'data/alignments/s1/sbaa6p.align',\n",
       " 'data/alignments/s1/sbaa7a.align',\n",
       " 'data/alignments/s1/sbag8n.align',\n",
       " 'data/alignments/s1/sbag9s.align',\n",
       " 'data/alignments/s1/sbah1a.align',\n",
       " 'data/alignments/s1/sbahzp.align',\n",
       " 'data/alignments/s1/sban2n.align',\n",
       " 'data/alignments/s1/sban3s.align',\n",
       " 'data/alignments/s1/sban4p.align',\n",
       " 'data/alignments/s1/sban5a.align',\n",
       " 'data/alignments/s1/sbat6n.align',\n",
       " 'data/alignments/s1/sbat7s.align',\n",
       " 'data/alignments/s1/sbat8p.align',\n",
       " 'data/alignments/s1/sbat9a.align',\n",
       " 'data/alignments/s1/sbba8n.align',\n",
       " 'data/alignments/s1/sbba9s.align',\n",
       " 'data/alignments/s1/sbbb1a.align',\n",
       " 'data/alignments/s1/sbbbzp.align',\n",
       " 'data/alignments/s1/sbbh2n.align',\n",
       " 'data/alignments/s1/sbbh3s.align',\n",
       " 'data/alignments/s1/sbbh4p.align',\n",
       " 'data/alignments/s1/sbbh5a.align',\n",
       " 'data/alignments/s1/sbbn6n.align',\n",
       " 'data/alignments/s1/sbbn7s.align',\n",
       " 'data/alignments/s1/sbbn8p.align',\n",
       " 'data/alignments/s1/sbbn9a.align',\n",
       " 'data/alignments/s1/sbbu1s.align',\n",
       " 'data/alignments/s1/sbbu2p.align',\n",
       " 'data/alignments/s1/sbbu3a.align',\n",
       " 'data/alignments/s1/sbbuzn.align',\n",
       " 'data/alignments/s1/sbia1s.align',\n",
       " 'data/alignments/s1/sbia2p.align',\n",
       " 'data/alignments/s1/sbia3a.align',\n",
       " 'data/alignments/s1/sbiazn.align',\n",
       " 'data/alignments/s1/sbig4n.align',\n",
       " 'data/alignments/s1/sbig5s.align',\n",
       " 'data/alignments/s1/sbig6p.align',\n",
       " 'data/alignments/s1/sbig7a.align',\n",
       " 'data/alignments/s1/sbim8n.align',\n",
       " 'data/alignments/s1/sbim9s.align',\n",
       " 'data/alignments/s1/sbin1a.align',\n",
       " 'data/alignments/s1/sbinzp.align',\n",
       " 'data/alignments/s1/sbit2n.align',\n",
       " 'data/alignments/s1/sbit3s.align',\n",
       " 'data/alignments/s1/sbit4p.align',\n",
       " 'data/alignments/s1/sbit5a.align',\n",
       " 'data/alignments/s1/sbwb2n.align',\n",
       " 'data/alignments/s1/sbwb3s.align',\n",
       " 'data/alignments/s1/sbwb4p.align',\n",
       " 'data/alignments/s1/sbwb5a.align',\n",
       " 'data/alignments/s1/sbwh6n.align',\n",
       " 'data/alignments/s1/sbwh7s.align',\n",
       " 'data/alignments/s1/sbwh8p.align',\n",
       " 'data/alignments/s1/sbwh9a.align',\n",
       " 'data/alignments/s1/sbwo1s.align',\n",
       " 'data/alignments/s1/sbwo2p.align',\n",
       " 'data/alignments/s1/sbwo3a.align',\n",
       " 'data/alignments/s1/sbwozn.align',\n",
       " 'data/alignments/s1/sbwu4n.align',\n",
       " 'data/alignments/s1/sbwu5s.align',\n",
       " 'data/alignments/s1/sbwu6p.align',\n",
       " 'data/alignments/s1/sbwu7a.align',\n",
       " 'data/alignments/s1/sgac2n.align',\n",
       " 'data/alignments/s1/sgac3s.align',\n",
       " 'data/alignments/s1/sgac4p.align',\n",
       " 'data/alignments/s1/sgac5a.align',\n",
       " 'data/alignments/s1/sgai6n.align',\n",
       " 'data/alignments/s1/sgai7s.align',\n",
       " 'data/alignments/s1/sgai8p.align',\n",
       " 'data/alignments/s1/sgai9a.align',\n",
       " 'data/alignments/s1/sgap1s.align',\n",
       " 'data/alignments/s1/sgap2p.align',\n",
       " 'data/alignments/s1/sgap3a.align',\n",
       " 'data/alignments/s1/sgapzn.align',\n",
       " 'data/alignments/s1/sgav4n.align',\n",
       " 'data/alignments/s1/sgav5s.align',\n",
       " 'data/alignments/s1/sgav6p.align',\n",
       " 'data/alignments/s1/sgav7a.align',\n",
       " 'data/alignments/s1/sgbc6n.align',\n",
       " 'data/alignments/s1/sgbc7s.align',\n",
       " 'data/alignments/s1/sgbc8p.align',\n",
       " 'data/alignments/s1/sgbc9a.align',\n",
       " 'data/alignments/s1/sgbj1s.align',\n",
       " 'data/alignments/s1/sgbj2p.align',\n",
       " 'data/alignments/s1/sgbj3a.align',\n",
       " 'data/alignments/s1/sgbjzn.align',\n",
       " 'data/alignments/s1/sgbp4n.align',\n",
       " 'data/alignments/s1/sgbp5s.align',\n",
       " 'data/alignments/s1/sgbp6p.align',\n",
       " 'data/alignments/s1/sgbp7a.align',\n",
       " 'data/alignments/s1/sgbv8n.align',\n",
       " 'data/alignments/s1/sgbv9s.align',\n",
       " 'data/alignments/s1/sgbx1a.align',\n",
       " 'data/alignments/s1/sgbxzp.align',\n",
       " 'data/alignments/s1/sgib8n.align',\n",
       " 'data/alignments/s1/sgib9s.align',\n",
       " 'data/alignments/s1/sgic1a.align',\n",
       " 'data/alignments/s1/sgiczp.align',\n",
       " 'data/alignments/s1/sgii2n.align',\n",
       " 'data/alignments/s1/sgii3s.align',\n",
       " 'data/alignments/s1/sgii4p.align',\n",
       " 'data/alignments/s1/sgii5a.align',\n",
       " 'data/alignments/s1/sgio6n.align',\n",
       " 'data/alignments/s1/sgio7s.align',\n",
       " 'data/alignments/s1/sgio8p.align',\n",
       " 'data/alignments/s1/sgio9a.align',\n",
       " 'data/alignments/s1/sgiv1s.align',\n",
       " 'data/alignments/s1/sgiv2p.align',\n",
       " 'data/alignments/s1/sgiv3a.align',\n",
       " 'data/alignments/s1/sgivzn.align',\n",
       " 'data/alignments/s1/sgwd1s.align',\n",
       " 'data/alignments/s1/sgwd2p.align',\n",
       " 'data/alignments/s1/sgwd3a.align',\n",
       " 'data/alignments/s1/sgwdzn.align',\n",
       " 'data/alignments/s1/sgwj4n.align',\n",
       " 'data/alignments/s1/sgwj5s.align',\n",
       " 'data/alignments/s1/sgwj6p.align',\n",
       " 'data/alignments/s1/sgwj7a.align',\n",
       " 'data/alignments/s1/sgwp8n.align',\n",
       " 'data/alignments/s1/sgwp9s.align',\n",
       " 'data/alignments/s1/sgwq1a.align',\n",
       " 'data/alignments/s1/sgwqzp.align',\n",
       " 'data/alignments/s1/sgwx2n.align',\n",
       " 'data/alignments/s1/sgwx3s.align',\n",
       " 'data/alignments/s1/sgwx4p.align',\n",
       " 'data/alignments/s1/sgwx5a.align',\n",
       " 'data/alignments/s1/srab1s.align',\n",
       " 'data/alignments/s1/srab2p.align',\n",
       " 'data/alignments/s1/srab3a.align',\n",
       " 'data/alignments/s1/srabzn.align',\n",
       " 'data/alignments/s1/srah4n.align',\n",
       " 'data/alignments/s1/srah5s.align',\n",
       " 'data/alignments/s1/srah6p.align',\n",
       " 'data/alignments/s1/srah7a.align',\n",
       " 'data/alignments/s1/sran8n.align',\n",
       " 'data/alignments/s1/sran9s.align',\n",
       " 'data/alignments/s1/srao1a.align',\n",
       " 'data/alignments/s1/sraozp.align',\n",
       " 'data/alignments/s1/srau2n.align',\n",
       " 'data/alignments/s1/srau3s.align',\n",
       " 'data/alignments/s1/srau4p.align',\n",
       " 'data/alignments/s1/srau5a.align',\n",
       " 'data/alignments/s1/srbb4n.align',\n",
       " 'data/alignments/s1/srbb5s.align',\n",
       " 'data/alignments/s1/srbb6p.align',\n",
       " 'data/alignments/s1/srbb7a.align',\n",
       " 'data/alignments/s1/srbh8n.align',\n",
       " 'data/alignments/s1/srbh9s.align',\n",
       " 'data/alignments/s1/srbi1a.align',\n",
       " 'data/alignments/s1/srbizp.align',\n",
       " 'data/alignments/s1/srbo2n.align',\n",
       " 'data/alignments/s1/srbo3s.align',\n",
       " 'data/alignments/s1/srbo4p.align',\n",
       " 'data/alignments/s1/srbo5a.align',\n",
       " 'data/alignments/s1/srbu6n.align',\n",
       " 'data/alignments/s1/srbu7s.align',\n",
       " 'data/alignments/s1/srbu8p.align',\n",
       " 'data/alignments/s1/srbu9a.align',\n",
       " 'data/alignments/s1/sria6n.align',\n",
       " 'data/alignments/s1/sria7s.align',\n",
       " 'data/alignments/s1/sria8p.align',\n",
       " 'data/alignments/s1/sria9a.align',\n",
       " 'data/alignments/s1/srih1s.align',\n",
       " 'data/alignments/s1/srih2p.align',\n",
       " 'data/alignments/s1/srih3a.align',\n",
       " 'data/alignments/s1/srihzn.align',\n",
       " 'data/alignments/s1/srin4n.align',\n",
       " 'data/alignments/s1/srin5s.align',\n",
       " 'data/alignments/s1/srin6p.align',\n",
       " 'data/alignments/s1/srin7a.align',\n",
       " 'data/alignments/s1/srit8n.align',\n",
       " 'data/alignments/s1/srit9s.align',\n",
       " 'data/alignments/s1/sriu1a.align',\n",
       " 'data/alignments/s1/sriuzp.align',\n",
       " 'data/alignments/s1/srwb8n.align',\n",
       " 'data/alignments/s1/srwb9s.align',\n",
       " 'data/alignments/s1/srwc1a.align',\n",
       " 'data/alignments/s1/srwczp.align',\n",
       " 'data/alignments/s1/srwi2n.align',\n",
       " 'data/alignments/s1/srwi3s.align',\n",
       " 'data/alignments/s1/srwi4p.align',\n",
       " 'data/alignments/s1/srwi5a.align',\n",
       " 'data/alignments/s1/srwo6n.align',\n",
       " 'data/alignments/s1/srwo7s.align',\n",
       " 'data/alignments/s1/srwo8p.align',\n",
       " 'data/alignments/s1/srwo9a.align',\n",
       " 'data/alignments/s1/srwv1s.align',\n",
       " 'data/alignments/s1/srwv2p.align',\n",
       " 'data/alignments/s1/srwv3a.align',\n",
       " 'data/alignments/s1/srwvzn.align',\n",
       " 'data/alignments/s1/swab6n.align',\n",
       " 'data/alignments/s1/swab7s.align',\n",
       " 'data/alignments/s1/swab8p.align',\n",
       " 'data/alignments/s1/swab9a.align',\n",
       " 'data/alignments/s1/swai1s.align',\n",
       " 'data/alignments/s1/swai2p.align',\n",
       " 'data/alignments/s1/swai3a.align',\n",
       " 'data/alignments/s1/swaizn.align',\n",
       " 'data/alignments/s1/swao4n.align',\n",
       " 'data/alignments/s1/swao5s.align',\n",
       " 'data/alignments/s1/swao6p.align',\n",
       " 'data/alignments/s1/swao7a.align',\n",
       " 'data/alignments/s1/swau8n.align',\n",
       " 'data/alignments/s1/swau9s.align',\n",
       " 'data/alignments/s1/swav1a.align',\n",
       " 'data/alignments/s1/swavzp.align',\n",
       " 'data/alignments/s1/swbc1s.align',\n",
       " 'data/alignments/s1/swbc2p.align',\n",
       " 'data/alignments/s1/swbc3a.align',\n",
       " 'data/alignments/s1/swbczn.align',\n",
       " 'data/alignments/s1/swbi4n.align',\n",
       " 'data/alignments/s1/swbi5s.align',\n",
       " 'data/alignments/s1/swbi6p.align',\n",
       " 'data/alignments/s1/swbi7a.align',\n",
       " 'data/alignments/s1/swbo8n.align',\n",
       " 'data/alignments/s1/swbo9s.align',\n",
       " 'data/alignments/s1/swbp1a.align',\n",
       " 'data/alignments/s1/swbpzp.align',\n",
       " 'data/alignments/s1/swbv2n.align',\n",
       " 'data/alignments/s1/swbv3s.align',\n",
       " 'data/alignments/s1/swbv4p.align',\n",
       " 'data/alignments/s1/swbv5a.align',\n",
       " 'data/alignments/s1/swib2n.align',\n",
       " 'data/alignments/s1/swib3s.align',\n",
       " 'data/alignments/s1/swib4p.align',\n",
       " 'data/alignments/s1/swib5a.align',\n",
       " 'data/alignments/s1/swih6n.align',\n",
       " 'data/alignments/s1/swih7s.align',\n",
       " 'data/alignments/s1/swih8p.align',\n",
       " 'data/alignments/s1/swih9a.align',\n",
       " 'data/alignments/s1/swio1s.align',\n",
       " 'data/alignments/s1/swio2p.align',\n",
       " 'data/alignments/s1/swio3a.align',\n",
       " 'data/alignments/s1/swiozn.align',\n",
       " 'data/alignments/s1/swiu4n.align',\n",
       " 'data/alignments/s1/swiu5s.align',\n",
       " 'data/alignments/s1/swiu6p.align',\n",
       " 'data/alignments/s1/swiu7a.align',\n",
       " 'data/alignments/s1/swwc4n.align',\n",
       " 'data/alignments/s1/swwc5s.align',\n",
       " 'data/alignments/s1/swwc6p.align',\n",
       " 'data/alignments/s1/swwc7a.align',\n",
       " 'data/alignments/s1/swwi8n.align',\n",
       " 'data/alignments/s1/swwi9s.align',\n",
       " 'data/alignments/s1/swwj1a.align',\n",
       " 'data/alignments/s1/swwjzp.align',\n",
       " 'data/alignments/s1/swwp2n.align',\n",
       " 'data/alignments/s1/swwp3s.align',\n",
       " 'data/alignments/s1/swwp4p.align',\n",
       " 'data/alignments/s1/swwp5a.align',\n",
       " 'data/alignments/s1/swwv6n.align',\n",
       " ...]"
      ]
     },
     "execution_count": 4,
     "metadata": {},
     "output_type": "execute_result"
    }
   ],
   "source": [
    "url = 'https://drive.google.com/uc?id=1YlvpDLix3S-U8fd-gqRwPcWXAXm8JwjL'\n",
    "output = 'data.zip'\n",
    "gdown.download(url, output, quiet=False)\n",
    "gdown.extractall('data.zip')"
   ]
  },
  {
   "cell_type": "markdown",
   "id": "8f730d6ea58598ee",
   "metadata": {},
   "source": [
    "# Create Data Loading Functions"
   ]
  },
  {
   "cell_type": "code",
   "execution_count": 2,
   "id": "273bf94d83e353e3",
   "metadata": {
    "ExecuteTime": {
     "end_time": "2024-05-26T15:44:08.353874Z",
     "start_time": "2024-05-26T15:44:08.333002Z"
    }
   },
   "outputs": [],
   "source": [
    "def load_video(path:str) -> List[float]:\n",
    "\n",
    "    cap = cv2.VideoCapture(path)\n",
    "    frames = []\n",
    "    for _ in range(int(cap.get(cv2.CAP_PROP_FRAME_COUNT))):\n",
    "        ret, frame = cap.read()\n",
    "        frame = tf.image.rgb_to_grayscale(frame)\n",
    "        #only take the mouth region, could be improved by using a face detector\n",
    "        frames.append(frame[190:236,80:220,:])\n",
    "    cap.release()\n",
    "    \n",
    "    #normalize the frames\n",
    "    mean = tf.math.reduce_mean(frames)\n",
    "    std = tf.math.reduce_std(tf.cast(frames, tf.float32))\n",
    "    return tf.cast((frames - mean), tf.float32) / std"
   ]
  },
  {
   "cell_type": "code",
   "execution_count": 3,
   "id": "7b84e8143aca5dbe",
   "metadata": {
    "ExecuteTime": {
     "end_time": "2024-05-26T15:44:08.367867Z",
     "start_time": "2024-05-26T15:44:08.358617Z"
    }
   },
   "outputs": [],
   "source": [
    "vocab = [x for x in \"abcdefghijklmnopqrstuvwxyz'?!123456789 \"]"
   ]
  },
  {
   "cell_type": "code",
   "execution_count": 4,
   "id": "9f2dc583edd077ee",
   "metadata": {
    "ExecuteTime": {
     "end_time": "2024-05-26T15:44:08.496713Z",
     "start_time": "2024-05-26T15:44:08.377609Z"
    }
   },
   "outputs": [
    {
     "name": "stderr",
     "output_type": "stream",
     "text": [
      "2024-05-27 12:18:08.543275: I tensorflow/core/platform/cpu_feature_guard.cc:193] This TensorFlow binary is optimized with oneAPI Deep Neural Network Library (oneDNN) to use the following CPU instructions in performance-critical operations:  AVX2 FMA\n",
      "To enable them in other operations, rebuild TensorFlow with the appropriate compiler flags.\n"
     ]
    }
   ],
   "source": [
    "# char to num and num to char mappings\n",
    "char_to_num = tf.keras.layers.StringLookup(vocabulary=vocab, oov_token=\"\")\n",
    "num_to_char = tf.keras.layers.StringLookup(\n",
    "    vocabulary=char_to_num.get_vocabulary(), oov_token=\"\", invert=True\n",
    ")"
   ]
  },
  {
   "cell_type": "code",
   "execution_count": 5,
   "id": "d4a018c3be33ec44",
   "metadata": {
    "ExecuteTime": {
     "end_time": "2024-05-26T15:44:08.511748Z",
     "start_time": "2024-05-26T15:44:08.499383Z"
    }
   },
   "outputs": [
    {
     "data": {
      "text/plain": [
       "['',\n",
       " 'a',\n",
       " 'b',\n",
       " 'c',\n",
       " 'd',\n",
       " 'e',\n",
       " 'f',\n",
       " 'g',\n",
       " 'h',\n",
       " 'i',\n",
       " 'j',\n",
       " 'k',\n",
       " 'l',\n",
       " 'm',\n",
       " 'n',\n",
       " 'o',\n",
       " 'p',\n",
       " 'q',\n",
       " 'r',\n",
       " 's',\n",
       " 't',\n",
       " 'u',\n",
       " 'v',\n",
       " 'w',\n",
       " 'x',\n",
       " 'y',\n",
       " 'z',\n",
       " \"'\",\n",
       " '?',\n",
       " '!',\n",
       " '1',\n",
       " '2',\n",
       " '3',\n",
       " '4',\n",
       " '5',\n",
       " '6',\n",
       " '7',\n",
       " '8',\n",
       " '9',\n",
       " ' ']"
      ]
     },
     "execution_count": 5,
     "metadata": {},
     "output_type": "execute_result"
    }
   ],
   "source": [
    "char_to_num.get_vocabulary()"
   ]
  },
  {
   "cell_type": "code",
   "execution_count": 6,
   "id": "ae54ff773f4edd92",
   "metadata": {
    "ExecuteTime": {
     "end_time": "2024-05-26T15:44:12.203355Z",
     "start_time": "2024-05-26T15:44:12.193335Z"
    }
   },
   "outputs": [],
   "source": [
    "def load_alignments(path:str) -> List[str]:\n",
    "    with open(path, 'r') as f:\n",
    "        lines = f.readlines()\n",
    "    tokens = []\n",
    "    for line in lines:\n",
    "        line = line.split()\n",
    "        if line[2] != 'sil':\n",
    "            tokens = [*tokens,' ',line[2]]\n",
    "    return char_to_num(tf.reshape(tf.strings.unicode_split(tokens, input_encoding='UTF-8'), (-1)))[1:]"
   ]
  },
  {
   "cell_type": "code",
   "execution_count": 7,
   "id": "10286dc809f4651b",
   "metadata": {
    "ExecuteTime": {
     "end_time": "2024-05-26T15:44:12.759347Z",
     "start_time": "2024-05-26T15:44:12.749561Z"
    }
   },
   "outputs": [],
   "source": [
    "def load_data(path: str):\n",
    "    path = bytes.decode(path.numpy())\n",
    "    file_name = path.split('/')[-1].split('.')[0]\n",
    "    video_path = os.path.join('data','s1',f'{file_name}.mpg')\n",
    "    alignment_path = os.path.join('data','alignments','s1',f'{file_name}.align')\n",
    "    frames = load_video(video_path)\n",
    "    alignments = load_alignments(alignment_path)\n",
    "\n",
    "    return frames, alignments"
   ]
  },
  {
   "cell_type": "code",
   "execution_count": 8,
   "id": "f1edcce7e9f0c36",
   "metadata": {
    "ExecuteTime": {
     "end_time": "2024-05-26T15:44:13.625357Z",
     "start_time": "2024-05-26T15:44:13.618331Z"
    }
   },
   "outputs": [],
   "source": [
    "test_path = './data/s1/bbal6n.mpg'"
   ]
  },
  {
   "cell_type": "code",
   "execution_count": 9,
   "id": "c3310c70ea5bec5d",
   "metadata": {
    "ExecuteTime": {
     "end_time": "2024-05-26T15:44:14.184195Z",
     "start_time": "2024-05-26T15:44:14.169157Z"
    }
   },
   "outputs": [
    {
     "data": {
      "text/plain": [
       "'bbal6n'"
      ]
     },
     "execution_count": 9,
     "metadata": {},
     "output_type": "execute_result"
    }
   ],
   "source": [
    "tf.convert_to_tensor(test_path).numpy().decode('utf-8').split('/')[-1].split('.')[0]"
   ]
  },
  {
   "cell_type": "code",
   "execution_count": 10,
   "id": "bbbcc77e24cb7717",
   "metadata": {
    "ExecuteTime": {
     "end_time": "2024-05-26T15:44:15.610729Z",
     "start_time": "2024-05-26T15:44:14.975484Z"
    }
   },
   "outputs": [],
   "source": [
    "frames, alignments = load_data(tf.convert_to_tensor(test_path))"
   ]
  },
  {
   "cell_type": "code",
   "execution_count": 11,
   "id": "c5474a853f399047",
   "metadata": {
    "ExecuteTime": {
     "end_time": "2024-05-26T15:44:16.390835Z",
     "start_time": "2024-05-26T15:44:15.856166Z"
    }
   },
   "outputs": [
    {
     "data": {
      "text/plain": [
       "<matplotlib.image.AxesImage at 0x133947d00>"
      ]
     },
     "execution_count": 11,
     "metadata": {},
     "output_type": "execute_result"
    },
    {
     "data": {
      "image/png": "[encoded data removed]",
      "text/plain": [
       "<Figure size 640x480 with 1 Axes>"
      ]
     },
     "metadata": {},
     "output_type": "display_data"
    }
   ],
   "source": [
    "plt.imshow(frames[40])"
   ]
  },
  {
   "cell_type": "code",
   "execution_count": 12,
   "id": "5557c2d34f3fe59",
   "metadata": {
    "ExecuteTime": {
     "end_time": "2024-05-26T15:44:16.687781Z",
     "start_time": "2024-05-26T15:44:16.676176Z"
    }
   },
   "outputs": [
    {
     "data": {
      "text/plain": [
       "<tf.Tensor: shape=(21,), dtype=int64, numpy=\n",
       "array([ 2,  9, 14, 39,  2, 12, 21,  5, 39,  1, 20, 39, 12, 39, 19,  9, 24,\n",
       "       39, 14, 15, 23])>"
      ]
     },
     "execution_count": 12,
     "metadata": {},
     "output_type": "execute_result"
    }
   ],
   "source": [
    "alignments"
   ]
  },
  {
   "cell_type": "code",
   "execution_count": 13,
   "id": "892d2a72f00ce62b",
   "metadata": {
    "ExecuteTime": {
     "end_time": "2024-05-26T15:44:17.789326Z",
     "start_time": "2024-05-26T15:44:17.769107Z"
    }
   },
   "outputs": [
    {
     "data": {
      "text/plain": [
       "<tf.Tensor: shape=(), dtype=string, numpy=b'bin blue at l six now'>"
      ]
     },
     "execution_count": 13,
     "metadata": {},
     "output_type": "execute_result"
    }
   ],
   "source": [
    "tf.strings.reduce_join([bytes.decode(x) for x in num_to_char(alignments.numpy()).numpy()])"
   ]
  },
  {
   "cell_type": "code",
   "execution_count": 14,
   "id": "5aca6679e977d396",
   "metadata": {
    "ExecuteTime": {
     "end_time": "2024-05-26T15:44:19.214182Z",
     "start_time": "2024-05-26T15:44:19.206074Z"
    }
   },
   "outputs": [],
   "source": [
    "def mappable_function(path:str) ->List[str]:\n",
    "    result = tf.py_function(load_data, [path], (tf.float32, tf.int64))\n",
    "    return result"
   ]
  },
  {
   "cell_type": "markdown",
   "id": "33fe04bf02c66464",
   "metadata": {},
   "source": [
    "# Create Data Pipeline"
   ]
  },
  {
   "cell_type": "code",
   "execution_count": 15,
   "id": "d5033cfb5d0ae58c",
   "metadata": {
    "ExecuteTime": {
     "end_time": "2024-05-26T15:44:21.296818Z",
     "start_time": "2024-05-26T15:44:21.088382Z"
    }
   },
   "outputs": [],
   "source": [
    "data = tf.data.Dataset.list_files('./data/s1/*.mpg')\n",
    "data = data.shuffle(500, reshuffle_each_iteration=False)\n",
    "data = data.map(mappable_function)\n",
    "data = data.padded_batch(2, padded_shapes=([75, None, None, None], [40]))\n",
    "data = data.prefetch(tf.data.AUTOTUNE)\n",
    "train = data.take(450)\n",
    "test = data.skip(450)"
   ]
  },
  {
   "cell_type": "code",
   "execution_count": 16,
   "id": "98c4612fb2bae8ab",
   "metadata": {
    "ExecuteTime": {
     "end_time": "2024-05-26T15:44:21.952658Z",
     "start_time": "2024-05-26T15:44:21.939961Z"
    }
   },
   "outputs": [
    {
     "data": {
      "text/plain": [
       "50"
      ]
     },
     "execution_count": 16,
     "metadata": {},
     "output_type": "execute_result"
    }
   ],
   "source": [
    "len(test)"
   ]
  },
  {
   "cell_type": "code",
   "execution_count": 17,
   "id": "ae2f03a07cf27112",
   "metadata": {
    "ExecuteTime": {
     "end_time": "2024-05-26T15:44:24.662634Z",
     "start_time": "2024-05-26T15:44:23.187174Z"
    }
   },
   "outputs": [],
   "source": [
    "frames, alignments = data.as_numpy_iterator().next()"
   ]
  },
  {
   "cell_type": "code",
   "execution_count": 18,
   "id": "d9df4bbb49118f1e",
   "metadata": {
    "ExecuteTime": {
     "end_time": "2024-05-26T15:44:24.707779Z",
     "start_time": "2024-05-26T15:44:24.697030Z"
    }
   },
   "outputs": [
    {
     "data": {
      "text/plain": [
       "2"
      ]
     },
     "execution_count": 18,
     "metadata": {},
     "output_type": "execute_result"
    }
   ],
   "source": [
    "len(frames)"
   ]
  },
  {
   "cell_type": "code",
   "execution_count": 19,
   "id": "1fef23270019611f",
   "metadata": {
    "ExecuteTime": {
     "end_time": "2024-05-26T15:44:26.790234Z",
     "start_time": "2024-05-26T15:44:24.876940Z"
    }
   },
   "outputs": [],
   "source": [
    "val = data.as_numpy_iterator().next()"
   ]
  },
  {
   "cell_type": "code",
   "execution_count": 20,
   "id": "d2c396bcc5f7628",
   "metadata": {
    "ExecuteTime": {
     "end_time": "2024-05-26T15:44:27.110939Z",
     "start_time": "2024-05-26T15:44:27.079280Z"
    }
   },
   "outputs": [
    {
     "data": {
      "text/plain": [
       "array([[[[[1.4448025 ],\n",
       "          [1.4448025 ],\n",
       "          [1.4086825 ],\n",
       "          ...,\n",
       "          [0.36120063],\n",
       "          [0.28896052],\n",
       "          [0.28896052]],\n",
       "\n",
       "         [[1.4448025 ],\n",
       "          [1.4448025 ],\n",
       "          [1.4086825 ],\n",
       "          ...,\n",
       "          [0.36120063],\n",
       "          [0.28896052],\n",
       "          [0.28896052]],\n",
       "\n",
       "         [[1.4809226 ],\n",
       "          [1.4809226 ],\n",
       "          [1.4448025 ],\n",
       "          ...,\n",
       "          [0.3973207 ],\n",
       "          [0.32508057],\n",
       "          [0.32508057]],\n",
       "\n",
       "         ...,\n",
       "\n",
       "         [[0.9752417 ],\n",
       "          [0.9752417 ],\n",
       "          [0.9752417 ],\n",
       "          ...,\n",
       "          [0.07224013],\n",
       "          [0.07224013],\n",
       "          [0.07224013]],\n",
       "\n",
       "         [[0.9752417 ],\n",
       "          [0.9752417 ],\n",
       "          [0.9752417 ],\n",
       "          ...,\n",
       "          [0.03612006],\n",
       "          [0.03612006],\n",
       "          [0.03612006]],\n",
       "\n",
       "         [[0.9752417 ],\n",
       "          [0.9752417 ],\n",
       "          [0.9752417 ],\n",
       "          ...,\n",
       "          [0.03612006],\n",
       "          [0.03612006],\n",
       "          [0.03612006]]],\n",
       "\n",
       "\n",
       "        [[[1.4448025 ],\n",
       "          [1.4448025 ],\n",
       "          [1.4448025 ],\n",
       "          ...,\n",
       "          [0.36120063],\n",
       "          [0.32508057],\n",
       "          [0.32508057]],\n",
       "\n",
       "         [[1.4448025 ],\n",
       "          [1.4448025 ],\n",
       "          [1.4809226 ],\n",
       "          ...,\n",
       "          [0.36120063],\n",
       "          [0.32508057],\n",
       "          [0.32508057]],\n",
       "\n",
       "         [[1.4809226 ],\n",
       "          [1.4809226 ],\n",
       "          [1.4809226 ],\n",
       "          ...,\n",
       "          [0.32508057],\n",
       "          [0.28896052],\n",
       "          [0.28896052]],\n",
       "\n",
       "         ...,\n",
       "\n",
       "         [[0.9752417 ],\n",
       "          [0.9752417 ],\n",
       "          [0.9752417 ],\n",
       "          ...,\n",
       "          [0.10836019],\n",
       "          [0.07224013],\n",
       "          [0.07224013]],\n",
       "\n",
       "         [[0.9752417 ],\n",
       "          [0.9752417 ],\n",
       "          [0.9752417 ],\n",
       "          ...,\n",
       "          [0.07224013],\n",
       "          [0.03612006],\n",
       "          [0.03612006]],\n",
       "\n",
       "         [[0.9752417 ],\n",
       "          [0.9752417 ],\n",
       "          [0.9752417 ],\n",
       "          ...,\n",
       "          [0.07224013],\n",
       "          [0.03612006],\n",
       "          [0.03612006]]],\n",
       "\n",
       "\n",
       "        [[[1.4448025 ],\n",
       "          [1.4448025 ],\n",
       "          [1.4809226 ],\n",
       "          ...,\n",
       "          [0.36120063],\n",
       "          [0.32508057],\n",
       "          [0.32508057]],\n",
       "\n",
       "         [[1.4086825 ],\n",
       "          [1.4448025 ],\n",
       "          [1.5170426 ],\n",
       "          ...,\n",
       "          [0.36120063],\n",
       "          [0.32508057],\n",
       "          [0.32508057]],\n",
       "\n",
       "         [[1.4448025 ],\n",
       "          [1.4448025 ],\n",
       "          [1.4809226 ],\n",
       "          ...,\n",
       "          [0.36120063],\n",
       "          [0.32508057],\n",
       "          [0.32508057]],\n",
       "\n",
       "         ...,\n",
       "\n",
       "         [[1.0113618 ],\n",
       "          [1.0113618 ],\n",
       "          [0.9752417 ],\n",
       "          ...,\n",
       "          [0.14448026],\n",
       "          [0.07224013],\n",
       "          [0.07224013]],\n",
       "\n",
       "         [[1.0113618 ],\n",
       "          [1.0113618 ],\n",
       "          [0.9752417 ],\n",
       "          ...,\n",
       "          [0.07224013],\n",
       "          [0.03612006],\n",
       "          [0.03612006]],\n",
       "\n",
       "         [[1.0113618 ],\n",
       "          [1.0113618 ],\n",
       "          [0.9752417 ],\n",
       "          ...,\n",
       "          [0.03612006],\n",
       "          [0.        ],\n",
       "          [0.        ]]],\n",
       "\n",
       "\n",
       "        ...,\n",
       "\n",
       "\n",
       "        [[[1.3725624 ],\n",
       "          [1.3725624 ],\n",
       "          [1.4086825 ],\n",
       "          ...,\n",
       "          [0.36120063],\n",
       "          [0.36120063],\n",
       "          [0.36120063]],\n",
       "\n",
       "         [[1.3725624 ],\n",
       "          [1.3725624 ],\n",
       "          [1.4086825 ],\n",
       "          ...,\n",
       "          [0.32508057],\n",
       "          [0.32508057],\n",
       "          [0.32508057]],\n",
       "\n",
       "         [[1.4448025 ],\n",
       "          [1.4448025 ],\n",
       "          [1.3725624 ],\n",
       "          ...,\n",
       "          [0.3973207 ],\n",
       "          [0.36120063],\n",
       "          [0.32508057]],\n",
       "\n",
       "         ...,\n",
       "\n",
       "         [[0.9752417 ],\n",
       "          [0.93912166],\n",
       "          [0.93912166],\n",
       "          ...,\n",
       "          [0.03612006],\n",
       "          [0.03612006],\n",
       "          [0.03612006]],\n",
       "\n",
       "         [[0.9752417 ],\n",
       "          [0.93912166],\n",
       "          [0.93912166],\n",
       "          ...,\n",
       "          [0.07224013],\n",
       "          [0.03612006],\n",
       "          [0.03612006]],\n",
       "\n",
       "         [[0.9752417 ],\n",
       "          [0.93912166],\n",
       "          [0.93912166],\n",
       "          ...,\n",
       "          [0.07224013],\n",
       "          [0.03612006],\n",
       "          [0.        ]]],\n",
       "\n",
       "\n",
       "        [[[1.4086825 ],\n",
       "          [1.4086825 ],\n",
       "          [1.4086825 ],\n",
       "          ...,\n",
       "          [0.36120063],\n",
       "          [0.36120063],\n",
       "          [0.32508057]],\n",
       "\n",
       "         [[1.4086825 ],\n",
       "          [1.4086825 ],\n",
       "          [1.4086825 ],\n",
       "          ...,\n",
       "          [0.32508057],\n",
       "          [0.32508057],\n",
       "          [0.28896052]],\n",
       "\n",
       "         [[1.4086825 ],\n",
       "          [1.4086825 ],\n",
       "          [1.3364424 ],\n",
       "          ...,\n",
       "          [0.36120063],\n",
       "          [0.36120063],\n",
       "          [0.32508057]],\n",
       "\n",
       "         ...,\n",
       "\n",
       "         [[0.9752417 ],\n",
       "          [0.9752417 ],\n",
       "          [1.0113618 ],\n",
       "          ...,\n",
       "          [0.        ],\n",
       "          [0.        ],\n",
       "          [0.        ]],\n",
       "\n",
       "         [[0.9752417 ],\n",
       "          [0.9752417 ],\n",
       "          [0.9752417 ],\n",
       "          ...,\n",
       "          [0.        ],\n",
       "          [0.        ],\n",
       "          [0.        ]],\n",
       "\n",
       "         [[0.93912166],\n",
       "          [0.93912166],\n",
       "          [0.9752417 ],\n",
       "          ...,\n",
       "          [0.        ],\n",
       "          [0.        ],\n",
       "          [0.        ]]],\n",
       "\n",
       "\n",
       "        [[[1.3725624 ],\n",
       "          [1.3725624 ],\n",
       "          [1.3725624 ],\n",
       "          ...,\n",
       "          [0.32508057],\n",
       "          [0.36120063],\n",
       "          [0.32508057]],\n",
       "\n",
       "         [[1.3725624 ],\n",
       "          [1.3725624 ],\n",
       "          [1.3725624 ],\n",
       "          ...,\n",
       "          [0.28896052],\n",
       "          [0.32508057],\n",
       "          [0.25284046]],\n",
       "\n",
       "         [[1.3364424 ],\n",
       "          [1.3364424 ],\n",
       "          [1.3003223 ],\n",
       "          ...,\n",
       "          [0.36120063],\n",
       "          [0.32508057],\n",
       "          [0.28896052]],\n",
       "\n",
       "         ...,\n",
       "\n",
       "         [[0.93912166],\n",
       "          [0.93912166],\n",
       "          [0.9752417 ],\n",
       "          ...,\n",
       "          [0.        ],\n",
       "          [9.210616  ],\n",
       "          [9.210616  ]],\n",
       "\n",
       "         [[0.93912166],\n",
       "          [0.93912166],\n",
       "          [0.93912166],\n",
       "          ...,\n",
       "          [0.03612006],\n",
       "          [0.        ],\n",
       "          [0.        ]],\n",
       "\n",
       "         [[0.9030016 ],\n",
       "          [0.9030016 ],\n",
       "          [0.93912166],\n",
       "          ...,\n",
       "          [0.03612006],\n",
       "          [0.        ],\n",
       "          [0.        ]]]],\n",
       "\n",
       "\n",
       "\n",
       "       [[[[1.5577686 ],\n",
       "          [1.5215415 ],\n",
       "          [1.4853142 ],\n",
       "          ...,\n",
       "          [0.36227176],\n",
       "          [0.36227176],\n",
       "          [0.36227176]],\n",
       "\n",
       "         [[1.6302229 ],\n",
       "          [1.4128599 ],\n",
       "          [1.4853142 ],\n",
       "          ...,\n",
       "          [0.36227176],\n",
       "          [0.36227176],\n",
       "          [0.36227176]],\n",
       "\n",
       "         [[1.4853142 ],\n",
       "          [1.4853142 ],\n",
       "          [1.5215415 ],\n",
       "          ...,\n",
       "          [0.39849895],\n",
       "          [0.3260446 ],\n",
       "          [0.3260446 ]],\n",
       "\n",
       "         ...,\n",
       "\n",
       "         [[1.0868154 ],\n",
       "          [1.0505881 ],\n",
       "          [1.0505881 ],\n",
       "          ...,\n",
       "          [0.14490871],\n",
       "          [0.14490871],\n",
       "          [0.14490871]],\n",
       "\n",
       "         [[1.0505881 ],\n",
       "          [1.0505881 ],\n",
       "          [1.0505881 ],\n",
       "          ...,\n",
       "          [0.10868153],\n",
       "          [0.10868153],\n",
       "          [0.10868153]],\n",
       "\n",
       "         [[1.0505881 ],\n",
       "          [1.0505881 ],\n",
       "          [1.0505881 ],\n",
       "          ...,\n",
       "          [0.10868153],\n",
       "          [0.10868153],\n",
       "          [0.10868153]]],\n",
       "\n",
       "\n",
       "        [[[1.449087  ],\n",
       "          [1.3766327 ],\n",
       "          [1.4853142 ],\n",
       "          ...,\n",
       "          [0.36227176],\n",
       "          [0.36227176],\n",
       "          [0.36227176]],\n",
       "\n",
       "         [[1.449087  ],\n",
       "          [1.3766327 ],\n",
       "          [1.4128599 ],\n",
       "          ...,\n",
       "          [0.36227176],\n",
       "          [0.36227176],\n",
       "          [0.36227176]],\n",
       "\n",
       "         [[1.4853142 ],\n",
       "          [1.4853142 ],\n",
       "          [1.449087  ],\n",
       "          ...,\n",
       "          [0.36227176],\n",
       "          [0.36227176],\n",
       "          [0.36227176]],\n",
       "\n",
       "         ...,\n",
       "\n",
       "         [[1.0505881 ],\n",
       "          [1.0143609 ],\n",
       "          [1.0143609 ],\n",
       "          ...,\n",
       "          [0.14490871],\n",
       "          [0.10868153],\n",
       "          [0.10868153]],\n",
       "\n",
       "         [[1.0143609 ],\n",
       "          [1.0143609 ],\n",
       "          [1.0143609 ],\n",
       "          ...,\n",
       "          [0.10868153],\n",
       "          [0.07245436],\n",
       "          [0.07245436]],\n",
       "\n",
       "         [[1.0143609 ],\n",
       "          [1.0143609 ],\n",
       "          [1.0143609 ],\n",
       "          ...,\n",
       "          [0.07245436],\n",
       "          [0.07245436],\n",
       "          [0.03622718]]],\n",
       "\n",
       "\n",
       "        [[[1.4128599 ],\n",
       "          [1.3404056 ],\n",
       "          [1.449087  ],\n",
       "          ...,\n",
       "          [0.3260446 ],\n",
       "          [0.36227176],\n",
       "          [0.36227176]],\n",
       "\n",
       "         [[1.4128599 ],\n",
       "          [1.2679513 ],\n",
       "          [1.449087  ],\n",
       "          ...,\n",
       "          [0.3260446 ],\n",
       "          [0.36227176],\n",
       "          [0.36227176]],\n",
       "\n",
       "         [[1.4853142 ],\n",
       "          [1.4853142 ],\n",
       "          [1.4128599 ],\n",
       "          ...,\n",
       "          [0.39849895],\n",
       "          [0.36227176],\n",
       "          [0.36227176]],\n",
       "\n",
       "         ...,\n",
       "\n",
       "         [[1.0505881 ],\n",
       "          [1.0143609 ],\n",
       "          [1.0143609 ],\n",
       "          ...,\n",
       "          [0.18113588],\n",
       "          [0.14490871],\n",
       "          [0.14490871]],\n",
       "\n",
       "         [[1.0143609 ],\n",
       "          [1.0143609 ],\n",
       "          [1.0143609 ],\n",
       "          ...,\n",
       "          [0.14490871],\n",
       "          [0.14490871],\n",
       "          [0.14490871]],\n",
       "\n",
       "         [[1.0143609 ],\n",
       "          [1.0143609 ],\n",
       "          [1.0143609 ],\n",
       "          ...,\n",
       "          [0.10868153],\n",
       "          [0.10868153],\n",
       "          [0.10868153]]],\n",
       "\n",
       "\n",
       "        ...,\n",
       "\n",
       "\n",
       "        [[[1.5577686 ],\n",
       "          [1.5215415 ],\n",
       "          [1.3404056 ],\n",
       "          ...,\n",
       "          [0.36227176],\n",
       "          [0.36227176],\n",
       "          [0.36227176]],\n",
       "\n",
       "         [[1.6302229 ],\n",
       "          [1.449087  ],\n",
       "          [1.3404056 ],\n",
       "          ...,\n",
       "          [0.36227176],\n",
       "          [0.36227176],\n",
       "          [0.36227176]],\n",
       "\n",
       "         [[1.449087  ],\n",
       "          [1.449087  ],\n",
       "          [1.3766327 ],\n",
       "          ...,\n",
       "          [0.36227176],\n",
       "          [0.36227176],\n",
       "          [0.36227176]],\n",
       "\n",
       "         ...,\n",
       "\n",
       "         [[1.0143609 ],\n",
       "          [1.0143609 ],\n",
       "          [1.0143609 ],\n",
       "          ...,\n",
       "          [0.18113588],\n",
       "          [0.14490871],\n",
       "          [0.10868153]],\n",
       "\n",
       "         [[1.0143609 ],\n",
       "          [1.0143609 ],\n",
       "          [1.0143609 ],\n",
       "          ...,\n",
       "          [0.14490871],\n",
       "          [0.14490871],\n",
       "          [0.10868153]],\n",
       "\n",
       "         [[1.0143609 ],\n",
       "          [1.0143609 ],\n",
       "          [0.9781338 ],\n",
       "          ...,\n",
       "          [0.10868153],\n",
       "          [0.10868153],\n",
       "          [0.07245436]]],\n",
       "\n",
       "\n",
       "        [[[1.5215415 ],\n",
       "          [1.4853142 ],\n",
       "          [1.3766327 ],\n",
       "          ...,\n",
       "          [0.36227176],\n",
       "          [0.36227176],\n",
       "          [0.36227176]],\n",
       "\n",
       "         [[1.5577686 ],\n",
       "          [1.4853142 ],\n",
       "          [1.4128599 ],\n",
       "          ...,\n",
       "          [0.36227176],\n",
       "          [0.36227176],\n",
       "          [0.36227176]],\n",
       "\n",
       "         [[1.4128599 ],\n",
       "          [1.4128599 ],\n",
       "          [1.4128599 ],\n",
       "          ...,\n",
       "          [0.36227176],\n",
       "          [0.36227176],\n",
       "          [0.36227176]],\n",
       "\n",
       "         ...,\n",
       "\n",
       "         [[1.0143609 ],\n",
       "          [1.0143609 ],\n",
       "          [1.0143609 ],\n",
       "          ...,\n",
       "          [0.14490871],\n",
       "          [0.14490871],\n",
       "          [0.10868153]],\n",
       "\n",
       "         [[1.0143609 ],\n",
       "          [1.0143609 ],\n",
       "          [1.0143609 ],\n",
       "          ...,\n",
       "          [0.14490871],\n",
       "          [0.10868153],\n",
       "          [0.07245436]],\n",
       "\n",
       "         [[1.0143609 ],\n",
       "          [1.0143609 ],\n",
       "          [0.9781338 ],\n",
       "          ...,\n",
       "          [0.10868153],\n",
       "          [0.07245436],\n",
       "          [0.07245436]]],\n",
       "\n",
       "\n",
       "        [[[1.4853142 ],\n",
       "          [1.4853142 ],\n",
       "          [1.4128599 ],\n",
       "          ...,\n",
       "          [0.36227176],\n",
       "          [0.36227176],\n",
       "          [0.36227176]],\n",
       "\n",
       "         [[1.4128599 ],\n",
       "          [1.4853142 ],\n",
       "          [1.449087  ],\n",
       "          ...,\n",
       "          [0.36227176],\n",
       "          [0.36227176],\n",
       "          [0.36227176]],\n",
       "\n",
       "         [[1.4128599 ],\n",
       "          [1.4128599 ],\n",
       "          [1.4128599 ],\n",
       "          ...,\n",
       "          [0.39849895],\n",
       "          [0.36227176],\n",
       "          [0.36227176]],\n",
       "\n",
       "         ...,\n",
       "\n",
       "         [[1.0143609 ],\n",
       "          [1.0143609 ],\n",
       "          [1.0143609 ],\n",
       "          ...,\n",
       "          [0.14490871],\n",
       "          [0.14490871],\n",
       "          [0.10868153]],\n",
       "\n",
       "         [[1.0143609 ],\n",
       "          [1.0143609 ],\n",
       "          [1.0143609 ],\n",
       "          ...,\n",
       "          [0.14490871],\n",
       "          [0.10868153],\n",
       "          [0.07245436]],\n",
       "\n",
       "         [[1.0143609 ],\n",
       "          [1.0143609 ],\n",
       "          [1.0143609 ],\n",
       "          ...,\n",
       "          [0.10868153],\n",
       "          [0.07245436],\n",
       "          [0.07245436]]]]], dtype=float32)"
      ]
     },
     "execution_count": 20,
     "metadata": {},
     "output_type": "execute_result"
    }
   ],
   "source": [
    "val[0]"
   ]
  },
  {
   "cell_type": "code",
   "execution_count": 21,
   "id": "ac6468fbf1b53d2f",
   "metadata": {
    "ExecuteTime": {
     "end_time": "2024-05-26T15:44:28.785856Z",
     "start_time": "2024-05-26T15:44:28.769496Z"
    }
   },
   "outputs": [
    {
     "data": {
      "text/plain": [
       "(75, 46, 140, 1)"
      ]
     },
     "execution_count": 21,
     "metadata": {},
     "output_type": "execute_result"
    }
   ],
   "source": [
    "val[0][0].shape"
   ]
  },
  {
   "cell_type": "code",
   "execution_count": 22,
   "id": "8d8772a921aa1305",
   "metadata": {
    "ExecuteTime": {
     "end_time": "2024-05-26T15:44:29.772649Z",
     "start_time": "2024-05-26T15:44:29.761890Z"
    }
   },
   "outputs": [],
   "source": [
    "processed_frames = [(frame.squeeze(axis=-1)).astype(np.uint8) for frame in val[0][0]]"
   ]
  },
  {
   "cell_type": "code",
   "execution_count": 23,
   "id": "449d474d021ad4b0",
   "metadata": {
    "ExecuteTime": {
     "end_time": "2024-05-26T15:44:31.431571Z",
     "start_time": "2024-05-26T15:44:31.252637Z"
    }
   },
   "outputs": [],
   "source": [
    "imageio.mimsave('./animation.gif', processed_frames, fps=10)"
   ]
  },
  {
   "cell_type": "code",
   "execution_count": 24,
   "id": "ce6d42ed5be156e1",
   "metadata": {
    "ExecuteTime": {
     "end_time": "2024-05-26T15:44:32.951111Z",
     "start_time": "2024-05-26T15:44:32.410540Z"
    }
   },
   "outputs": [
    {
     "data": {
      "text/plain": [
       "<matplotlib.image.AxesImage at 0x133c68d30>"
      ]
     },
     "execution_count": 24,
     "metadata": {},
     "output_type": "execute_result"
    },
    {
     "data": {
      "image/png": "[encoded data removed]",
      "text/plain": [
       "<Figure size 640x480 with 1 Axes>"
      ]
     },
     "metadata": {},
     "output_type": "display_data"
    }
   ],
   "source": [
    "plt.imshow(val[0][0][35])"
   ]
  },
  {
   "cell_type": "code",
   "execution_count": 25,
   "id": "10392782bde03f9",
   "metadata": {
    "ExecuteTime": {
     "end_time": "2024-05-26T15:44:33.980513Z",
     "start_time": "2024-05-26T15:44:33.896474Z"
    }
   },
   "outputs": [
    {
     "data": {
      "text/plain": [
       "<tf.Tensor: shape=(), dtype=string, numpy=b'bin white in m seven again'>"
      ]
     },
     "execution_count": 25,
     "metadata": {},
     "output_type": "execute_result"
    }
   ],
   "source": [
    "tf.strings.reduce_join([num_to_char(word) for word in val[1][0]])"
   ]
  },
  {
   "cell_type": "markdown",
   "id": "239e4504f06143d7",
   "metadata": {},
   "source": [
    "# Design the Deep Neural Network"
   ]
  },
  {
   "cell_type": "code",
   "execution_count": 26,
   "id": "f8feb25dbab7b325",
   "metadata": {
    "ExecuteTime": {
     "end_time": "2024-05-26T15:49:09.200363Z",
     "start_time": "2024-05-26T15:49:09.195096Z"
    }
   },
   "outputs": [],
   "source": [
    "from tensorflow.keras.models import Sequential\n",
    "from tensorflow.keras.layers import Conv3D, LSTM, Dense, Dropout, Bidirectional, MaxPool3D, Activation, Reshape, SpatialDropout3D, BatchNormalization, TimeDistributed, Flatten\n",
    "from tensorflow.keras.optimizers import Adam\n",
    "from tensorflow.keras.callbacks import ModelCheckpoint, LearningRateScheduler"
   ]
  },
  {
   "cell_type": "code",
   "execution_count": 27,
   "id": "4ad59e85c2b62642",
   "metadata": {
    "ExecuteTime": {
     "end_time": "2024-05-26T15:44:39.003483Z",
     "start_time": "2024-05-26T15:44:36.980489Z"
    }
   },
   "outputs": [
    {
     "data": {
      "text/plain": [
       "(75, 46, 140, 1)"
      ]
     },
     "execution_count": 27,
     "metadata": {},
     "output_type": "execute_result"
    }
   ],
   "source": [
    "data.as_numpy_iterator().next()[0][0].shape"
   ]
  },
  {
   "cell_type": "code",
   "execution_count": 28,
   "id": "f47a3902372d4cb1",
   "metadata": {
    "ExecuteTime": {
     "end_time": "2024-05-26T15:44:44.407988Z",
     "start_time": "2024-05-26T15:44:40.591783Z"
    }
   },
   "outputs": [],
   "source": [
    "model = Sequential()\n",
    "model.add(Conv3D(128, 3, input_shape=(75,46,140,1), padding='same'))\n",
    "model.add(Activation('relu'))\n",
    "model.add(MaxPool3D((1,2,2)))\n",
    "\n",
    "model.add(Conv3D(256, 3, padding='same'))\n",
    "model.add(Activation('relu'))\n",
    "model.add(MaxPool3D((1,2,2)))\n",
    "\n",
    "model.add(Conv3D(75, 3, padding='same'))\n",
    "model.add(Activation('relu'))\n",
    "model.add(MaxPool3D((1,2,2)))\n",
    "\n",
    "model.add(TimeDistributed(Flatten()))\n",
    "\n",
    "model.add(Bidirectional(LSTM(128, kernel_initializer='Orthogonal', return_sequences=True)))\n",
    "model.add(Dropout(.5))\n",
    "\n",
    "model.add(Bidirectional(LSTM(128, kernel_initializer='Orthogonal', return_sequences=True)))\n",
    "model.add(Dropout(.5))\n",
    "\n",
    "model.add(Dense(char_to_num.vocabulary_size()+1, kernel_initializer='he_normal', activation='softmax'))"
   ]
  },
  {
   "cell_type": "code",
   "execution_count": 29,
   "id": "c0f547a5967bd770",
   "metadata": {
    "ExecuteTime": {
     "end_time": "2024-05-26T15:44:49.280459Z",
     "start_time": "2024-05-26T15:44:49.182391Z"
    }
   },
   "outputs": [
    {
     "name": "stdout",
     "output_type": "stream",
     "text": [
      "Model: \"sequential\"\n",
      "_________________________________________________________________\n",
      " Layer (type)                Output Shape              Param #   \n",
      "=================================================================\n",
      " conv3d (Conv3D)             (None, 75, 46, 140, 128)  3584      \n",
      "                                                                 \n",
      " activation (Activation)     (None, 75, 46, 140, 128)  0         \n",
      "                                                                 \n",
      " max_pooling3d (MaxPooling3D  (None, 75, 23, 70, 128)  0         \n",
      " )                                                               \n",
      "                                                                 \n",
      " conv3d_1 (Conv3D)           (None, 75, 23, 70, 256)   884992    \n",
      "                                                                 \n",
      " activation_1 (Activation)   (None, 75, 23, 70, 256)   0         \n",
      "                                                                 \n",
      " max_pooling3d_1 (MaxPooling  (None, 75, 11, 35, 256)  0         \n",
      " 3D)                                                             \n",
      "                                                                 \n",
      " conv3d_2 (Conv3D)           (None, 75, 11, 35, 75)    518475    \n",
      "                                                                 \n",
      " activation_2 (Activation)   (None, 75, 11, 35, 75)    0         \n",
      "                                                                 \n",
      " max_pooling3d_2 (MaxPooling  (None, 75, 5, 17, 75)    0         \n",
      " 3D)                                                             \n",
      "                                                                 \n",
      " time_distributed (TimeDistr  (None, 75, 6375)         0         \n",
      " ibuted)                                                         \n",
      "                                                                 \n",
      " bidirectional (Bidirectiona  (None, 75, 256)          6660096   \n",
      " l)                                                              \n",
      "                                                                 \n",
      " dropout (Dropout)           (None, 75, 256)           0         \n",
      "                                                                 \n",
      " bidirectional_1 (Bidirectio  (None, 75, 256)          394240    \n",
      " nal)                                                            \n",
      "                                                                 \n",
      " dropout_1 (Dropout)         (None, 75, 256)           0         \n",
      "                                                                 \n",
      " dense (Dense)               (None, 75, 41)            10537     \n",
      "                                                                 \n",
      "=================================================================\n",
      "Total params: 8,471,924\n",
      "Trainable params: 8,471,924\n",
      "Non-trainable params: 0\n",
      "_________________________________________________________________\n"
     ]
    }
   ],
   "source": [
    "model.summary()"
   ]
  },
  {
   "cell_type": "code",
   "execution_count": 30,
   "id": "dc388dc80234dfdd",
   "metadata": {
    "ExecuteTime": {
     "end_time": "2024-05-26T15:45:01.344342Z",
     "start_time": "2024-05-26T15:44:50.834713Z"
    }
   },
   "outputs": [
    {
     "name": "stdout",
     "output_type": "stream",
     "text": [
      "1/1 [==============================] - 5s 5s/step\n"
     ]
    }
   ],
   "source": [
    "yhat = model.predict(val[0])"
   ]
  },
  {
   "cell_type": "code",
   "execution_count": 31,
   "id": "a1ed356219607848",
   "metadata": {
    "ExecuteTime": {
     "end_time": "2024-05-26T15:45:04.095241Z",
     "start_time": "2024-05-26T15:45:03.888576Z"
    }
   },
   "outputs": [
    {
     "data": {
      "text/plain": [
       "<tf.Tensor: shape=(), dtype=string, numpy=b'wwwwwwwwwwwwwwwwwwwwwwwwwwwwwwwwwwwwwwwwwwwwbwwwwwwwwwwwwwwwwwwwwwwwwwwwwb6'>"
      ]
     },
     "execution_count": 31,
     "metadata": {},
     "output_type": "execute_result"
    }
   ],
   "source": [
    "tf.strings.reduce_join([num_to_char(x) for x in tf.argmax(yhat[0],axis=1)])"
   ]
  },
  {
   "cell_type": "code",
   "execution_count": 32,
   "id": "2d4c2118bce140ab",
   "metadata": {
    "ExecuteTime": {
     "end_time": "2024-05-26T15:45:05.826274Z",
     "start_time": "2024-05-26T15:45:05.709543Z"
    }
   },
   "outputs": [
    {
     "data": {
      "text/plain": [
       "<tf.Tensor: shape=(), dtype=string, numpy=b'wwwwwwwwwwwwwwwwwwwwwwwwwwwwwwwwwwwwwwwwwwwwbwwwwwwwwwwwwwwwwwwwwwwwwwwwwb6'>"
      ]
     },
     "execution_count": 32,
     "metadata": {},
     "output_type": "execute_result"
    }
   ],
   "source": [
    "tf.strings.reduce_join([num_to_char(tf.argmax(x)) for x in yhat[0]])"
   ]
  },
  {
   "cell_type": "code",
   "execution_count": 33,
   "id": "aa453a2da09046c3",
   "metadata": {
    "ExecuteTime": {
     "end_time": "2024-05-26T15:45:06.590937Z",
     "start_time": "2024-05-26T15:45:06.577809Z"
    }
   },
   "outputs": [
    {
     "data": {
      "text/plain": [
       "(None, 75, 46, 140, 1)"
      ]
     },
     "execution_count": 33,
     "metadata": {},
     "output_type": "execute_result"
    }
   ],
   "source": [
    "model.input_shape"
   ]
  },
  {
   "cell_type": "code",
   "execution_count": 34,
   "id": "ef1b723d25ed2b5e",
   "metadata": {
    "ExecuteTime": {
     "end_time": "2024-05-26T15:45:08.152560Z",
     "start_time": "2024-05-26T15:45:08.142148Z"
    }
   },
   "outputs": [
    {
     "data": {
      "text/plain": [
       "(None, 75, 41)"
      ]
     },
     "execution_count": 34,
     "metadata": {},
     "output_type": "execute_result"
    }
   ],
   "source": [
    "model.output_shape"
   ]
  },
  {
   "cell_type": "markdown",
   "id": "f4db5c303b7dab41",
   "metadata": {},
   "source": [
    "# Set Training Options and Train the Model"
   ]
  },
  {
   "cell_type": "code",
   "execution_count": 35,
   "id": "ce7df2d8882c304f",
   "metadata": {
    "ExecuteTime": {
     "end_time": "2024-05-26T15:45:10.281191Z",
     "start_time": "2024-05-26T15:45:10.274367Z"
    }
   },
   "outputs": [],
   "source": [
    "def scheduler(epoch, lr):\n",
    "    if epoch < 30:\n",
    "        return lr\n",
    "    else:\n",
    "        return lr * tf.math.exp(-0.1)"
   ]
  },
  {
   "cell_type": "markdown",
   "id": "ffe797805adb7037",
   "metadata": {},
   "source": []
  },
  {
   "cell_type": "code",
   "execution_count": 36,
   "id": "a282c58e62e016dc",
   "metadata": {
    "ExecuteTime": {
     "end_time": "2024-05-26T15:45:13.075513Z",
     "start_time": "2024-05-26T15:45:13.060829Z"
    }
   },
   "outputs": [],
   "source": [
    "def CTCLoss(y_true, y_pred):\n",
    "    batch_len = tf.cast(tf.shape(y_true)[0], dtype='int64')\n",
    "    input_length = tf.cast(tf.shape(y_pred)[1], dtype='int64')\n",
    "    label_length = tf.cast(tf.shape(y_true)[1], dtype='int64')\n",
    "    \n",
    "    input_length = input_length * tf.ones(shape=(batch_len, 1), dtype='int64')\n",
    "    label_length = label_length * tf.ones(shape=(batch_len, 1), dtype='int64')\n",
    "    \n",
    "    loss = tf.keras.backend.ctc_batch_cost(y_true, y_pred, input_length, label_length)\n",
    "    return loss"
   ]
  },
  {
   "cell_type": "code",
   "execution_count": 37,
   "id": "356d0cead4988207",
   "metadata": {
    "ExecuteTime": {
     "end_time": "2024-05-26T15:45:13.813095Z",
     "start_time": "2024-05-26T15:45:13.798171Z"
    }
   },
   "outputs": [],
   "source": [
    "class ProduceExample(tf.keras.callbacks.Callback):\n",
    "    def __init__(self,dataset) -> None:\n",
    "        self.dataset = dataset.as_numpy_iterator()\n",
    "    \n",
    "    def on_epoch_end(self,epoch, logs=None) -> None:\n",
    "        data = self.dataset.next()\n",
    "        yhat = self.model.predict(data[0])\n",
    "        decoded = tf.keras.backend.ctc_decode(yhat, [75,75], greedy=False)[0][0].numpy()\n",
    "        for i in range(len(yhat)):\n",
    "            print('Original:', tf.strings.reduce_join(num_to_char(data[1][i])).numpy().decode('utf-8'))\n",
    "            print('Prediction:', tf.strings.reduce_join(num_to_char(decoded[i])).numpy().decode('utf-8'))\n",
    "            print('~'*100)"
   ]
  },
  {
   "cell_type": "code",
   "execution_count": 38,
   "id": "2886a348e3d77e01",
   "metadata": {
    "ExecuteTime": {
     "end_time": "2024-05-26T15:45:14.852939Z",
     "start_time": "2024-05-26T15:45:14.827563Z"
    }
   },
   "outputs": [],
   "source": [
    "model.compile(optimizer=Adam(learning_rate=0.0001), loss=CTCLoss)"
   ]
  },
  {
   "cell_type": "code",
   "execution_count": 40,
   "id": "66bc85bdf7dba83f",
   "metadata": {
    "ExecuteTime": {
     "end_time": "2024-05-26T15:45:16.811790Z",
     "start_time": "2024-05-26T15:45:16.803398Z"
    }
   },
   "outputs": [],
   "source": [
    "checkpoint_callback = ModelCheckpoint(os.path.join('models','checkpoint'), monitor = 'loss', save_weights_only=True)"
   ]
  },
  {
   "cell_type": "code",
   "execution_count": 41,
   "id": "979d9c1d7fad99a0",
   "metadata": {
    "ExecuteTime": {
     "end_time": "2024-05-26T15:45:17.392536Z",
     "start_time": "2024-05-26T15:45:17.385142Z"
    }
   },
   "outputs": [],
   "source": [
    "schedule_callback = LearningRateScheduler(scheduler)"
   ]
  },
  {
   "cell_type": "code",
   "execution_count": 42,
   "id": "f8e38f3e8cf1e07d",
   "metadata": {
    "ExecuteTime": {
     "end_time": "2024-05-26T15:45:18.052759Z",
     "start_time": "2024-05-26T15:45:18.018548Z"
    }
   },
   "outputs": [],
   "source": [
    "example_callback = ProduceExample(data)"
   ]
  },
  {
   "cell_type": "code",
   "execution_count": 43,
   "id": "132b8b9659303658",
   "metadata": {
    "ExecuteTime": {
     "end_time": "2024-05-26T15:45:47.816887Z",
     "start_time": "2024-05-26T15:45:18.906122Z"
    }
   },
   "outputs": [
    {
     "name": "stdout",
     "output_type": "stream",
     "text": [
      "Epoch 1/100\n",
      "  1/450 [..............................] - ETA: 7:14:50 - loss: 233.0831"
     ]
    },
    {
     "ename": "KeyboardInterrupt",
     "evalue": "",
     "output_type": "error",
     "traceback": [
      "\u001b[0;31m---------------------------------------------------------------------------\u001b[0m",
      "\u001b[0;31mKeyboardInterrupt\u001b[0m                         Traceback (most recent call last)",
      "Cell \u001b[0;32mIn[43], line 1\u001b[0m\n\u001b[0;32m----> 1\u001b[0m \u001b[43mmodel\u001b[49m\u001b[38;5;241;43m.\u001b[39;49m\u001b[43mfit\u001b[49m\u001b[43m(\u001b[49m\u001b[43mtrain\u001b[49m\u001b[43m,\u001b[49m\u001b[43m \u001b[49m\u001b[43mvalidation_data\u001b[49m\u001b[43m \u001b[49m\u001b[38;5;241;43m=\u001b[39;49m\u001b[43m \u001b[49m\u001b[43mtest\u001b[49m\u001b[43m,\u001b[49m\u001b[43m \u001b[49m\u001b[43mepochs\u001b[49m\u001b[38;5;241;43m=\u001b[39;49m\u001b[38;5;241;43m100\u001b[39;49m\u001b[43m,\u001b[49m\u001b[43m \u001b[49m\u001b[43mcallbacks\u001b[49m\u001b[38;5;241;43m=\u001b[39;49m\u001b[43m[\u001b[49m\u001b[43mcheckpoint_callback\u001b[49m\u001b[43m,\u001b[49m\u001b[43m \u001b[49m\u001b[43mschedule_callback\u001b[49m\u001b[43m,\u001b[49m\u001b[43m \u001b[49m\u001b[43mexample_callback\u001b[49m\u001b[43m]\u001b[49m\u001b[43m)\u001b[49m\n",
      "File \u001b[0;32m/Library/Frameworks/Python.framework/Versions/3.10/lib/python3.10/site-packages/keras/utils/traceback_utils.py:65\u001b[0m, in \u001b[0;36mfilter_traceback.<locals>.error_handler\u001b[0;34m(*args, **kwargs)\u001b[0m\n\u001b[1;32m     63\u001b[0m filtered_tb \u001b[38;5;241m=\u001b[39m \u001b[38;5;28;01mNone\u001b[39;00m\n\u001b[1;32m     64\u001b[0m \u001b[38;5;28;01mtry\u001b[39;00m:\n\u001b[0;32m---> 65\u001b[0m     \u001b[38;5;28;01mreturn\u001b[39;00m \u001b[43mfn\u001b[49m\u001b[43m(\u001b[49m\u001b[38;5;241;43m*\u001b[39;49m\u001b[43margs\u001b[49m\u001b[43m,\u001b[49m\u001b[43m \u001b[49m\u001b[38;5;241;43m*\u001b[39;49m\u001b[38;5;241;43m*\u001b[39;49m\u001b[43mkwargs\u001b[49m\u001b[43m)\u001b[49m\n\u001b[1;32m     66\u001b[0m \u001b[38;5;28;01mexcept\u001b[39;00m \u001b[38;5;167;01mException\u001b[39;00m \u001b[38;5;28;01mas\u001b[39;00m e:\n\u001b[1;32m     67\u001b[0m     filtered_tb \u001b[38;5;241m=\u001b[39m _process_traceback_frames(e\u001b[38;5;241m.\u001b[39m__traceback__)\n",
      "File \u001b[0;32m/Library/Frameworks/Python.framework/Versions/3.10/lib/python3.10/site-packages/keras/engine/training.py:1564\u001b[0m, in \u001b[0;36mModel.fit\u001b[0;34m(self, x, y, batch_size, epochs, verbose, callbacks, validation_split, validation_data, shuffle, class_weight, sample_weight, initial_epoch, steps_per_epoch, validation_steps, validation_batch_size, validation_freq, max_queue_size, workers, use_multiprocessing)\u001b[0m\n\u001b[1;32m   1556\u001b[0m \u001b[38;5;28;01mwith\u001b[39;00m tf\u001b[38;5;241m.\u001b[39mprofiler\u001b[38;5;241m.\u001b[39mexperimental\u001b[38;5;241m.\u001b[39mTrace(\n\u001b[1;32m   1557\u001b[0m     \u001b[38;5;124m\"\u001b[39m\u001b[38;5;124mtrain\u001b[39m\u001b[38;5;124m\"\u001b[39m,\n\u001b[1;32m   1558\u001b[0m     epoch_num\u001b[38;5;241m=\u001b[39mepoch,\n\u001b[0;32m   (...)\u001b[0m\n\u001b[1;32m   1561\u001b[0m     _r\u001b[38;5;241m=\u001b[39m\u001b[38;5;241m1\u001b[39m,\n\u001b[1;32m   1562\u001b[0m ):\n\u001b[1;32m   1563\u001b[0m     callbacks\u001b[38;5;241m.\u001b[39mon_train_batch_begin(step)\n\u001b[0;32m-> 1564\u001b[0m     tmp_logs \u001b[38;5;241m=\u001b[39m \u001b[38;5;28;43mself\u001b[39;49m\u001b[38;5;241;43m.\u001b[39;49m\u001b[43mtrain_function\u001b[49m\u001b[43m(\u001b[49m\u001b[43miterator\u001b[49m\u001b[43m)\u001b[49m\n\u001b[1;32m   1565\u001b[0m     \u001b[38;5;28;01mif\u001b[39;00m data_handler\u001b[38;5;241m.\u001b[39mshould_sync:\n\u001b[1;32m   1566\u001b[0m         context\u001b[38;5;241m.\u001b[39masync_wait()\n",
      "File \u001b[0;32m/Library/Frameworks/Python.framework/Versions/3.10/lib/python3.10/site-packages/tensorflow/python/util/traceback_utils.py:150\u001b[0m, in \u001b[0;36mfilter_traceback.<locals>.error_handler\u001b[0;34m(*args, **kwargs)\u001b[0m\n\u001b[1;32m    148\u001b[0m filtered_tb \u001b[38;5;241m=\u001b[39m \u001b[38;5;28;01mNone\u001b[39;00m\n\u001b[1;32m    149\u001b[0m \u001b[38;5;28;01mtry\u001b[39;00m:\n\u001b[0;32m--> 150\u001b[0m   \u001b[38;5;28;01mreturn\u001b[39;00m \u001b[43mfn\u001b[49m\u001b[43m(\u001b[49m\u001b[38;5;241;43m*\u001b[39;49m\u001b[43margs\u001b[49m\u001b[43m,\u001b[49m\u001b[43m \u001b[49m\u001b[38;5;241;43m*\u001b[39;49m\u001b[38;5;241;43m*\u001b[39;49m\u001b[43mkwargs\u001b[49m\u001b[43m)\u001b[49m\n\u001b[1;32m    151\u001b[0m \u001b[38;5;28;01mexcept\u001b[39;00m \u001b[38;5;167;01mException\u001b[39;00m \u001b[38;5;28;01mas\u001b[39;00m e:\n\u001b[1;32m    152\u001b[0m   filtered_tb \u001b[38;5;241m=\u001b[39m _process_traceback_frames(e\u001b[38;5;241m.\u001b[39m__traceback__)\n",
      "File \u001b[0;32m/Library/Frameworks/Python.framework/Versions/3.10/lib/python3.10/site-packages/tensorflow/python/eager/def_function.py:915\u001b[0m, in \u001b[0;36mFunction.__call__\u001b[0;34m(self, *args, **kwds)\u001b[0m\n\u001b[1;32m    912\u001b[0m compiler \u001b[38;5;241m=\u001b[39m \u001b[38;5;124m\"\u001b[39m\u001b[38;5;124mxla\u001b[39m\u001b[38;5;124m\"\u001b[39m \u001b[38;5;28;01mif\u001b[39;00m \u001b[38;5;28mself\u001b[39m\u001b[38;5;241m.\u001b[39m_jit_compile \u001b[38;5;28;01melse\u001b[39;00m \u001b[38;5;124m\"\u001b[39m\u001b[38;5;124mnonXla\u001b[39m\u001b[38;5;124m\"\u001b[39m\n\u001b[1;32m    914\u001b[0m \u001b[38;5;28;01mwith\u001b[39;00m OptionalXlaContext(\u001b[38;5;28mself\u001b[39m\u001b[38;5;241m.\u001b[39m_jit_compile):\n\u001b[0;32m--> 915\u001b[0m   result \u001b[38;5;241m=\u001b[39m \u001b[38;5;28;43mself\u001b[39;49m\u001b[38;5;241;43m.\u001b[39;49m\u001b[43m_call\u001b[49m\u001b[43m(\u001b[49m\u001b[38;5;241;43m*\u001b[39;49m\u001b[43margs\u001b[49m\u001b[43m,\u001b[49m\u001b[43m \u001b[49m\u001b[38;5;241;43m*\u001b[39;49m\u001b[38;5;241;43m*\u001b[39;49m\u001b[43mkwds\u001b[49m\u001b[43m)\u001b[49m\n\u001b[1;32m    917\u001b[0m new_tracing_count \u001b[38;5;241m=\u001b[39m \u001b[38;5;28mself\u001b[39m\u001b[38;5;241m.\u001b[39mexperimental_get_tracing_count()\n\u001b[1;32m    918\u001b[0m without_tracing \u001b[38;5;241m=\u001b[39m (tracing_count \u001b[38;5;241m==\u001b[39m new_tracing_count)\n",
      "File \u001b[0;32m/Library/Frameworks/Python.framework/Versions/3.10/lib/python3.10/site-packages/tensorflow/python/eager/def_function.py:947\u001b[0m, in \u001b[0;36mFunction._call\u001b[0;34m(self, *args, **kwds)\u001b[0m\n\u001b[1;32m    944\u001b[0m   \u001b[38;5;28mself\u001b[39m\u001b[38;5;241m.\u001b[39m_lock\u001b[38;5;241m.\u001b[39mrelease()\n\u001b[1;32m    945\u001b[0m   \u001b[38;5;66;03m# In this case we have created variables on the first call, so we run the\u001b[39;00m\n\u001b[1;32m    946\u001b[0m   \u001b[38;5;66;03m# defunned version which is guaranteed to never create variables.\u001b[39;00m\n\u001b[0;32m--> 947\u001b[0m   \u001b[38;5;28;01mreturn\u001b[39;00m \u001b[38;5;28;43mself\u001b[39;49m\u001b[38;5;241;43m.\u001b[39;49m\u001b[43m_stateless_fn\u001b[49m\u001b[43m(\u001b[49m\u001b[38;5;241;43m*\u001b[39;49m\u001b[43margs\u001b[49m\u001b[43m,\u001b[49m\u001b[43m \u001b[49m\u001b[38;5;241;43m*\u001b[39;49m\u001b[38;5;241;43m*\u001b[39;49m\u001b[43mkwds\u001b[49m\u001b[43m)\u001b[49m  \u001b[38;5;66;03m# pylint: disable=not-callable\u001b[39;00m\n\u001b[1;32m    948\u001b[0m \u001b[38;5;28;01melif\u001b[39;00m \u001b[38;5;28mself\u001b[39m\u001b[38;5;241m.\u001b[39m_stateful_fn \u001b[38;5;129;01mis\u001b[39;00m \u001b[38;5;129;01mnot\u001b[39;00m \u001b[38;5;28;01mNone\u001b[39;00m:\n\u001b[1;32m    949\u001b[0m   \u001b[38;5;66;03m# Release the lock early so that multiple threads can perform the call\u001b[39;00m\n\u001b[1;32m    950\u001b[0m   \u001b[38;5;66;03m# in parallel.\u001b[39;00m\n\u001b[1;32m    951\u001b[0m   \u001b[38;5;28mself\u001b[39m\u001b[38;5;241m.\u001b[39m_lock\u001b[38;5;241m.\u001b[39mrelease()\n",
      "File \u001b[0;32m/Library/Frameworks/Python.framework/Versions/3.10/lib/python3.10/site-packages/tensorflow/python/eager/function.py:2496\u001b[0m, in \u001b[0;36mFunction.__call__\u001b[0;34m(self, *args, **kwargs)\u001b[0m\n\u001b[1;32m   2493\u001b[0m \u001b[38;5;28;01mwith\u001b[39;00m \u001b[38;5;28mself\u001b[39m\u001b[38;5;241m.\u001b[39m_lock:\n\u001b[1;32m   2494\u001b[0m   (graph_function,\n\u001b[1;32m   2495\u001b[0m    filtered_flat_args) \u001b[38;5;241m=\u001b[39m \u001b[38;5;28mself\u001b[39m\u001b[38;5;241m.\u001b[39m_maybe_define_function(args, kwargs)\n\u001b[0;32m-> 2496\u001b[0m \u001b[38;5;28;01mreturn\u001b[39;00m \u001b[43mgraph_function\u001b[49m\u001b[38;5;241;43m.\u001b[39;49m\u001b[43m_call_flat\u001b[49m\u001b[43m(\u001b[49m\n\u001b[1;32m   2497\u001b[0m \u001b[43m    \u001b[49m\u001b[43mfiltered_flat_args\u001b[49m\u001b[43m,\u001b[49m\u001b[43m \u001b[49m\u001b[43mcaptured_inputs\u001b[49m\u001b[38;5;241;43m=\u001b[39;49m\u001b[43mgraph_function\u001b[49m\u001b[38;5;241;43m.\u001b[39;49m\u001b[43mcaptured_inputs\u001b[49m\u001b[43m)\u001b[49m\n",
      "File \u001b[0;32m/Library/Frameworks/Python.framework/Versions/3.10/lib/python3.10/site-packages/tensorflow/python/eager/function.py:1862\u001b[0m, in \u001b[0;36mConcreteFunction._call_flat\u001b[0;34m(self, args, captured_inputs, cancellation_manager)\u001b[0m\n\u001b[1;32m   1858\u001b[0m possible_gradient_type \u001b[38;5;241m=\u001b[39m gradients_util\u001b[38;5;241m.\u001b[39mPossibleTapeGradientTypes(args)\n\u001b[1;32m   1859\u001b[0m \u001b[38;5;28;01mif\u001b[39;00m (possible_gradient_type \u001b[38;5;241m==\u001b[39m gradients_util\u001b[38;5;241m.\u001b[39mPOSSIBLE_GRADIENT_TYPES_NONE\n\u001b[1;32m   1860\u001b[0m     \u001b[38;5;129;01mand\u001b[39;00m executing_eagerly):\n\u001b[1;32m   1861\u001b[0m   \u001b[38;5;66;03m# No tape is watching; skip to running the function.\u001b[39;00m\n\u001b[0;32m-> 1862\u001b[0m   \u001b[38;5;28;01mreturn\u001b[39;00m \u001b[38;5;28mself\u001b[39m\u001b[38;5;241m.\u001b[39m_build_call_outputs(\u001b[38;5;28;43mself\u001b[39;49m\u001b[38;5;241;43m.\u001b[39;49m\u001b[43m_inference_function\u001b[49m\u001b[38;5;241;43m.\u001b[39;49m\u001b[43mcall\u001b[49m\u001b[43m(\u001b[49m\n\u001b[1;32m   1863\u001b[0m \u001b[43m      \u001b[49m\u001b[43mctx\u001b[49m\u001b[43m,\u001b[49m\u001b[43m \u001b[49m\u001b[43margs\u001b[49m\u001b[43m,\u001b[49m\u001b[43m \u001b[49m\u001b[43mcancellation_manager\u001b[49m\u001b[38;5;241;43m=\u001b[39;49m\u001b[43mcancellation_manager\u001b[49m\u001b[43m)\u001b[49m)\n\u001b[1;32m   1864\u001b[0m forward_backward \u001b[38;5;241m=\u001b[39m \u001b[38;5;28mself\u001b[39m\u001b[38;5;241m.\u001b[39m_select_forward_and_backward_functions(\n\u001b[1;32m   1865\u001b[0m     args,\n\u001b[1;32m   1866\u001b[0m     possible_gradient_type,\n\u001b[1;32m   1867\u001b[0m     executing_eagerly)\n\u001b[1;32m   1868\u001b[0m forward_function, args_with_tangents \u001b[38;5;241m=\u001b[39m forward_backward\u001b[38;5;241m.\u001b[39mforward()\n",
      "File \u001b[0;32m/Library/Frameworks/Python.framework/Versions/3.10/lib/python3.10/site-packages/tensorflow/python/eager/function.py:499\u001b[0m, in \u001b[0;36m_EagerDefinedFunction.call\u001b[0;34m(self, ctx, args, cancellation_manager)\u001b[0m\n\u001b[1;32m    497\u001b[0m \u001b[38;5;28;01mwith\u001b[39;00m _InterpolateFunctionError(\u001b[38;5;28mself\u001b[39m):\n\u001b[1;32m    498\u001b[0m   \u001b[38;5;28;01mif\u001b[39;00m cancellation_manager \u001b[38;5;129;01mis\u001b[39;00m \u001b[38;5;28;01mNone\u001b[39;00m:\n\u001b[0;32m--> 499\u001b[0m     outputs \u001b[38;5;241m=\u001b[39m \u001b[43mexecute\u001b[49m\u001b[38;5;241;43m.\u001b[39;49m\u001b[43mexecute\u001b[49m\u001b[43m(\u001b[49m\n\u001b[1;32m    500\u001b[0m \u001b[43m        \u001b[49m\u001b[38;5;28;43mstr\u001b[39;49m\u001b[43m(\u001b[49m\u001b[38;5;28;43mself\u001b[39;49m\u001b[38;5;241;43m.\u001b[39;49m\u001b[43msignature\u001b[49m\u001b[38;5;241;43m.\u001b[39;49m\u001b[43mname\u001b[49m\u001b[43m)\u001b[49m\u001b[43m,\u001b[49m\n\u001b[1;32m    501\u001b[0m \u001b[43m        \u001b[49m\u001b[43mnum_outputs\u001b[49m\u001b[38;5;241;43m=\u001b[39;49m\u001b[38;5;28;43mself\u001b[39;49m\u001b[38;5;241;43m.\u001b[39;49m\u001b[43m_num_outputs\u001b[49m\u001b[43m,\u001b[49m\n\u001b[1;32m    502\u001b[0m \u001b[43m        \u001b[49m\u001b[43minputs\u001b[49m\u001b[38;5;241;43m=\u001b[39;49m\u001b[43margs\u001b[49m\u001b[43m,\u001b[49m\n\u001b[1;32m    503\u001b[0m \u001b[43m        \u001b[49m\u001b[43mattrs\u001b[49m\u001b[38;5;241;43m=\u001b[39;49m\u001b[43mattrs\u001b[49m\u001b[43m,\u001b[49m\n\u001b[1;32m    504\u001b[0m \u001b[43m        \u001b[49m\u001b[43mctx\u001b[49m\u001b[38;5;241;43m=\u001b[39;49m\u001b[43mctx\u001b[49m\u001b[43m)\u001b[49m\n\u001b[1;32m    505\u001b[0m   \u001b[38;5;28;01melse\u001b[39;00m:\n\u001b[1;32m    506\u001b[0m     outputs \u001b[38;5;241m=\u001b[39m execute\u001b[38;5;241m.\u001b[39mexecute_with_cancellation(\n\u001b[1;32m    507\u001b[0m         \u001b[38;5;28mstr\u001b[39m(\u001b[38;5;28mself\u001b[39m\u001b[38;5;241m.\u001b[39msignature\u001b[38;5;241m.\u001b[39mname),\n\u001b[1;32m    508\u001b[0m         num_outputs\u001b[38;5;241m=\u001b[39m\u001b[38;5;28mself\u001b[39m\u001b[38;5;241m.\u001b[39m_num_outputs,\n\u001b[0;32m   (...)\u001b[0m\n\u001b[1;32m    511\u001b[0m         ctx\u001b[38;5;241m=\u001b[39mctx,\n\u001b[1;32m    512\u001b[0m         cancellation_manager\u001b[38;5;241m=\u001b[39mcancellation_manager)\n",
      "File \u001b[0;32m/Library/Frameworks/Python.framework/Versions/3.10/lib/python3.10/site-packages/tensorflow/python/eager/execute.py:54\u001b[0m, in \u001b[0;36mquick_execute\u001b[0;34m(op_name, num_outputs, inputs, attrs, ctx, name)\u001b[0m\n\u001b[1;32m     52\u001b[0m \u001b[38;5;28;01mtry\u001b[39;00m:\n\u001b[1;32m     53\u001b[0m   ctx\u001b[38;5;241m.\u001b[39mensure_initialized()\n\u001b[0;32m---> 54\u001b[0m   tensors \u001b[38;5;241m=\u001b[39m \u001b[43mpywrap_tfe\u001b[49m\u001b[38;5;241;43m.\u001b[39;49m\u001b[43mTFE_Py_Execute\u001b[49m\u001b[43m(\u001b[49m\u001b[43mctx\u001b[49m\u001b[38;5;241;43m.\u001b[39;49m\u001b[43m_handle\u001b[49m\u001b[43m,\u001b[49m\u001b[43m \u001b[49m\u001b[43mdevice_name\u001b[49m\u001b[43m,\u001b[49m\u001b[43m \u001b[49m\u001b[43mop_name\u001b[49m\u001b[43m,\u001b[49m\n\u001b[1;32m     55\u001b[0m \u001b[43m                                      \u001b[49m\u001b[43minputs\u001b[49m\u001b[43m,\u001b[49m\u001b[43m \u001b[49m\u001b[43mattrs\u001b[49m\u001b[43m,\u001b[49m\u001b[43m \u001b[49m\u001b[43mnum_outputs\u001b[49m\u001b[43m)\u001b[49m\n\u001b[1;32m     56\u001b[0m \u001b[38;5;28;01mexcept\u001b[39;00m core\u001b[38;5;241m.\u001b[39m_NotOkStatusException \u001b[38;5;28;01mas\u001b[39;00m e:\n\u001b[1;32m     57\u001b[0m   \u001b[38;5;28;01mif\u001b[39;00m name \u001b[38;5;129;01mis\u001b[39;00m \u001b[38;5;129;01mnot\u001b[39;00m \u001b[38;5;28;01mNone\u001b[39;00m:\n",
      "\u001b[0;31mKeyboardInterrupt\u001b[0m: "
     ]
    }
   ],
   "source": [
    "model.fit(train, validation_data = test, epochs=100, callbacks=[checkpoint_callback, schedule_callback, example_callback])"
   ]
  },
  {
   "cell_type": "markdown",
   "id": "032764bc",
   "metadata": {},
   "source": [
    "# Make Prediction"
   ]
  },
  {
   "cell_type": "code",
   "execution_count": 45,
   "id": "60f3ad5f1e7b8ae9",
   "metadata": {},
   "outputs": [
    {
     "data": {
      "text/plain": [
       "<tensorflow.python.checkpoint.checkpoint.CheckpointLoadStatus at 0x1375bb520>"
      ]
     },
     "execution_count": 45,
     "metadata": {},
     "output_type": "execute_result"
    }
   ],
   "source": [
    "model.load_weights('model/checkpoint')"
   ]
  },
  {
   "cell_type": "code",
   "execution_count": 48,
   "id": "a1512692",
   "metadata": {},
   "outputs": [],
   "source": [
    "test_data = data.as_numpy_iterator()"
   ]
  },
  {
   "cell_type": "code",
   "execution_count": 49,
   "id": "4c5e8aeb",
   "metadata": {},
   "outputs": [],
   "source": [
    "sample = test_data.next()"
   ]
  },
  {
   "cell_type": "code",
   "execution_count": 50,
   "id": "ed557d2d",
   "metadata": {},
   "outputs": [
    {
     "name": "stdout",
     "output_type": "stream",
     "text": [
      "1/1 [==============================] - 5s 5s/step\n"
     ]
    }
   ],
   "source": [
    "yhat = model.predict(sample[0])"
   ]
  },
  {
   "cell_type": "code",
   "execution_count": 51,
   "id": "fc05c08b",
   "metadata": {},
   "outputs": [
    {
     "name": "stdout",
     "output_type": "stream",
     "text": [
      "~~~~~~~~~~~~~~~~~~~~~~~~~~~~~~~~~~~~~~~~~~~~~~~~~~~~~~~~~~~~~~~~~~~~~~~~~~~~~~~~~~~~~~~~~~~~~~~~~~~~ REAL TEXT\n"
     ]
    },
    {
     "data": {
      "text/plain": [
       "[<tf.Tensor: shape=(), dtype=string, numpy=b'place green with z zero please'>,\n",
       " <tf.Tensor: shape=(), dtype=string, numpy=b'place green with l three again'>]"
      ]
     },
     "execution_count": 51,
     "metadata": {},
     "output_type": "execute_result"
    }
   ],
   "source": [
    "print('~'*100, 'REAL TEXT')\n",
    "[tf.strings.reduce_join([num_to_char(word) for word in sentence]) for sentence in sample[1]]"
   ]
  },
  {
   "cell_type": "code",
   "execution_count": 52,
   "id": "54224821",
   "metadata": {},
   "outputs": [],
   "source": [
    "decoded = tf.keras.backend.ctc_decode(yhat, input_length=[75,75], greedy=True)[0][0].numpy()"
   ]
  },
  {
   "cell_type": "code",
   "execution_count": 53,
   "id": "01746cf8",
   "metadata": {},
   "outputs": [
    {
     "name": "stdout",
     "output_type": "stream",
     "text": [
      "~~~~~~~~~~~~~~~~~~~~~~~~~~~~~~~~~~~~~~~~~~~~~~~~~~~~~~~~~~~~~~~~~~~~~~~~~~~~~~~~~~~~~~~~~~~~~~~~~~~~ PREDICTIONS\n"
     ]
    },
    {
     "data": {
      "text/plain": [
       "[<tf.Tensor: shape=(), dtype=string, numpy=b'place green with z z zero please'>,\n",
       " <tf.Tensor: shape=(), dtype=string, numpy=b'place green with l three again'>]"
      ]
     },
     "execution_count": 53,
     "metadata": {},
     "output_type": "execute_result"
    }
   ],
   "source": [
    "print('~'*100, 'PREDICTIONS')\n",
    "[tf.strings.reduce_join([num_to_char(word) for word in sentence]) for sentence in decoded]"
   ]
  },
  {
   "cell_type": "markdown",
   "id": "fc7b79b2",
   "metadata": {},
   "source": [
    "# Test on a Video"
   ]
  },
  {
   "cell_type": "code",
   "execution_count": 54,
   "id": "169de4e7",
   "metadata": {},
   "outputs": [],
   "source": [
    "sample = load_data(tf.convert_to_tensor('./data/s1/bbal6n.mpg'))"
   ]
  },
  {
   "cell_type": "code",
   "execution_count": 55,
   "id": "305cc4b8",
   "metadata": {},
   "outputs": [
    {
     "name": "stdout",
     "output_type": "stream",
     "text": [
      "~~~~~~~~~~~~~~~~~~~~~~~~~~~~~~~~~~~~~~~~~~~~~~~~~~~~~~~~~~~~~~~~~~~~~~~~~~~~~~~~~~~~~~~~~~~~~~~~~~~~ REAL TEXT\n"
     ]
    },
    {
     "data": {
      "text/plain": [
       "[<tf.Tensor: shape=(), dtype=string, numpy=b'bin blue at l six now'>]"
      ]
     },
     "execution_count": 55,
     "metadata": {},
     "output_type": "execute_result"
    }
   ],
   "source": [
    "print('~'*100, 'REAL TEXT')\n",
    "[tf.strings.reduce_join([num_to_char(word) for word in sentence]) for sentence in [sample[1]]]"
   ]
  },
  {
   "cell_type": "code",
   "execution_count": 56,
   "id": "ca674704",
   "metadata": {},
   "outputs": [
    {
     "name": "stdout",
     "output_type": "stream",
     "text": [
      "1/1 [==============================] - 2s 2s/step\n"
     ]
    }
   ],
   "source": [
    "yhat = model.predict(tf.expand_dims(sample[0], axis=0))"
   ]
  },
  {
   "cell_type": "code",
   "execution_count": 57,
   "id": "2f9a70ee",
   "metadata": {},
   "outputs": [],
   "source": [
    "decoded = tf.keras.backend.ctc_decode(yhat, input_length=[75], greedy=True)[0][0].numpy()"
   ]
  },
  {
   "cell_type": "code",
   "execution_count": 58,
   "id": "86e2f6f8",
   "metadata": {},
   "outputs": [
    {
     "name": "stdout",
     "output_type": "stream",
     "text": [
      "~~~~~~~~~~~~~~~~~~~~~~~~~~~~~~~~~~~~~~~~~~~~~~~~~~~~~~~~~~~~~~~~~~~~~~~~~~~~~~~~~~~~~~~~~~~~~~~~~~~~ PREDICTIONS\n"
     ]
    },
    {
     "data": {
      "text/plain": [
       "[<tf.Tensor: shape=(), dtype=string, numpy=b'bin blue at l six now'>]"
      ]
     },
     "execution_count": 58,
     "metadata": {},
     "output_type": "execute_result"
    }
   ],
   "source": [
    "print('~'*100, 'PREDICTIONS')\n",
    "[tf.strings.reduce_join([num_to_char(word) for word in sentence]) for sentence in decoded]"
   ]
  }
 ],
 "metadata": {
  "kernelspec": {
   "display_name": "Python 3",
   "language": "python",
   "name": "python3"
  },
  "language_info": {
   "codemirror_mode": {
    "name": "ipython",
    "version": 3
   },
   "file_extension": ".py",
   "mimetype": "text/x-python",
   "name": "python",
   "nbconvert_exporter": "python",
   "pygments_lexer": "ipython3",
   "version": "3.10.0"
  }
 },
 "nbformat": 4,
 "nbformat_minor": 5
}
